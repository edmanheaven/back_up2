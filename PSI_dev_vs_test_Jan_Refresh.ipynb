{
 "cells": [
  {
   "cell_type": "code",
   "execution_count": 1,
   "id": "a76acbdc",
   "metadata": {},
   "outputs": [],
   "source": [
    "import pandas as pd\n",
    "import numpy as np\n",
    "import matplotlib.pyplot as plt"
   ]
  },
  {
   "cell_type": "code",
   "execution_count": 2,
   "id": "a3005cf3",
   "metadata": {},
   "outputs": [],
   "source": [
    "data_filepath = r\"C:\\Users\\emanlangit\\Documents\\2025\\00 ACSIN\\Model Refresh\\XGB_only\\Two_Wheelers_only\\Raw_Data\\EDA_df.csv\"\n",
    "df_dev = pd.read_csv(data_filepath, delimiter = \",\")\n",
    "\n",
    "data_filepath_testcases = r\"C:\\Users\\emanlangit\\Documents\\2025\\00 ACSIN\\Model Refresh\\XGB_only\\Two_Wheelers_only\\Raw_Data\\SCM_Data_21-02-25_Rev_1.28_input.csv\"\n",
    "df_testcases = pd.read_csv(data_filepath_testcases, delimiter = \",\")"
   ]
  },
  {
   "cell_type": "code",
   "execution_count": 3,
   "id": "98d950fe-f0f7-4da4-b695-3ca90db4c394",
   "metadata": {},
   "outputs": [
    {
     "data": {
      "text/plain": [
       "(49681, 35)"
      ]
     },
     "execution_count": 3,
     "metadata": {},
     "output_type": "execute_result"
    }
   ],
   "source": [
    "df_dev = df_dev[df_dev.product_description == 'Two-Wheeler']\n",
    "df_dev = df_dev[df_dev['total_income'] >= 1000]\n",
    "df_dev = df_dev[df_dev['loan_account_no'] != 'TW01010103000002258833']\n",
    "\n",
    "df_dev.columns = df_dev.columns.str.lower()\n",
    "\n",
    "#standardize values capitalization\n",
    "df_dev = df_dev.map(lambda x: x.upper() if isinstance(x, str) else x)\n",
    "\n",
    "#remove trailing and leading spaces\n",
    "obj_cols = list(df_dev.select_dtypes('object'))\n",
    "df_dev[obj_cols] = df_dev[obj_cols].apply(lambda category: category.str.strip()) \n",
    "\n",
    "#remove spaces in between values, replace with underscore\n",
    "df_dev = df_dev.map(lambda x: '_'.join(x.split()) if isinstance(x, str) else x)\n",
    "df_dev.shape"
   ]
  },
  {
   "cell_type": "code",
   "execution_count": 4,
   "id": "9ec42865-0ba3-4012-9f7a-13d706b7349f",
   "metadata": {},
   "outputs": [
    {
     "data": {
      "text/plain": [
       "Index(['application_number', 'customer_no', 'product_description',\n",
       "       'loan_account_no', 'requested_loan_amount', 'original_emi_amount',\n",
       "       'res_years_at_current_city', 'res_resident_status', 'res_city',\n",
       "       'res_state', 'age', 'date_of_birth', 'manufacturer',\n",
       "       'down_payment_amount', 'total_income', 'branch_name', 'occupation_type',\n",
       "       'industry', 'interest_rate', 'number_of_installments',\n",
       "       'loan_asset_cost', 'bureau_score', 'asset_category', 'asset_model',\n",
       "       'dealer', 'branch_id', 'channel', 'final_sanctioned_amount',\n",
       "       'disbursal_amount', 'res_years_at_current_address', 'gender',\n",
       "       'marital_status', 'nature_of_business', 'years_in_occupation',\n",
       "       'loan_application_date'],\n",
       "      dtype='object')"
      ]
     },
     "execution_count": 4,
     "metadata": {},
     "output_type": "execute_result"
    }
   ],
   "source": [
    "df_dev.columns"
   ]
  },
  {
   "cell_type": "code",
   "execution_count": 5,
   "id": "5f7e0529-5f36-49c7-a05c-6fd0b3b01b42",
   "metadata": {},
   "outputs": [
    {
     "data": {
      "text/plain": [
       "(18623, 40)"
      ]
     },
     "execution_count": 5,
     "metadata": {},
     "output_type": "execute_result"
    }
   ],
   "source": [
    "df_testcases.shape"
   ]
  },
  {
   "cell_type": "code",
   "execution_count": 6,
   "id": "9fda3f68-13c6-46cf-b77f-9d56ae13ea7a",
   "metadata": {},
   "outputs": [
    {
     "data": {
      "text/plain": [
       "(6928, 40)"
      ]
     },
     "execution_count": 6,
     "metadata": {},
     "output_type": "execute_result"
    }
   ],
   "source": [
    "#test data reduce to valid LANs only\n",
    "temp_df_dev = df_dev.copy() #raw dev data\n",
    "temp_df_dev = temp_df_dev.rename(columns={'loan_account_no':'loan_account_no_og'}) #rename identifier\n",
    "new_col12m = df_testcases.copy() #raw test cases\n",
    "new_col12m = new_col12m.rename(columns={'LOAN_ACCOUNT_NO_og':'loan_account_no_og'}) #rename identifier\n",
    "new_col12m = new_col12m.dropna(subset =['loan_account_no_og']) #no missing LAN but with duplicate\n",
    "duplicated_A = new_col12m.duplicated(subset='loan_account_no_og', keep =False)\n",
    "tagged_LANs_result_no_dup = new_col12m.drop(new_col12m[duplicated_A].index)\n",
    "tagged_LANs_result_no_dup_TW = tagged_LANs_result_no_dup[tagged_LANs_result_no_dup.product_description == '2 Wheeler Loan']\n",
    "tagged_LANs_result_no_dup_TW.shape"
   ]
  },
  {
   "cell_type": "code",
   "execution_count": 7,
   "id": "82cd6d0b-c18a-4542-9787-fc10e44b60c9",
   "metadata": {},
   "outputs": [],
   "source": [
    "final_test_data = tagged_LANs_result_no_dup_TW.copy()\n",
    "\n",
    "final_test_data.columns = final_test_data.columns.str.lower()\n",
    "\n",
    "#standardize values capitalization\n",
    "final_test_data = final_test_data.map(lambda x: x.upper() if isinstance(x, str) else x)\n",
    "\n",
    "#remove trailing and leading spaces\n",
    "obj_cols = list(final_test_data.select_dtypes('object'))\n",
    "final_test_data[obj_cols] = final_test_data[obj_cols].apply(lambda category: category.str.strip()) \n",
    "\n",
    "#remove spaces in between values, replace with underscore\n",
    "final_test_data = final_test_data.map(lambda x: '_'.join(x.split()) if isinstance(x, str) else x)\n",
    "#final_test_data.info()"
   ]
  },
  {
   "cell_type": "code",
   "execution_count": 8,
   "id": "5d258306-f40d-46d5-9c9f-d302af109fe4",
   "metadata": {},
   "outputs": [
    {
     "data": {
      "text/plain": [
       "(6928, 40)"
      ]
     },
     "execution_count": 8,
     "metadata": {},
     "output_type": "execute_result"
    }
   ],
   "source": [
    "final_test_data.shape"
   ]
  },
  {
   "cell_type": "code",
   "execution_count": 9,
   "id": "c75836b5-7be5-48d5-b049-f5e384f5c4c8",
   "metadata": {},
   "outputs": [
    {
     "data": {
      "text/plain": [
       "Index(['loan_account_no', 'application_number', 'cifnumber', 'customer_number',\n",
       "       'application received date', 'product_description', 'judgement date',\n",
       "       'decision', 'user_comment', 'loan_account_no_og',\n",
       "       'loan_sanctioned_date', 'loan_amount', 'disbursal_date',\n",
       "       'loan_asset_cost', 'number_of_installments', 'channel',\n",
       "       'original_emi_amount', 'interest_rate', 'res_years_at_current_city',\n",
       "       'years_in_occupation', 'res_years_at_current_address',\n",
       "       'res_resident_status', 'res_city', 'res_state', 'age', 'date_of_birth',\n",
       "       'gender', 'manufacturer', 'down_payment_amount', 'asset_model',\n",
       "       'dealer', 'total_income', 'branch_name', 'occupation_type', 'industry',\n",
       "       'marital_status', 'nature_of_business', 'loan amount requested',\n",
       "       'bureau_score', 'd3_within12months'],\n",
       "      dtype='object')"
      ]
     },
     "execution_count": 9,
     "metadata": {},
     "output_type": "execute_result"
    }
   ],
   "source": [
    "final_test_data.columns"
   ]
  },
  {
   "cell_type": "code",
   "execution_count": 10,
   "id": "815b020c-d6ab-4fee-90e2-524dc03af819",
   "metadata": {},
   "outputs": [
    {
     "name": "stdout",
     "output_type": "stream",
     "text": [
      "Earliest date: 2023-01-01 00:00:00\n",
      "Ladev date: 2023-12-31 00:00:00\n"
     ]
    }
   ],
   "source": [
    "df_dev_appdate = df_dev['loan_application_date'].apply(lambda x: pd.to_datetime(x, format='%d-%m-%Y', errors = 'coerce'))\n",
    "print(f'Earliest date: {df_dev_appdate.min()}')\n",
    "print(f'Ladev date: {df_dev_appdate.max()}')"
   ]
  },
  {
   "cell_type": "code",
   "execution_count": 11,
   "id": "b2df6e67",
   "metadata": {},
   "outputs": [
    {
     "name": "stdout",
     "output_type": "stream",
     "text": [
      "Earliest date: 2024-01-01 00:00:00\n",
      "Latest date: 2024-02-28 00:00:00\n"
     ]
    }
   ],
   "source": [
    "df_test_appdate = final_test_data['application received date'].apply(lambda x: pd.to_datetime(x, format='%m/%d/%Y', errors = 'coerce'))\n",
    "print(f'Earliest date: {df_test_appdate.min()}')\n",
    "print(f'Latest date: {df_test_appdate.max()}')"
   ]
  },
  {
   "cell_type": "code",
   "execution_count": 12,
   "id": "099a7b57",
   "metadata": {},
   "outputs": [],
   "source": [
    "#df_dev = df_dev.dropna(subset = 'disbursal_amount')\n",
    "#df_dev = df_dev[df_dev.disbursal_amount != 0]\n",
    "\n",
    "df_test = final_test_data.copy()"
   ]
  },
  {
   "cell_type": "code",
   "execution_count": 35,
   "id": "526ab6dd",
   "metadata": {},
   "outputs": [],
   "source": [
    "df_dev['kind'] = \"dev\"\n",
    "df_test['kind'] = \"test\"\n",
    "\n",
    "df_full = pd.concat([df_dev,df_test])\n",
    "df_full['dp_ratio'] = df_full['down_payment_amount'] /df_full['loan_asset_cost']\n",
    "df_full['monthly_income'] = df_full['total_income'] /12\n",
    "\n",
    "#grouping asset_model - Jan ok\n",
    "text_list = ['SPLENDOR', 'ACCESS', 'BURGMAN', 'ACTIVA', 'NTORQ', 'JUPITER', 'HF', 'AVENIS']\n",
    "# Function to check and assign text or 'Others'\n",
    "def check_text(value):\n",
    "    value = value.replace('_', ' ')  # Replace underscores with spaces\n",
    "    for text in text_list:\n",
    "        if text in value:\n",
    "            return text\n",
    "    return 'OTHERS'\n",
    "\n",
    "# Create new column based on the function\n",
    "df_full['asset_model_grp'] = df_full['asset_model'].apply(check_text)"
   ]
  },
  {
   "cell_type": "code",
   "execution_count": 36,
   "id": "4b7e3a35-5402-4f22-bd81-1b27633f5894",
   "metadata": {},
   "outputs": [],
   "source": [
    "df = df_full.copy()"
   ]
  },
  {
   "cell_type": "code",
   "execution_count": 37,
   "id": "239fc1b6",
   "metadata": {},
   "outputs": [],
   "source": [
    "#df_segments\n",
    "df_b300 = df[df.kind == 'dev']\n",
    "df_300_749 = df[df.kind == 'test']"
   ]
  },
  {
   "cell_type": "code",
   "execution_count": 38,
   "id": "36c2e336",
   "metadata": {},
   "outputs": [
    {
     "name": "stdout",
     "output_type": "stream",
     "text": [
      " No. of rows below 300: 49681\n",
      " No. of rows 300-749: 6928\n"
     ]
    }
   ],
   "source": [
    "print(f' No. of rows below 300: {len(df_b300)}')\n",
    "print(f' No. of rows 300-749: {len(df_300_749)}')"
   ]
  },
  {
   "cell_type": "code",
   "execution_count": 39,
   "id": "75a05d2e",
   "metadata": {},
   "outputs": [],
   "source": [
    "#dfs to compare PSI\n",
    "working_df1 = df_b300\n",
    "working_df2 = df_300_749"
   ]
  },
  {
   "cell_type": "code",
   "execution_count": 32,
   "id": "b32832e6",
   "metadata": {},
   "outputs": [],
   "source": [
    "#bureau_score\n",
    "def bureau_score_bin(x):\n",
    "    try:\n",
    "        y = float(x)\n",
    "        \n",
    "        if y >= 750:\n",
    "            return 'g [750, Inf)'\n",
    "        elif y >= 731 and y <= 749:\n",
    "            return 'e [731,749]'\n",
    "        elif y >= 700 and y <= 730:\n",
    "            return 'd [700,730]'\n",
    "        elif y >= 680 and y <= 699:\n",
    "            return 'c [680,699]'\n",
    "        elif y >= 300 and y <= 679:\n",
    "            return 'b [300,679]'\n",
    "        elif y < 300:\n",
    "            return 'a NTC'        \n",
    "    except:\n",
    "        return x\n",
    "\n",
    "working_df1.loc[:, 'bureau_score_bin'] = working_df1['bureau_score'].apply(bureau_score_bin)\n",
    "t1_bureau_score = working_df1['bureau_score_bin'].value_counts().sort_index()\n",
    "\n",
    "working_df2.loc[:, 'bureau_score_bin'] = working_df2['bureau_score'].apply(bureau_score_bin)\n",
    "t2_bureau_score = working_df2['bureau_score_bin'].value_counts().sort_index()\n",
    "\n",
    "bureau_score_df = pd.DataFrame({f'Below 300':t1_bureau_score, \n",
    "                           f'300-749':t2_bureau_score})"
   ]
  },
  {
   "cell_type": "code",
   "execution_count": 19,
   "id": "91c6bbc0",
   "metadata": {},
   "outputs": [
    {
     "name": "stderr",
     "output_type": "stream",
     "text": [
      "C:\\Users\\emanlangit.AEONCREDIT\\AppData\\Local\\Temp\\ipykernel_17100\\3666455650.py:21: SettingWithCopyWarning: \n",
      "A value is trying to be set on a copy of a slice from a DataFrame.\n",
      "Try using .loc[row_indexer,col_indexer] = value instead\n",
      "\n",
      "See the caveats in the documentation: https://pandas.pydata.org/pandas-docs/stable/user_guide/indexing.html#returning-a-view-versus-a-copy\n",
      "  working_df1['dp_ratio_bin'] = working_df1['dp_ratio'].apply(dp_ratio_bin)\n",
      "C:\\Users\\emanlangit.AEONCREDIT\\AppData\\Local\\Temp\\ipykernel_17100\\3666455650.py:24: SettingWithCopyWarning: \n",
      "A value is trying to be set on a copy of a slice from a DataFrame.\n",
      "Try using .loc[row_indexer,col_indexer] = value instead\n",
      "\n",
      "See the caveats in the documentation: https://pandas.pydata.org/pandas-docs/stable/user_guide/indexing.html#returning-a-view-versus-a-copy\n",
      "  working_df2['dp_ratio_bin'] = working_df2['dp_ratio'].apply(dp_ratio_bin)\n"
     ]
    }
   ],
   "source": [
    "#dp ratio\n",
    "def dp_ratio_bin(x):\n",
    "    try:\n",
    "        y = float(x)\n",
    "        \n",
    "        if y >= 0.25:\n",
    "            return 'f [0.25, Inf)'\n",
    "        elif y >= 0.2 and y < 0.25:\n",
    "            return 'e [0.2,0.25)'\n",
    "        elif y >= 0.15 and y < 0.2:\n",
    "            return 'd [0.15,0.2)'\n",
    "        elif y >= 0.1 and y < 0.15:\n",
    "            return 'c [0.1,0.15)'\n",
    "        elif y >= 0.05 and y < 0.1:\n",
    "            return 'b [0.05,0.1)'\n",
    "        elif y < 0.05:\n",
    "            return 'a [-Inf,0.05)'        \n",
    "    except:\n",
    "        return x\n",
    "\n",
    "working_df1['dp_ratio_bin'] = working_df1['dp_ratio'].apply(dp_ratio_bin)\n",
    "t1_dpratio = working_df1['dp_ratio_bin'].value_counts().sort_index()\n",
    "\n",
    "working_df2['dp_ratio_bin'] = working_df2['dp_ratio'].apply(dp_ratio_bin)\n",
    "t2_dpratio = working_df2['dp_ratio_bin'].value_counts().sort_index()\n",
    "\n",
    "dpratio_df = pd.DataFrame({f'Below 300':t1_dpratio, \n",
    "                           f'300-749':t2_dpratio})"
   ]
  },
  {
   "cell_type": "code",
   "execution_count": 20,
   "id": "89a3baac",
   "metadata": {},
   "outputs": [
    {
     "name": "stderr",
     "output_type": "stream",
     "text": [
      "C:\\Users\\emanlangit.AEONCREDIT\\AppData\\Local\\Temp\\ipykernel_17100\\3271020287.py:23: SettingWithCopyWarning: \n",
      "A value is trying to be set on a copy of a slice from a DataFrame.\n",
      "Try using .loc[row_indexer,col_indexer] = value instead\n",
      "\n",
      "See the caveats in the documentation: https://pandas.pydata.org/pandas-docs/stable/user_guide/indexing.html#returning-a-view-versus-a-copy\n",
      "  working_df1['orig_emi_amt_bin'] = working_df1['original_emi_amount'].apply(orig_emi_amount_bin)\n",
      "C:\\Users\\emanlangit.AEONCREDIT\\AppData\\Local\\Temp\\ipykernel_17100\\3271020287.py:26: SettingWithCopyWarning: \n",
      "A value is trying to be set on a copy of a slice from a DataFrame.\n",
      "Try using .loc[row_indexer,col_indexer] = value instead\n",
      "\n",
      "See the caveats in the documentation: https://pandas.pydata.org/pandas-docs/stable/user_guide/indexing.html#returning-a-view-versus-a-copy\n",
      "  working_df2['orig_emi_amt_bin'] = working_df2['original_emi_amount'].apply(orig_emi_amount_bin)\n"
     ]
    }
   ],
   "source": [
    "#original_emi_amount\n",
    "def orig_emi_amount_bin(x):\n",
    "    try:\n",
    "        y = float(x)\n",
    "        \n",
    "        if y >= 5500:\n",
    "            return 'g [5500, Inf)'\n",
    "        elif y >= 5000 and y < 5500:\n",
    "            return 'f [5000,5500)'\n",
    "        elif y >= 4500 and y < 5000:\n",
    "            return 'e [4500,5000)'\n",
    "        elif y >= 4000 and y < 4500:\n",
    "            return 'd [4000,4500)'\n",
    "        elif y >= 3500 and y < 4000:\n",
    "            return 'c [3500,4000)'\n",
    "        elif y >= 3_000 and y < 3_500:\n",
    "            return 'b [3000,3500)'\n",
    "        elif y < 3_000:\n",
    "            return 'a [-Inf,3000)'        \n",
    "    except:\n",
    "        return x\n",
    "\n",
    "working_df1['orig_emi_amt_bin'] = working_df1['original_emi_amount'].apply(orig_emi_amount_bin)\n",
    "t1_orig_emi_amt = working_df1['orig_emi_amt_bin'].value_counts().sort_index()\n",
    "\n",
    "working_df2['orig_emi_amt_bin'] = working_df2['original_emi_amount'].apply(orig_emi_amount_bin)\n",
    "t2_orig_emi_amt = working_df2['orig_emi_amt_bin'].value_counts().sort_index()\n",
    "\n",
    "orig_emi_amt_df = pd.DataFrame({f'Below 300':t1_orig_emi_amt, \n",
    "                                f'300-749':t2_orig_emi_amt})"
   ]
  },
  {
   "cell_type": "code",
   "execution_count": 21,
   "id": "9e681077",
   "metadata": {},
   "outputs": [
    {
     "name": "stderr",
     "output_type": "stream",
     "text": [
      "C:\\Users\\emanlangit.AEONCREDIT\\AppData\\Local\\Temp\\ipykernel_17100\\2251460788.py:21: SettingWithCopyWarning: \n",
      "A value is trying to be set on a copy of a slice from a DataFrame.\n",
      "Try using .loc[row_indexer,col_indexer] = value instead\n",
      "\n",
      "See the caveats in the documentation: https://pandas.pydata.org/pandas-docs/stable/user_guide/indexing.html#returning-a-view-versus-a-copy\n",
      "  working_df1['down_payment_amount_bin'] = working_df1['down_payment_amount'].apply(down_pay_amt_bin)\n",
      "C:\\Users\\emanlangit.AEONCREDIT\\AppData\\Local\\Temp\\ipykernel_17100\\2251460788.py:24: SettingWithCopyWarning: \n",
      "A value is trying to be set on a copy of a slice from a DataFrame.\n",
      "Try using .loc[row_indexer,col_indexer] = value instead\n",
      "\n",
      "See the caveats in the documentation: https://pandas.pydata.org/pandas-docs/stable/user_guide/indexing.html#returning-a-view-versus-a-copy\n",
      "  working_df2['down_payment_amount_bin'] = working_df2['down_payment_amount'].apply(down_pay_amt_bin)\n"
     ]
    }
   ],
   "source": [
    "#down_payment_amount\n",
    "def down_pay_amt_bin(x):\n",
    "    try:\n",
    "        y = float(x)\n",
    "        \n",
    "        if y >= 20_000:\n",
    "            return 'f [20000, Inf)'\n",
    "        elif y >= 15000 and y < 20000:\n",
    "            return 'e [15000,20000)'\n",
    "        elif y >= 12000 and y < 15000:\n",
    "            return 'd [12000,15000)'\n",
    "        elif y >= 10_000 and y < 12_000:\n",
    "            return 'c [10000,12000)'\n",
    "        elif y >= 8_000 and y < 10_000:\n",
    "            return 'b [8000,10_000)'\n",
    "        elif y < 8_000:\n",
    "            return 'a [-Inf,8000)'        \n",
    "    except:\n",
    "        return x\n",
    "\n",
    "working_df1['down_payment_amount_bin'] = working_df1['down_payment_amount'].apply(down_pay_amt_bin)\n",
    "t1_down_pay_amt = working_df1['down_payment_amount_bin'].value_counts().sort_index()\n",
    "\n",
    "working_df2['down_payment_amount_bin'] = working_df2['down_payment_amount'].apply(down_pay_amt_bin)\n",
    "t2_down_pay_amt = working_df2['down_payment_amount_bin'].value_counts().sort_index()\n",
    "\n",
    "\n",
    "down_pay_amt_df = pd.DataFrame({f'Below 300':t1_down_pay_amt, \n",
    "                                f'300-749':t2_down_pay_amt})"
   ]
  },
  {
   "cell_type": "code",
   "execution_count": 22,
   "id": "7663857a",
   "metadata": {},
   "outputs": [
    {
     "name": "stderr",
     "output_type": "stream",
     "text": [
      "C:\\Users\\emanlangit.AEONCREDIT\\AppData\\Local\\Temp\\ipykernel_17100\\2967267195.py:23: SettingWithCopyWarning: \n",
      "A value is trying to be set on a copy of a slice from a DataFrame.\n",
      "Try using .loc[row_indexer,col_indexer] = value instead\n",
      "\n",
      "See the caveats in the documentation: https://pandas.pydata.org/pandas-docs/stable/user_guide/indexing.html#returning-a-view-versus-a-copy\n",
      "  working_df1['loan_asset_cost_bin'] = working_df1['loan_asset_cost'].apply(loan_asset_cost_bin)\n",
      "C:\\Users\\emanlangit.AEONCREDIT\\AppData\\Local\\Temp\\ipykernel_17100\\2967267195.py:26: SettingWithCopyWarning: \n",
      "A value is trying to be set on a copy of a slice from a DataFrame.\n",
      "Try using .loc[row_indexer,col_indexer] = value instead\n",
      "\n",
      "See the caveats in the documentation: https://pandas.pydata.org/pandas-docs/stable/user_guide/indexing.html#returning-a-view-versus-a-copy\n",
      "  working_df2['loan_asset_cost_bin'] = working_df2['loan_asset_cost'].apply(loan_asset_cost_bin)\n"
     ]
    }
   ],
   "source": [
    "#loan_asset_cost\n",
    "def loan_asset_cost_bin(x):\n",
    "    try:\n",
    "        y = float(x)\n",
    "        \n",
    "        if y >= 115_000:\n",
    "            return 'g [115K, Inf)'\n",
    "        elif y >= 110_000 and y < 115_000:\n",
    "            return 'f [110K,115K)'\n",
    "        elif y >= 105_000 and y < 110_000:\n",
    "            return 'e [105K,110K)'\n",
    "        elif y >= 100_000 and y < 105_000:\n",
    "            return 'd [100K,105K)'\n",
    "        elif y >= 95_000 and y < 100_000:\n",
    "            return 'c [95K,100K)'\n",
    "        elif y >= 90_000 and y < 95_000:\n",
    "            return 'b [90K,95K)'\n",
    "        elif y < 90_000:\n",
    "            return 'a [-Inf,90K)'        \n",
    "    except:\n",
    "        return x\n",
    "\n",
    "working_df1['loan_asset_cost_bin'] = working_df1['loan_asset_cost'].apply(loan_asset_cost_bin)\n",
    "t1_loan_asset_cost = working_df1['loan_asset_cost_bin'].value_counts().sort_index()\n",
    "\n",
    "working_df2['loan_asset_cost_bin'] = working_df2['loan_asset_cost'].apply(loan_asset_cost_bin)\n",
    "t2_loan_asset_cost = working_df2['loan_asset_cost_bin'].value_counts().sort_index()\n",
    "\n",
    "loan_asset_cost_df = pd.DataFrame({f'Below 300':t1_loan_asset_cost, \n",
    "                                f'300-749':t2_loan_asset_cost})"
   ]
  },
  {
   "cell_type": "code",
   "execution_count": 23,
   "id": "a5494d95",
   "metadata": {},
   "outputs": [
    {
     "name": "stderr",
     "output_type": "stream",
     "text": [
      "C:\\Users\\emanlangit.AEONCREDIT\\AppData\\Local\\Temp\\ipykernel_17100\\2397726341.py:25: SettingWithCopyWarning: \n",
      "A value is trying to be set on a copy of a slice from a DataFrame.\n",
      "Try using .loc[row_indexer,col_indexer] = value instead\n",
      "\n",
      "See the caveats in the documentation: https://pandas.pydata.org/pandas-docs/stable/user_guide/indexing.html#returning-a-view-versus-a-copy\n",
      "  working_df1['age_bin'] = working_df1['age'].apply(age_bin)\n",
      "C:\\Users\\emanlangit.AEONCREDIT\\AppData\\Local\\Temp\\ipykernel_17100\\2397726341.py:28: SettingWithCopyWarning: \n",
      "A value is trying to be set on a copy of a slice from a DataFrame.\n",
      "Try using .loc[row_indexer,col_indexer] = value instead\n",
      "\n",
      "See the caveats in the documentation: https://pandas.pydata.org/pandas-docs/stable/user_guide/indexing.html#returning-a-view-versus-a-copy\n",
      "  working_df2['age_bin'] = working_df2['age'].apply(age_bin)\n"
     ]
    }
   ],
   "source": [
    "#age\n",
    "def age_bin(x):\n",
    "    try:\n",
    "        y = float(x)\n",
    "        \n",
    "        if y >= 50:\n",
    "            return 'h [50, Inf)'\n",
    "        elif y >= 45 and y < 50:\n",
    "            return 'g [45,50)'\n",
    "        elif y >= 40 and y < 45:\n",
    "            return 'f [40,45)'\n",
    "        elif y >= 35 and y < 40:\n",
    "            return 'e [35,40)'\n",
    "        elif y >= 30 and y < 35:\n",
    "            return 'd [30,35)'\n",
    "        elif y >= 25 and y < 30:\n",
    "            return 'c [25,30)'\n",
    "        elif y >= 20 and y < 25:\n",
    "            return 'b [20,25)'\n",
    "        elif y < 20:\n",
    "            return 'a [-Inf,20)'        \n",
    "    except:\n",
    "        return x\n",
    "\n",
    "working_df1['age_bin'] = working_df1['age'].apply(age_bin)\n",
    "t1_age = working_df1['age_bin'].value_counts().sort_index()\n",
    "\n",
    "working_df2['age_bin'] = working_df2['age'].apply(age_bin)\n",
    "t2_age = working_df2['age_bin'].value_counts().sort_index()\n",
    "\n",
    "\n",
    "age_df = pd.DataFrame({f'Below 300':t1_age, \n",
    "                       f'300-749':t2_age})"
   ]
  },
  {
   "cell_type": "code",
   "execution_count": 24,
   "id": "7d11ebba",
   "metadata": {},
   "outputs": [
    {
     "name": "stderr",
     "output_type": "stream",
     "text": [
      "C:\\Users\\emanlangit.AEONCREDIT\\AppData\\Local\\Temp\\ipykernel_17100\\1476712543.py:17: SettingWithCopyWarning: \n",
      "A value is trying to be set on a copy of a slice from a DataFrame.\n",
      "Try using .loc[row_indexer,col_indexer] = value instead\n",
      "\n",
      "See the caveats in the documentation: https://pandas.pydata.org/pandas-docs/stable/user_guide/indexing.html#returning-a-view-versus-a-copy\n",
      "  working_df1['years_in_occupation_bin'] = working_df1['years_in_occupation'].apply(years_in_occup_bin)\n",
      "C:\\Users\\emanlangit.AEONCREDIT\\AppData\\Local\\Temp\\ipykernel_17100\\1476712543.py:20: SettingWithCopyWarning: \n",
      "A value is trying to be set on a copy of a slice from a DataFrame.\n",
      "Try using .loc[row_indexer,col_indexer] = value instead\n",
      "\n",
      "See the caveats in the documentation: https://pandas.pydata.org/pandas-docs/stable/user_guide/indexing.html#returning-a-view-versus-a-copy\n",
      "  working_df2['years_in_occupation_bin'] = working_df2['years_in_occupation'].apply(years_in_occup_bin)\n"
     ]
    }
   ],
   "source": [
    "#years_in_occupation\n",
    "def years_in_occup_bin(x):\n",
    "    try:\n",
    "        y = float(x)\n",
    "        \n",
    "        if y > 999_999:\n",
    "            return 'h missing'\n",
    "        elif y >= 6 and y < 1_000_000:\n",
    "            return 'c [6,Inf)'\n",
    "        elif y >= 5 and y < 6:\n",
    "            return 'b [5,6)'\n",
    "        elif y < 5:\n",
    "            return 'a [-Inf,5)'        \n",
    "    except:\n",
    "        return x\n",
    "\n",
    "working_df1['years_in_occupation_bin'] = working_df1['years_in_occupation'].apply(years_in_occup_bin)\n",
    "t1_years_in_occup = working_df1['years_in_occupation_bin'].value_counts().sort_index()\n",
    "\n",
    "working_df2['years_in_occupation_bin'] = working_df2['years_in_occupation'].apply(years_in_occup_bin)\n",
    "t2_years_in_occup = working_df2['years_in_occupation_bin'].value_counts().sort_index()\n",
    "\n",
    "\n",
    "years_in_occup_df = pd.DataFrame({f'Below 300':t1_years_in_occup, \n",
    "                       f'300-749':t2_years_in_occup})"
   ]
  },
  {
   "cell_type": "code",
   "execution_count": 25,
   "id": "064f4c98",
   "metadata": {},
   "outputs": [
    {
     "name": "stderr",
     "output_type": "stream",
     "text": [
      "C:\\Users\\emanlangit.AEONCREDIT\\AppData\\Local\\Temp\\ipykernel_17100\\2077899225.py:21: SettingWithCopyWarning: \n",
      "A value is trying to be set on a copy of a slice from a DataFrame.\n",
      "Try using .loc[row_indexer,col_indexer] = value instead\n",
      "\n",
      "See the caveats in the documentation: https://pandas.pydata.org/pandas-docs/stable/user_guide/indexing.html#returning-a-view-versus-a-copy\n",
      "  working_df1['total_income_bin'] = working_df1['total_income'].apply(total_income_bin)\n",
      "C:\\Users\\emanlangit.AEONCREDIT\\AppData\\Local\\Temp\\ipykernel_17100\\2077899225.py:24: SettingWithCopyWarning: \n",
      "A value is trying to be set on a copy of a slice from a DataFrame.\n",
      "Try using .loc[row_indexer,col_indexer] = value instead\n",
      "\n",
      "See the caveats in the documentation: https://pandas.pydata.org/pandas-docs/stable/user_guide/indexing.html#returning-a-view-versus-a-copy\n",
      "  working_df2['total_income_bin'] = working_df2['total_income'].apply(total_income_bin)\n"
     ]
    }
   ],
   "source": [
    "#total_income\n",
    "def total_income_bin(x):\n",
    "    try:\n",
    "        y = float(x)\n",
    "        \n",
    "        if y >= 550000:\n",
    "            return 'f [550000, Inf)'\n",
    "        elif y >= 500000 and y < 550000:\n",
    "            return 'e [500000,550000)'\n",
    "        elif y >= 450000 and y < 500000:\n",
    "            return 'd [450000,500000)'\n",
    "        elif y >= 400000 and y < 450000:\n",
    "            return 'c [400000,450000)'\n",
    "        elif y >= 350000 and y < 400000:\n",
    "            return 'b [350000,400000)'\n",
    "        elif y < 350000:\n",
    "            return 'a [-Inf,350000)'        \n",
    "    except:\n",
    "        return x\n",
    "\n",
    "working_df1['total_income_bin'] = working_df1['total_income'].apply(total_income_bin)\n",
    "t1_total_income = working_df1['total_income_bin'].value_counts().sort_index()\n",
    "\n",
    "working_df2['total_income_bin'] = working_df2['total_income'].apply(total_income_bin)\n",
    "t2_total_income = working_df2['total_income_bin'].value_counts().sort_index()\n",
    "\n",
    "\n",
    "total_income_df = pd.DataFrame({f'Below 300':t1_total_income, \n",
    "                       f'300-749':t2_total_income})"
   ]
  },
  {
   "cell_type": "code",
   "execution_count": 26,
   "id": "521a9c02",
   "metadata": {},
   "outputs": [
    {
     "name": "stderr",
     "output_type": "stream",
     "text": [
      "C:\\Users\\emanlangit.AEONCREDIT\\AppData\\Local\\Temp\\ipykernel_17100\\3708878486.py:19: SettingWithCopyWarning: \n",
      "A value is trying to be set on a copy of a slice from a DataFrame.\n",
      "Try using .loc[row_indexer,col_indexer] = value instead\n",
      "\n",
      "See the caveats in the documentation: https://pandas.pydata.org/pandas-docs/stable/user_guide/indexing.html#returning-a-view-versus-a-copy\n",
      "  working_df1['monthly_income_bin'] = working_df1['monthly_income'].apply(monthly_income_bin)\n",
      "C:\\Users\\emanlangit.AEONCREDIT\\AppData\\Local\\Temp\\ipykernel_17100\\3708878486.py:22: SettingWithCopyWarning: \n",
      "A value is trying to be set on a copy of a slice from a DataFrame.\n",
      "Try using .loc[row_indexer,col_indexer] = value instead\n",
      "\n",
      "See the caveats in the documentation: https://pandas.pydata.org/pandas-docs/stable/user_guide/indexing.html#returning-a-view-versus-a-copy\n",
      "  working_df2['monthly_income_bin'] = working_df2['monthly_income'].apply(monthly_income_bin)\n"
     ]
    }
   ],
   "source": [
    "#monthly_income\n",
    "def monthly_income_bin(x):\n",
    "    try:\n",
    "        y = float(x)\n",
    "        \n",
    "        if y >= 1_000_000:\n",
    "            return 'e missing'\n",
    "        elif y >= 40_000 and y < 1_000_000:\n",
    "            return 'd [40K, Inf)'\n",
    "        elif y >= 35_000 and y < 40_000:\n",
    "            return 'c [35K,40K)'\n",
    "        elif y >= 30_000 and y < 35_000:\n",
    "            return 'b [30K,35K)'\n",
    "        elif y < 30_000:\n",
    "            return 'a [-Inf,30K)'        \n",
    "    except:\n",
    "        return x\n",
    "\n",
    "working_df1['monthly_income_bin'] = working_df1['monthly_income'].apply(monthly_income_bin)\n",
    "t1_monthly_income = working_df1['monthly_income_bin'].value_counts().sort_index()\n",
    "\n",
    "working_df2['monthly_income_bin'] = working_df2['monthly_income'].apply(monthly_income_bin)\n",
    "t2_monthly_income = working_df2['monthly_income_bin'].value_counts().sort_index()\n",
    "\n",
    "\n",
    "monthly_income_df = pd.DataFrame({f'Below 300':t1_monthly_income, \n",
    "                       f'300-749':t2_monthly_income})"
   ]
  },
  {
   "cell_type": "code",
   "execution_count": 27,
   "id": "36c75b91",
   "metadata": {},
   "outputs": [
    {
     "name": "stderr",
     "output_type": "stream",
     "text": [
      "C:\\Users\\emanlangit.AEONCREDIT\\AppData\\Local\\Temp\\ipykernel_17100\\3452785598.py:17: SettingWithCopyWarning: \n",
      "A value is trying to be set on a copy of a slice from a DataFrame.\n",
      "Try using .loc[row_indexer,col_indexer] = value instead\n",
      "\n",
      "See the caveats in the documentation: https://pandas.pydata.org/pandas-docs/stable/user_guide/indexing.html#returning-a-view-versus-a-copy\n",
      "  working_df1.loc[:, 'res_years_at_current_address_bin'] = working_df1['res_years_at_current_address'].apply(res_years_at_current_address_bin)\n",
      "C:\\Users\\emanlangit.AEONCREDIT\\AppData\\Local\\Temp\\ipykernel_17100\\3452785598.py:20: SettingWithCopyWarning: \n",
      "A value is trying to be set on a copy of a slice from a DataFrame.\n",
      "Try using .loc[row_indexer,col_indexer] = value instead\n",
      "\n",
      "See the caveats in the documentation: https://pandas.pydata.org/pandas-docs/stable/user_guide/indexing.html#returning-a-view-versus-a-copy\n",
      "  working_df2.loc[:, 'res_years_at_current_address_bin'] = working_df2['res_years_at_current_address'].apply(res_years_at_current_address_bin)\n"
     ]
    }
   ],
   "source": [
    "#res_years_at_current_address\n",
    "def res_years_at_current_address_bin(x):\n",
    "    try:\n",
    "        y = float(x)\n",
    "        \n",
    "        if y >= 10:\n",
    "            return 'd [10, Inf)'\n",
    "        elif y >= 5 and y < 10:\n",
    "            return 'c [5,10)'\n",
    "        elif y >= 1 and y < 5:\n",
    "            return 'b [1,5)'\n",
    "        elif y < 1:\n",
    "            return 'a [-Inf,1)'        \n",
    "    except:\n",
    "        return x\n",
    "\n",
    "working_df1.loc[:, 'res_years_at_current_address_bin'] = working_df1['res_years_at_current_address'].apply(res_years_at_current_address_bin)\n",
    "t1_res_years_at_current_address = working_df1['res_years_at_current_address_bin'].value_counts().sort_index()\n",
    "\n",
    "working_df2.loc[:, 'res_years_at_current_address_bin'] = working_df2['res_years_at_current_address'].apply(res_years_at_current_address_bin)\n",
    "t2_res_years_at_current_address = working_df2['res_years_at_current_address_bin'].value_counts().sort_index()\n",
    "\n",
    "\n",
    "res_years_at_current_address_df = pd.DataFrame({f'Below 300':t1_res_years_at_current_address, \n",
    "                       f'300-749':t2_res_years_at_current_address})"
   ]
  },
  {
   "cell_type": "code",
   "execution_count": 28,
   "id": "e4150588",
   "metadata": {},
   "outputs": [
    {
     "name": "stderr",
     "output_type": "stream",
     "text": [
      "C:\\Users\\emanlangit.AEONCREDIT\\AppData\\Local\\Temp\\ipykernel_17100\\1064223899.py:17: SettingWithCopyWarning: \n",
      "A value is trying to be set on a copy of a slice from a DataFrame.\n",
      "Try using .loc[row_indexer,col_indexer] = value instead\n",
      "\n",
      "See the caveats in the documentation: https://pandas.pydata.org/pandas-docs/stable/user_guide/indexing.html#returning-a-view-versus-a-copy\n",
      "  working_df1.loc[:, 'res_years_at_current_city_bin'] = working_df1['res_years_at_current_city'].apply(res_years_at_current_city_bin)\n",
      "C:\\Users\\emanlangit.AEONCREDIT\\AppData\\Local\\Temp\\ipykernel_17100\\1064223899.py:20: SettingWithCopyWarning: \n",
      "A value is trying to be set on a copy of a slice from a DataFrame.\n",
      "Try using .loc[row_indexer,col_indexer] = value instead\n",
      "\n",
      "See the caveats in the documentation: https://pandas.pydata.org/pandas-docs/stable/user_guide/indexing.html#returning-a-view-versus-a-copy\n",
      "  working_df2.loc[:, 'res_years_at_current_city_bin'] = working_df2['res_years_at_current_city'].apply(res_years_at_current_city_bin)\n"
     ]
    }
   ],
   "source": [
    "#res_years_at_current_city\n",
    "def res_years_at_current_city_bin(x):\n",
    "    try:\n",
    "        y = float(x)\n",
    "        \n",
    "        if y >= 10:\n",
    "            return 'd [10, Inf)'\n",
    "        elif y >= 5 and y < 10:\n",
    "            return 'c [5,10)'\n",
    "        elif y >= 1 and y < 5:\n",
    "            return 'b [1,5)'\n",
    "        elif y < 1:\n",
    "            return 'a [-Inf,1)'        \n",
    "    except:\n",
    "        return x\n",
    "\n",
    "working_df1.loc[:, 'res_years_at_current_city_bin'] = working_df1['res_years_at_current_city'].apply(res_years_at_current_city_bin)\n",
    "t1_res_years_at_current_city = working_df1['res_years_at_current_city_bin'].value_counts().sort_index()\n",
    "\n",
    "working_df2.loc[:, 'res_years_at_current_city_bin'] = working_df2['res_years_at_current_city'].apply(res_years_at_current_city_bin)\n",
    "t2_res_years_at_current_city = working_df2['res_years_at_current_city_bin'].value_counts().sort_index()\n",
    "\n",
    "\n",
    "res_years_at_current_city_df = pd.DataFrame({f'Below 300':t1_res_years_at_current_city, \n",
    "                       f'300-749':t2_res_years_at_current_city})"
   ]
  },
  {
   "cell_type": "code",
   "execution_count": 40,
   "id": "664cd32c",
   "metadata": {},
   "outputs": [],
   "source": [
    "#combine all results in one workbook\n",
    "\n",
    "dist_categ_list = ['res_city', 'asset_category', 'asset_model', 'dealer', 'channel',\n",
    "                  'res_state','industry','nature_of_business','res_resident_status',\n",
    "                  'marital_status','manufacturer','occupation_type','product_description',\n",
    "                  'branch_name', 'gender', 'asset_model_grp']\n",
    "\n",
    "def dist_categ(variable):\n",
    "    t1 = working_df1[variable].value_counts().sort_index()\n",
    "    t2 = working_df2[variable].value_counts().sort_index()\n",
    "    \n",
    "    sheetname = f'{variable}'\n",
    "    mix_df = pd.DataFrame({f'Good Customers count':t1,\n",
    "                           f'Bad Customers count':t2})\n",
    "    mix_df.to_excel(writer,sheet_name=sheetname, index = True)\n",
    "\n",
    "def num_categ(variable):\n",
    "    t1 = working_df1[variable].astype(float).value_counts().sort_index()\n",
    "    t2 = working_df2[variable].astype(float).value_counts().sort_index()\n",
    "    \n",
    "    sheetname = f'{variable}'\n",
    "    mix_df = pd.DataFrame({f'Good Customers count':t1,\n",
    "                           f'Bad Customers count':t2})\n",
    "    mix_df.to_excel(writer,sheet_name=sheetname, index = True)\n",
    "    \n",
    "with pd.ExcelWriter('PSI Temp_Jan_Refresh.xlsx', engine='openpyxl') as writer:\n",
    "    for i in range (0,len(dist_categ_list)):\n",
    "        dist_categ(dist_categ_list[i])\n",
    "#     num_categ('period')\n",
    "#     num_categ('converrate')\n",
    "    num_categ('number_of_installments')\n",
    "    loan_asset_cost_df.to_excel(writer,sheet_name='loan_asset_cost', index = True)\n",
    "    down_pay_amt_df.to_excel(writer,sheet_name='down_pay_amt', index = True)\n",
    "    num_categ('interest_rate')\n",
    "    bureau_score_df.to_excel(writer,sheet_name='bureau_score', index = True)\n",
    "    res_years_at_current_address_df.to_excel(writer,sheet_name='res_years_at_current_address', index = True)\n",
    "    res_years_at_current_city_df.to_excel(writer,sheet_name='res_years_at_current_city', index = True)\n",
    "    age_df.to_excel(writer,sheet_name='age', index = True)\n",
    "    years_in_occup_df.to_excel(writer,sheet_name='years_in_occupation', index = True)\n",
    "    total_income_df.to_excel(writer,sheet_name='total_income', index = True)\n",
    "    monthly_income_df.to_excel(writer,sheet_name='monthly_income', index = True)\n",
    "    dpratio_df.to_excel(writer,sheet_name='dp_ratio', index = True)\n",
    "    #req_loan_amt_df.to_excel(writer,sheet_name='req_loan_amt', index = True)"
   ]
  },
  {
   "cell_type": "code",
   "execution_count": 41,
   "id": "bcbf8289",
   "metadata": {},
   "outputs": [
    {
     "name": "stdout",
     "output_type": "stream",
     "text": [
      "DONE\n"
     ]
    }
   ],
   "source": [
    "print('DONE')"
   ]
  },
  {
   "cell_type": "code",
   "execution_count": null,
   "id": "73deb2bb",
   "metadata": {},
   "outputs": [],
   "source": []
  },
  {
   "cell_type": "markdown",
   "id": "b1c92dc0",
   "metadata": {},
   "source": [
    "# Extra code for contingency"
   ]
  },
  {
   "cell_type": "code",
   "execution_count": 31,
   "id": "933dedec",
   "metadata": {},
   "outputs": [],
   "source": [
    "#combine all results in one workbook\n",
    "\n",
    "# dist_categ_list = ['central_bank_check_verfication', 'other_checks','address_verification',\n",
    "#                   'identification_verification','customer_risk_category','res_city_grp',\n",
    "#                   'res_state_grp','industry_grp','nature_of_business','res_resident_status_grp',\n",
    "#                   'marital_status','manufacturer_grp','occupation_type','product_description',\n",
    "#                   'branch_grp']\n",
    "\n",
    "# def dist_categ(variable):\n",
    "#     t1 = working_df1[variable].value_counts().sort_index()\n",
    "#     t2 = working_df2[variable].value_counts().sort_index()\n",
    "#     t3 = working_df3[variable].value_counts().sort_index()\n",
    "    \n",
    "#     sheetname = f'{variable}'\n",
    "#     mix_df = pd.DataFrame({f'CS B300 {variable} count':t1,\n",
    "#                            f'CS 300-749 {variable} count':t2,\n",
    "#                           f'CS above 750 {variable} count':t3})\n",
    "#     mix_df.to_excel(writer,sheet_name=sheetname, index = True)\n",
    "\n",
    "# def num_categ(variable):\n",
    "#     t1 = working_df1[variable].astype(float).value_counts().sort_index()\n",
    "#     t2 = working_df2[variable].astype(float).value_counts().sort_index()\n",
    "#     t3 = working_df3[variable].astype(float).value_counts().sort_index()\n",
    "    \n",
    "#     sheetname = f'{variable}'\n",
    "#     mix_df = pd.DataFrame({f'Below 300 {variable} count':t1,\n",
    "#                            f'300-749 {variable} count':t2,\n",
    "#                           f'above 750 {variable} count':t3})\n",
    "#     mix_df.to_excel(writer,sheet_name=sheetname, index = True)\n",
    "    \n",
    "# with pd.ExcelWriter('PSI Temp.xlsx', engine='openpyxl') as writer:\n",
    "#     for i in range (0,len(dist_categ_list)):\n",
    "#         dist_categ(dist_categ_list[i])\n",
    "# #     num_categ('period')\n",
    "# #     num_categ('converrate')\n",
    "#     df_deviation.to_excel(writer,sheet_name='deviation_count', index = True)\n",
    "#     dpratio_df.to_excel(writer,sheet_name='dp_ratio', index = True)\n",
    "#     disburse_amt_df.to_excel(writer,sheet_name='disburse_amt', index = True)\n",
    "#     req_loan_amt_df.to_excel(writer,sheet_name='req_loan_amt', index = True)\n",
    "#     final_sanc_amt_df.to_excel(writer,sheet_name='final_sanc_amt', index = True)\n",
    "#     orig_emi_amt_df.to_excel(writer,sheet_name='orig_emi_amt', index = True)\n",
    "#     down_pay_amt_df.to_excel(writer,sheet_name='down_pay_amt', index = True)\n",
    "#     loan_asset_cost_df.to_excel(writer,sheet_name='loan_asset_cost', index = True)\n",
    "#     df_verification_waived.to_excel(writer,sheet_name='verification_waived', index = True)\n",
    "#     num_categ('number_of_installments')\n",
    "#     age_df.to_excel(writer,sheet_name='age', index = True)\n",
    "#     df_PerVeri_TelVer.to_excel(writer,sheet_name='PerVeri_TelVer', index = True)\n",
    "#     years_in_occup_df.to_excel(writer,sheet_name='years_in_occupation', index = True)\n",
    "#     total_income_df.to_excel(writer,sheet_name='total_income', index = True)\n",
    "#     monthly_income_df.to_excel(writer,sheet_name='monthly_income', index = True)\n",
    "#     tat_df.to_excel(writer,sheet_name='tat', index = True)\n",
    "#     years_other_add_df.to_excel(writer,sheet_name='years_other_add', index = True)\n",
    "#     df_ResiVeri_FieldVer.to_excel(writer,sheet_name='ResiVeri_FieldVer', index = True)\n",
    "# #     mptir_df.to_excel(writer,sheet_name='mptir', index = True)\n",
    "# #     mptir_df.to_excel(writer,sheet_name='mptir', index = True)"
   ]
  }
 ],
 "metadata": {
  "kernelspec": {
   "display_name": "Python 3 (ipykernel)",
   "language": "python",
   "name": "python3"
  },
  "language_info": {
   "codemirror_mode": {
    "name": "ipython",
    "version": 3
   },
   "file_extension": ".py",
   "mimetype": "text/x-python",
   "name": "python",
   "nbconvert_exporter": "python",
   "pygments_lexer": "ipython3",
   "version": "3.12.2"
  }
 },
 "nbformat": 4,
 "nbformat_minor": 5
}
