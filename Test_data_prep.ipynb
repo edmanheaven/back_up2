{
 "cells": [
  {
   "cell_type": "code",
   "execution_count": 1,
   "id": "40681a4d-2650-42bb-ab47-b74611fa431d",
   "metadata": {},
   "outputs": [],
   "source": [
    "import pandas as pd\n",
    "import numpy as np"
   ]
  },
  {
   "cell_type": "code",
   "execution_count": 2,
   "id": "559a7b51-ec3a-476f-ba18-312dcdf9e1d7",
   "metadata": {},
   "outputs": [],
   "source": [
    "datafile_name = 'SCM_Data_21-02-25_Rev_input4.csv'\n",
    "data_filepath = f'./Raw_Data/{datafile_name}'\n",
    "raw_test_df = pd.read_csv(data_filepath)"
   ]
  },
  {
   "cell_type": "code",
   "execution_count": 5,
   "id": "39255cca-fe74-429b-80a7-ea6d1d74dfd7",
   "metadata": {},
   "outputs": [
    {
     "data": {
      "text/plain": [
       "loan_account_no                     0\n",
       "APPLICATION_NUMBER                  0\n",
       "CIFNUMBER                           0\n",
       "CUSTOMER_NUMBER                     0\n",
       "Application Received Date           0\n",
       "product_description                 0\n",
       "Judgement date                      0\n",
       "DECISION                            0\n",
       "USER_COMMENT                       12\n",
       "LOAN_ACCOUNT_NO_og               7182\n",
       "LOAN_SANCTIONED_DATE             7182\n",
       "LOAN_AMOUNT                      7182\n",
       "DISBURSAL_DATE                   7182\n",
       "LOAN_ASSET_COST                  7182\n",
       "number_of_installments              0\n",
       "ORIGINAL_EMI_AMOUNT              7182\n",
       "interest_rate                       0\n",
       "res_years_at_current_city           0\n",
       "res_resident_status                 0\n",
       "res_city                            2\n",
       "res_state                           0\n",
       "AGE                                 0\n",
       "DATE_OF_BIRTH                       0\n",
       "Gender                              0\n",
       "Manufacturer                        0\n",
       "Down_Payment_Amount                 0\n",
       "Asset_Model                         0\n",
       "Dealer                             20\n",
       "Total_Income                        0\n",
       "Branch_Name                         0\n",
       "Occupation_Type                     0\n",
       "Industry                           72\n",
       "Marital_Status                      0\n",
       "Nature_Of_Business                110\n",
       "requested_loan_amount               0\n",
       "bureau_score                        0\n",
       "channel                         18623\n",
       "res_years_at_current_address        0\n",
       "years_in_occupation             18623\n",
       "dtype: int64"
      ]
     },
     "execution_count": 5,
     "metadata": {},
     "output_type": "execute_result"
    }
   ],
   "source": [
    "raw_test_df.isnull().sum()"
   ]
  },
  {
   "cell_type": "code",
   "execution_count": 7,
   "id": "9c361d2e-cb75-4e7b-9f80-fbd0703c5876",
   "metadata": {},
   "outputs": [
    {
     "data": {
      "text/plain": [
       "array(['2 Wheeler Loan', 'Used Two Wheeler Loan', 'E - Bike', 'Used Car'],\n",
       "      dtype=object)"
      ]
     },
     "execution_count": 7,
     "metadata": {},
     "output_type": "execute_result"
    }
   ],
   "source": [
    "raw_test_df.product_description.unique()"
   ]
  },
  {
   "cell_type": "code",
   "execution_count": 32,
   "id": "fd287014-6dd5-4630-a6aa-bdc1ed63cb60",
   "metadata": {},
   "outputs": [],
   "source": [
    "#raw_test_df['bureau_score'].unique()"
   ]
  },
  {
   "cell_type": "code",
   "execution_count": 2,
   "id": "5ad0e1b2-5fcd-441c-b788-1c42883bdd72",
   "metadata": {},
   "outputs": [],
   "source": [
    "# for column in raw_test_df.columns:\n",
    "#     duplicates = raw_test_df[column].duplicated(keep=False)\n",
    "#     print(f\"Duplicates in {column}:\")\n",
    "#     print(len(raw_test_df[duplicates]))"
   ]
  },
  {
   "cell_type": "code",
   "execution_count": 34,
   "id": "cd7db43a-bd8b-469f-afe8-554a99941543",
   "metadata": {},
   "outputs": [],
   "source": [
    "# Identify duplicated values in column A\n",
    "duplicated_A = scored_test_df.duplicated(subset='loan_account_no_og', keep=False)\n",
    "\n",
    "# Identify rows with zero values in column B\n",
    "zero_B = scored_test_df['res_years_at_current_city'] == 0\n",
    "\n",
    "# Combine both conditions\n",
    "condition = duplicated_A & zero_B\n",
    "\n",
    "# Drop the rows that meet both conditions\n",
    "raw_df_cleaned = scored_test_df.drop(scored_test_df[condition].index)"
   ]
  },
  {
   "cell_type": "code",
   "execution_count": 3,
   "id": "9ce5e11f-6537-4d00-8b5c-e85f84926c76",
   "metadata": {},
   "outputs": [],
   "source": [
    "# for column in raw_df_cleaned.columns:\n",
    "#     duplicates = raw_df_cleaned[column].duplicated(keep=False)\n",
    "#     print(f\"Duplicates in {column}:\")\n",
    "#     print(len(raw_df_cleaned[duplicates]))"
   ]
  },
  {
   "cell_type": "code",
   "execution_count": 4,
   "id": "6bfcdd57-c54d-4807-8b70-2ee79aeb2ce9",
   "metadata": {},
   "outputs": [],
   "source": [
    "#raw_df_cleaned.loan_account_no_og.value_counts()"
   ]
  },
  {
   "cell_type": "code",
   "execution_count": 5,
   "id": "b7339946-c70e-468e-9a8b-b36f3006fcdd",
   "metadata": {},
   "outputs": [],
   "source": [
    "#raw_df_cleaned[raw_df_cleaned.loan_account_no_og == 'TW01020101000002291476']"
   ]
  },
  {
   "cell_type": "code",
   "execution_count": 45,
   "id": "148ffd6b-3c84-481d-9921-f88ef2040612",
   "metadata": {},
   "outputs": [
    {
     "name": "stderr",
     "output_type": "stream",
     "text": [
      "C:\\Users\\emanlangit.AEONCREDIT\\AppData\\Local\\Temp\\ipykernel_21772\\3765837357.py:3: DtypeWarning: Columns (9,10,12,43) have mixed types. Specify dtype option on import or set low_memory=False.\n",
      "  scored_test_df = pd.read_csv(data_filepath)\n"
     ]
    }
   ],
   "source": [
    "datafile_name = 'SCM_Data_21-02-25_Rev_input_scored_all.csv'\n",
    "data_filepath = f'./Test_Results/{datafile_name}'\n",
    "scored_test_df = pd.read_csv(data_filepath)"
   ]
  },
  {
   "cell_type": "code",
   "execution_count": 46,
   "id": "2e3f4d66-2e39-4b5b-8b1a-be93b8173066",
   "metadata": {},
   "outputs": [
    {
     "data": {
      "text/plain": [
       "Index(['loan_account_no', 'APPLICATION_NUMBER', 'CIFNUMBER', 'CUSTOMER_NUMBER',\n",
       "       'Application Received Date', 'product_description', 'Judgement date',\n",
       "       'DECISION', 'USER_COMMENT', 'LOAN_ACCOUNT_NO_og',\n",
       "       'LOAN_SANCTIONED_DATE', 'LOAN_AMOUNT', 'DISBURSAL_DATE',\n",
       "       'LOAN_ASSETCOST', 'number_of_installments', 'ORIGINAL_EMI_AMOUNT',\n",
       "       'interest_rate', 'res_years_at_current_city', 'res_resident_status',\n",
       "       'res_city', 'res_state', 'AGE', 'DATE_OF_BIRTH', 'Gender',\n",
       "       'Manufacturer', 'Down_Payment_Amount', 'Asset_Model', 'Dealer',\n",
       "       'Total_Income', 'Branch_Name', 'Occupation_Type', 'Industry',\n",
       "       'Marital_Status', 'Nature_Of_Business', 'loan_asset_cost',\n",
       "       'bureau_score', 'channel', 'res_years_at_current_address',\n",
       "       'years_in_occupation', 'Unnamed: 39', 'bureau_score.1', 'probability',\n",
       "       'Risk Class', 'loan_account_no_og', 'CIBIL_group', 'D3_within12months'],\n",
       "      dtype='object')"
      ]
     },
     "execution_count": 46,
     "metadata": {},
     "output_type": "execute_result"
    }
   ],
   "source": [
    "scored_test_df.columns"
   ]
  },
  {
   "cell_type": "code",
   "execution_count": 47,
   "id": "1b22a4ba-40dd-44b2-b40b-80cec4ef4902",
   "metadata": {},
   "outputs": [
    {
     "data": {
      "text/html": [
       "<div>\n",
       "<style scoped>\n",
       "    .dataframe tbody tr th:only-of-type {\n",
       "        vertical-align: middle;\n",
       "    }\n",
       "\n",
       "    .dataframe tbody tr th {\n",
       "        vertical-align: top;\n",
       "    }\n",
       "\n",
       "    .dataframe thead th {\n",
       "        text-align: right;\n",
       "    }\n",
       "</style>\n",
       "<table border=\"1\" class=\"dataframe\">\n",
       "  <thead>\n",
       "    <tr style=\"text-align: right;\">\n",
       "      <th></th>\n",
       "      <th>loan_account_no</th>\n",
       "      <th>APPLICATION_NUMBER</th>\n",
       "      <th>CIFNUMBER</th>\n",
       "      <th>CUSTOMER_NUMBER</th>\n",
       "      <th>Application Received Date</th>\n",
       "      <th>product_description</th>\n",
       "      <th>Judgement date</th>\n",
       "      <th>DECISION</th>\n",
       "      <th>USER_COMMENT</th>\n",
       "      <th>LOAN_ACCOUNT_NO_og</th>\n",
       "      <th>...</th>\n",
       "      <th>channel</th>\n",
       "      <th>res_years_at_current_address</th>\n",
       "      <th>years_in_occupation</th>\n",
       "      <th>Unnamed: 39</th>\n",
       "      <th>bureau_score.1</th>\n",
       "      <th>probability</th>\n",
       "      <th>Risk Class</th>\n",
       "      <th>loan_account_no_og</th>\n",
       "      <th>CIBIL_group</th>\n",
       "      <th>D3_within12months</th>\n",
       "    </tr>\n",
       "  </thead>\n",
       "  <tbody>\n",
       "    <tr>\n",
       "      <th>0</th>\n",
       "      <td>ARBIT14359</td>\n",
       "      <td>APPL00275521</td>\n",
       "      <td>GLBCUST00000238563</td>\n",
       "      <td>CUST00246321</td>\n",
       "      <td>1/22/2024</td>\n",
       "      <td>E - Bike</td>\n",
       "      <td>1/24/2024</td>\n",
       "      <td>Approve</td>\n",
       "      <td>TEST PROGRAM FOR CD TW- scheme changed</td>\n",
       "      <td>EB01020101000002290776</td>\n",
       "      <td>...</td>\n",
       "      <td>NaN</td>\n",
       "      <td>NaN</td>\n",
       "      <td>NaN</td>\n",
       "      <td>NaN</td>\n",
       "      <td>-1</td>\n",
       "      <td>0.618895</td>\n",
       "      <td>Very High Risk</td>\n",
       "      <td>EB01020101000002290776</td>\n",
       "      <td>NTC</td>\n",
       "      <td>NaN</td>\n",
       "    </tr>\n",
       "    <tr>\n",
       "      <th>1</th>\n",
       "      <td>ARBIT3264</td>\n",
       "      <td>APPL00285854</td>\n",
       "      <td>GLBCUST00000247516</td>\n",
       "      <td>CUST00255707</td>\n",
       "      <td>2/19/2024</td>\n",
       "      <td>E - Bike</td>\n",
       "      <td>2/21/2024</td>\n",
       "      <td>Approve</td>\n",
       "      <td>NO TEST CODE | VEHICLE VARIANT CHANGES DONE</td>\n",
       "      <td>EB01020101000002294989</td>\n",
       "      <td>...</td>\n",
       "      <td>NaN</td>\n",
       "      <td>NaN</td>\n",
       "      <td>NaN</td>\n",
       "      <td>NaN</td>\n",
       "      <td>716</td>\n",
       "      <td>0.219521</td>\n",
       "      <td>Low Risk</td>\n",
       "      <td>EB01020101000002294989</td>\n",
       "      <td>low_CIBIL</td>\n",
       "      <td>NaN</td>\n",
       "    </tr>\n",
       "    <tr>\n",
       "      <th>2</th>\n",
       "      <td>ARBIT2335</td>\n",
       "      <td>APPL00285689</td>\n",
       "      <td>GLBCUST00000247372</td>\n",
       "      <td>CUST00255546</td>\n",
       "      <td>2/18/2024</td>\n",
       "      <td>E - Bike</td>\n",
       "      <td>3/1/2024</td>\n",
       "      <td>Approve</td>\n",
       "      <td>NO TEST CODE | NAME CHANGE DONE | SCHEME CHANG...</td>\n",
       "      <td>EB01020101000002296875</td>\n",
       "      <td>...</td>\n",
       "      <td>NaN</td>\n",
       "      <td>NaN</td>\n",
       "      <td>NaN</td>\n",
       "      <td>NaN</td>\n",
       "      <td>721</td>\n",
       "      <td>0.393265</td>\n",
       "      <td>Middle Risk</td>\n",
       "      <td>EB01020101000002296875</td>\n",
       "      <td>low_CIBIL</td>\n",
       "      <td>NaN</td>\n",
       "    </tr>\n",
       "    <tr>\n",
       "      <th>3</th>\n",
       "      <td>ARBIT2336</td>\n",
       "      <td>APPL00285689</td>\n",
       "      <td>GLBCUST00000247372</td>\n",
       "      <td>CUST00255546</td>\n",
       "      <td>2/18/2024</td>\n",
       "      <td>E - Bike</td>\n",
       "      <td>3/1/2024</td>\n",
       "      <td>Approve</td>\n",
       "      <td>NO TEST CODE | NAME CHANGE DONE | SCHEME CHANG...</td>\n",
       "      <td>EB01020101000002296875</td>\n",
       "      <td>...</td>\n",
       "      <td>NaN</td>\n",
       "      <td>NaN</td>\n",
       "      <td>NaN</td>\n",
       "      <td>NaN</td>\n",
       "      <td>721</td>\n",
       "      <td>0.373008</td>\n",
       "      <td>Middle Risk</td>\n",
       "      <td>EB01020101000002296875</td>\n",
       "      <td>low_CIBIL</td>\n",
       "      <td>NaN</td>\n",
       "    </tr>\n",
       "    <tr>\n",
       "      <th>4</th>\n",
       "      <td>ARBIT2725</td>\n",
       "      <td>APPL00269936</td>\n",
       "      <td>GLBCUST00000234301</td>\n",
       "      <td>CUST00241297</td>\n",
       "      <td>1/8/2024</td>\n",
       "      <td>E - Bike</td>\n",
       "      <td>1/9/2024</td>\n",
       "      <td>Approve</td>\n",
       "      <td>NO TEST CODE</td>\n",
       "      <td>EB01020102000002288511</td>\n",
       "      <td>...</td>\n",
       "      <td>NaN</td>\n",
       "      <td>NaN</td>\n",
       "      <td>NaN</td>\n",
       "      <td>NaN</td>\n",
       "      <td>738</td>\n",
       "      <td>0.055713</td>\n",
       "      <td>Middle Risk</td>\n",
       "      <td>EB01020102000002288511</td>\n",
       "      <td>mid_CIBIL</td>\n",
       "      <td>NaN</td>\n",
       "    </tr>\n",
       "  </tbody>\n",
       "</table>\n",
       "<p>5 rows × 46 columns</p>\n",
       "</div>"
      ],
      "text/plain": [
       "  loan_account_no APPLICATION_NUMBER           CIFNUMBER CUSTOMER_NUMBER  \\\n",
       "0      ARBIT14359       APPL00275521  GLBCUST00000238563    CUST00246321   \n",
       "1       ARBIT3264       APPL00285854  GLBCUST00000247516    CUST00255707   \n",
       "2       ARBIT2335       APPL00285689  GLBCUST00000247372    CUST00255546   \n",
       "3       ARBIT2336       APPL00285689  GLBCUST00000247372    CUST00255546   \n",
       "4       ARBIT2725       APPL00269936  GLBCUST00000234301    CUST00241297   \n",
       "\n",
       "  Application Received Date product_description Judgement date DECISION  \\\n",
       "0                 1/22/2024            E - Bike      1/24/2024  Approve   \n",
       "1                 2/19/2024            E - Bike      2/21/2024  Approve   \n",
       "2                 2/18/2024            E - Bike       3/1/2024  Approve   \n",
       "3                 2/18/2024            E - Bike       3/1/2024  Approve   \n",
       "4                  1/8/2024            E - Bike       1/9/2024  Approve   \n",
       "\n",
       "                                        USER_COMMENT      LOAN_ACCOUNT_NO_og  \\\n",
       "0             TEST PROGRAM FOR CD TW- scheme changed  EB01020101000002290776   \n",
       "1        NO TEST CODE | VEHICLE VARIANT CHANGES DONE  EB01020101000002294989   \n",
       "2  NO TEST CODE | NAME CHANGE DONE | SCHEME CHANG...  EB01020101000002296875   \n",
       "3  NO TEST CODE | NAME CHANGE DONE | SCHEME CHANG...  EB01020101000002296875   \n",
       "4                                       NO TEST CODE  EB01020102000002288511   \n",
       "\n",
       "   ... channel  res_years_at_current_address years_in_occupation  Unnamed: 39  \\\n",
       "0  ...     NaN                           NaN                 NaN          NaN   \n",
       "1  ...     NaN                           NaN                 NaN          NaN   \n",
       "2  ...     NaN                           NaN                 NaN          NaN   \n",
       "3  ...     NaN                           NaN                 NaN          NaN   \n",
       "4  ...     NaN                           NaN                 NaN          NaN   \n",
       "\n",
       "   bureau_score.1  probability      Risk Class      loan_account_no_og  \\\n",
       "0              -1     0.618895  Very High Risk  EB01020101000002290776   \n",
       "1             716     0.219521        Low Risk  EB01020101000002294989   \n",
       "2             721     0.393265     Middle Risk  EB01020101000002296875   \n",
       "3             721     0.373008     Middle Risk  EB01020101000002296875   \n",
       "4             738     0.055713     Middle Risk  EB01020102000002288511   \n",
       "\n",
       "  CIBIL_group D3_within12months  \n",
       "0         NTC               NaN  \n",
       "1   low_CIBIL               NaN  \n",
       "2   low_CIBIL               NaN  \n",
       "3   low_CIBIL               NaN  \n",
       "4   mid_CIBIL               NaN  \n",
       "\n",
       "[5 rows x 46 columns]"
      ]
     },
     "execution_count": 47,
     "metadata": {},
     "output_type": "execute_result"
    }
   ],
   "source": [
    "scored_test_df.head()"
   ]
  },
  {
   "cell_type": "code",
   "execution_count": 52,
   "id": "b9865b92-5165-4f33-8cbb-66cbecd6f0a1",
   "metadata": {},
   "outputs": [],
   "source": [
    "#df_cleaned.D3_within12months.value_counts()"
   ]
  },
  {
   "cell_type": "code",
   "execution_count": 49,
   "id": "356fa1dd-de69-40ef-a054-59e748d41274",
   "metadata": {},
   "outputs": [
    {
     "data": {
      "text/plain": [
       "D3_within12months\n",
       "0.0    9109\n",
       "1.0     613\n",
       "Name: count, dtype: int64"
      ]
     },
     "execution_count": 49,
     "metadata": {},
     "output_type": "execute_result"
    }
   ],
   "source": [
    "scored_test_df.D3_within12months.value_counts()"
   ]
  },
  {
   "cell_type": "code",
   "execution_count": 51,
   "id": "11f9b09c-8c37-4581-8b97-8406e9349f1a",
   "metadata": {},
   "outputs": [],
   "source": [
    "#df_cleaned.loan_account_no_og.nunique()"
   ]
  },
  {
   "cell_type": "code",
   "execution_count": 53,
   "id": "8a4f8596-f3dd-443b-8006-bd0c221bfcd6",
   "metadata": {},
   "outputs": [
    {
     "data": {
      "text/plain": [
       "9524"
      ]
     },
     "execution_count": 53,
     "metadata": {},
     "output_type": "execute_result"
    }
   ],
   "source": [
    "scored_test_df.loan_account_no_og.nunique()"
   ]
  },
  {
   "cell_type": "code",
   "execution_count": 11,
   "id": "a0a66afc-d772-49cc-bfaa-2d8cfd45518c",
   "metadata": {},
   "outputs": [],
   "source": [
    "target_filename =  'test_tags.csv'\n",
    "target_filepath = f'./Raw_Data/{target_filename}'\n",
    "\n",
    "new_col12m = pd.read_csv(target_filepath)"
   ]
  },
  {
   "cell_type": "code",
   "execution_count": 54,
   "id": "109ab709-cfdd-4a15-a6ce-c9433ea79caf",
   "metadata": {},
   "outputs": [],
   "source": [
    "# Identify duplicated values in column A\n",
    "duplicated_A = scored_test_df.duplicated(subset='loan_account_no_og', keep=False)\n",
    "\n",
    "# # Identify rows with zero values in column B\n",
    "# zero_B = scored_test_df['res_years_at_current_city'] == 0\n",
    "\n",
    "# Combine both conditions\n",
    "#condition = duplicated_A & zero_B\n",
    "\n",
    "# Drop the rows that meet both conditions\n",
    "raw_drop_dups = scored_test_df.drop(scored_test_df[duplicated_A].index)\n",
    "\n",
    "#print(df_cleaned)"
   ]
  },
  {
   "cell_type": "code",
   "execution_count": 15,
   "id": "e1c9faeb-9cd4-4b26-a82c-f869695d66b2",
   "metadata": {},
   "outputs": [],
   "source": [
    "test_LANs_valid = set(new_col12m.loan_account_no.unique())"
   ]
  },
  {
   "cell_type": "code",
   "execution_count": 16,
   "id": "b8f47207-00da-4e41-bd94-e2ea49264ab2",
   "metadata": {},
   "outputs": [],
   "source": [
    "test_LANs_all = set(scored_test_df.loan_account_no_og.unique())"
   ]
  },
  {
   "cell_type": "code",
   "execution_count": 17,
   "id": "0cbd8343-a019-4922-8f72-323c3e712d43",
   "metadata": {},
   "outputs": [
    {
     "data": {
      "text/plain": [
       "8885"
      ]
     },
     "execution_count": 17,
     "metadata": {},
     "output_type": "execute_result"
    }
   ],
   "source": [
    "len(test_LANs_valid) #8885 valid (old test)"
   ]
  },
  {
   "cell_type": "code",
   "execution_count": 18,
   "id": "8336d9cb-fd20-4190-8120-afac81dc0b55",
   "metadata": {},
   "outputs": [
    {
     "data": {
      "text/plain": [
       "9525"
      ]
     },
     "execution_count": 18,
     "metadata": {},
     "output_type": "execute_result"
    }
   ],
   "source": [
    "len(test_LANs_all) #9525 LANs"
   ]
  },
  {
   "cell_type": "code",
   "execution_count": 19,
   "id": "ce2d96a8-3fcb-49c0-ba40-b6e80288c9b7",
   "metadata": {},
   "outputs": [
    {
     "data": {
      "text/plain": [
       "8154"
      ]
     },
     "execution_count": 19,
     "metadata": {},
     "output_type": "execute_result"
    }
   ],
   "source": [
    "in_both = test_LANs_valid.intersection(test_LANs_all)\n",
    "len(in_both)"
   ]
  },
  {
   "cell_type": "code",
   "execution_count": 55,
   "id": "f42dd069-8ef5-46e2-8ce4-1201c733edf9",
   "metadata": {},
   "outputs": [
    {
     "data": {
      "text/plain": [
       "7609"
      ]
     },
     "execution_count": 55,
     "metadata": {},
     "output_type": "execute_result"
    }
   ],
   "source": [
    "raw_drop_dups.loan_account_no_og.nunique()"
   ]
  },
  {
   "cell_type": "code",
   "execution_count": 56,
   "id": "1bc97d79-67d8-47e8-b4d4-02cc1f5f8e04",
   "metadata": {},
   "outputs": [],
   "source": [
    "huh = raw_drop_dups[raw_drop_dups.DECISION == 'Approve']"
   ]
  },
  {
   "cell_type": "code",
   "execution_count": 57,
   "id": "fd89914b-c779-4703-8d11-16107acb894a",
   "metadata": {},
   "outputs": [
    {
     "data": {
      "text/plain": [
       "D3_within12months\n",
       "0.0    6166\n",
       "1.0     421\n",
       "Name: count, dtype: int64"
      ]
     },
     "execution_count": 57,
     "metadata": {},
     "output_type": "execute_result"
    }
   ],
   "source": [
    "huh.D3_within12months.value_counts()"
   ]
  },
  {
   "cell_type": "code",
   "execution_count": 58,
   "id": "52115147-0565-43a1-9c4f-27e8b3434a3b",
   "metadata": {},
   "outputs": [
    {
     "data": {
      "text/plain": [
       "6587"
      ]
     },
     "execution_count": 58,
     "metadata": {},
     "output_type": "execute_result"
    }
   ],
   "source": [
    "huh.D3_within12months.value_counts().sum()"
   ]
  },
  {
   "cell_type": "code",
   "execution_count": 59,
   "id": "82575833-51df-4d41-bba7-e33456ade6d2",
   "metadata": {},
   "outputs": [],
   "source": [
    "huh_final = huh.dropna(subset=['D3_within12months'])"
   ]
  },
  {
   "cell_type": "code",
   "execution_count": 60,
   "id": "a2fac16e-7398-4940-89b4-c0a313c1a422",
   "metadata": {},
   "outputs": [
    {
     "data": {
      "text/plain": [
       "(6587, 46)"
      ]
     },
     "execution_count": 60,
     "metadata": {},
     "output_type": "execute_result"
    }
   ],
   "source": [
    "huh_final.shape"
   ]
  },
  {
   "cell_type": "code",
   "execution_count": 61,
   "id": "03532184-3cde-4733-90d1-d8418331754a",
   "metadata": {},
   "outputs": [],
   "source": [
    "huh_final.to_csv(f'final_LAN_test_tagged_no_dup_TW_only.csv', index=False)"
   ]
  },
  {
   "cell_type": "code",
   "execution_count": 32,
   "id": "d7852e6a-1772-454c-ab1d-5f49d44d7148",
   "metadata": {},
   "outputs": [],
   "source": [
    "valid_minus_all = test_LANs_valid - test_LANs_all"
   ]
  },
  {
   "cell_type": "code",
   "execution_count": 33,
   "id": "2d0df475-4314-45f5-9b3d-d79a1f0a8617",
   "metadata": {},
   "outputs": [
    {
     "data": {
      "text/plain": [
       "731"
      ]
     },
     "execution_count": 33,
     "metadata": {},
     "output_type": "execute_result"
    }
   ],
   "source": [
    "len(valid_minus_all)"
   ]
  },
  {
   "cell_type": "code",
   "execution_count": 34,
   "id": "e5ddd05a-c1bd-4de7-a9e0-278983d896a9",
   "metadata": {},
   "outputs": [
    {
     "data": {
      "text/plain": [
       "8885"
      ]
     },
     "execution_count": 34,
     "metadata": {},
     "output_type": "execute_result"
    }
   ],
   "source": [
    "8154 + 731"
   ]
  },
  {
   "cell_type": "code",
   "execution_count": 42,
   "id": "2cc4b320-43b6-416d-bc59-0cc2b97325a1",
   "metadata": {},
   "outputs": [],
   "source": [
    "keep_one_copy = huh_final[huh_final.product_description == '2 Wheeler Loan']"
   ]
  },
  {
   "cell_type": "code",
   "execution_count": 39,
   "id": "77affc6b-e6fe-4ce8-a543-76be809b1ab9",
   "metadata": {},
   "outputs": [
    {
     "data": {
      "text/plain": [
       "array(['E - Bike', '2 Wheeler Loan', 'Used Car', 'Used Two Wheeler Loan'],\n",
       "      dtype=object)"
      ]
     },
     "execution_count": 39,
     "metadata": {},
     "output_type": "execute_result"
    }
   ],
   "source": [
    "huh.product_description.unique()"
   ]
  },
  {
   "cell_type": "code",
   "execution_count": 4,
   "id": "81ce5063-8a5f-43a9-a9ab-1afbe3f3dc1d",
   "metadata": {},
   "outputs": [
    {
     "data": {
      "text/plain": [
       "(18623, 39)"
      ]
     },
     "execution_count": 4,
     "metadata": {},
     "output_type": "execute_result"
    }
   ],
   "source": [
    "raw_test_df.shape"
   ]
  },
  {
   "cell_type": "code",
   "execution_count": 61,
   "id": "96a1e777-532d-4405-9463-1182e539ed69",
   "metadata": {},
   "outputs": [],
   "source": [
    "TW_df = raw_test_df[raw_test_df.product_description == '2 Wheeler Loan']"
   ]
  },
  {
   "cell_type": "code",
   "execution_count": 62,
   "id": "a221c68f-43ca-41bc-bb5e-0220866080c9",
   "metadata": {},
   "outputs": [
    {
     "data": {
      "text/plain": [
       "(17484, 39)"
      ]
     },
     "execution_count": 62,
     "metadata": {},
     "output_type": "execute_result"
    }
   ],
   "source": [
    "TW_df.shape"
   ]
  },
  {
   "cell_type": "code",
   "execution_count": 50,
   "id": "f474b608-5370-4fc6-a128-6711fd03d697",
   "metadata": {},
   "outputs": [
    {
     "data": {
      "text/plain": [
       "0        APPL00269166\n",
       "1        APPL00273869\n",
       "2        APPL00288662\n",
       "3        APPL00289273\n",
       "4        APPL00275395\n",
       "             ...     \n",
       "18618    APPL00283403\n",
       "18619    APPL00268824\n",
       "18620    APPL00287866\n",
       "18621    APPL00283505\n",
       "18622    APPL00274842\n",
       "Name: APPLICATION_NUMBER, Length: 17484, dtype: object"
      ]
     },
     "execution_count": 50,
     "metadata": {},
     "output_type": "execute_result"
    }
   ],
   "source": [
    "TW_df.APPLICATION_NUMBER"
   ]
  },
  {
   "cell_type": "code",
   "execution_count": 51,
   "id": "6912c238-cd2c-45db-b60c-54c04598567c",
   "metadata": {},
   "outputs": [],
   "source": [
    "duplicated_A = TW_df.duplicated(subset='APPLICATION_NUMBER', keep =False)\n",
    "\n",
    "# Drop the rows that meet both conditions\n",
    "TW_no_dup = TW_df.drop(TW_df[duplicated_A].index)"
   ]
  },
  {
   "cell_type": "code",
   "execution_count": 52,
   "id": "c8b5b8f1-d361-488e-a0cd-25ba2bca6a9b",
   "metadata": {},
   "outputs": [
    {
     "data": {
      "text/plain": [
       "6045"
      ]
     },
     "execution_count": 52,
     "metadata": {},
     "output_type": "execute_result"
    }
   ],
   "source": [
    "duplicated_A.sum()"
   ]
  },
  {
   "cell_type": "code",
   "execution_count": 55,
   "id": "0630ddc0-8452-4e1a-8373-a58e5d41b7d7",
   "metadata": {},
   "outputs": [
    {
     "data": {
      "text/plain": [
       "(11439, 39)"
      ]
     },
     "execution_count": 55,
     "metadata": {},
     "output_type": "execute_result"
    }
   ],
   "source": [
    "TW_no_dup.shape"
   ]
  },
  {
   "cell_type": "code",
   "execution_count": 56,
   "id": "478f252c-c653-4a9d-98e9-80c01e72b185",
   "metadata": {},
   "outputs": [
    {
     "data": {
      "text/plain": [
       "(11439, 39)"
      ]
     },
     "execution_count": 56,
     "metadata": {},
     "output_type": "execute_result"
    }
   ],
   "source": [
    "TW_no_dup.shape"
   ]
  },
  {
   "cell_type": "code",
   "execution_count": 41,
   "id": "f41c8bad-1570-4e08-abde-55ed4a4e6212",
   "metadata": {},
   "outputs": [
    {
     "data": {
      "text/plain": [
       "Index(['loan_account_no', 'APPLICATION_NUMBER', 'CIFNUMBER', 'CUSTOMER_NUMBER',\n",
       "       'Application Received Date', 'product_description', 'Judgement date',\n",
       "       'DECISION', 'USER_COMMENT', 'LOAN_ACCOUNT_NO_og',\n",
       "       'LOAN_SANCTIONED_DATE', 'LOAN_AMOUNT', 'DISBURSAL_DATE',\n",
       "       'LOAN_ASSETCOST', 'number_of_installments', 'ORIGINAL_EMI_AMOUNT',\n",
       "       'interest_rate', 'res_years_at_current_city', 'res_resident_status',\n",
       "       'res_city', 'res_state', 'AGE', 'DATE_OF_BIRTH', 'Gender',\n",
       "       'Manufacturer', 'Down_Payment_Amount', 'Asset_Model', 'Dealer',\n",
       "       'Total_Income', 'Branch_Name', 'Occupation_Type', 'Industry',\n",
       "       'Marital_Status', 'Nature_Of_Business', 'loan_asset_cost',\n",
       "       'bureau_score', 'channel', 'res_years_at_current_address',\n",
       "       'years_in_occupation'],\n",
       "      dtype='object')"
      ]
     },
     "execution_count": 41,
     "metadata": {},
     "output_type": "execute_result"
    }
   ],
   "source": [
    "TW_no_dup.columns"
   ]
  },
  {
   "cell_type": "code",
   "execution_count": 58,
   "id": "86d84970-302d-413e-bc2f-8a59f935ef32",
   "metadata": {},
   "outputs": [],
   "source": [
    "misisng_TW_no_dup = TW_no_dup[TW_no_dup.LOAN_ASSETCOST.isna()]"
   ]
  },
  {
   "cell_type": "code",
   "execution_count": 60,
   "id": "7bbc4d9d-003a-4a43-a75d-703c0e869064",
   "metadata": {},
   "outputs": [
    {
     "data": {
      "text/plain": [
       "DECISION\n",
       "Reject     3431\n",
       "Approve    1080\n",
       "Name: count, dtype: int64"
      ]
     },
     "execution_count": 60,
     "metadata": {},
     "output_type": "execute_result"
    }
   ],
   "source": [
    "misisng_TW_no_dup.DECISION.value_counts()"
   ]
  },
  {
   "cell_type": "code",
   "execution_count": 63,
   "id": "3a08f738-ac7d-4da7-ba99-2b293c4d835c",
   "metadata": {},
   "outputs": [],
   "source": [
    "#divergence\n",
    "duplicated_A = TW_df.duplicated(subset='LOAN_ACCOUNT_NO_og', keep =False)\n",
    "\n",
    "# Drop the rows that meet both conditions\n",
    "TW_no_dup = TW_df.drop(TW_df[duplicated_A].index)"
   ]
  },
  {
   "cell_type": "code",
   "execution_count": 64,
   "id": "2f46ed3a-9972-4ce3-80e3-1b3e82868249",
   "metadata": {},
   "outputs": [
    {
     "data": {
      "text/html": [
       "<div>\n",
       "<style scoped>\n",
       "    .dataframe tbody tr th:only-of-type {\n",
       "        vertical-align: middle;\n",
       "    }\n",
       "\n",
       "    .dataframe tbody tr th {\n",
       "        vertical-align: top;\n",
       "    }\n",
       "\n",
       "    .dataframe thead th {\n",
       "        text-align: right;\n",
       "    }\n",
       "</style>\n",
       "<table border=\"1\" class=\"dataframe\">\n",
       "  <thead>\n",
       "    <tr style=\"text-align: right;\">\n",
       "      <th></th>\n",
       "      <th>loan_account_no</th>\n",
       "      <th>APPLICATION_NUMBER</th>\n",
       "      <th>CIFNUMBER</th>\n",
       "      <th>CUSTOMER_NUMBER</th>\n",
       "      <th>Application Received Date</th>\n",
       "      <th>product_description</th>\n",
       "      <th>Judgement date</th>\n",
       "      <th>DECISION</th>\n",
       "      <th>USER_COMMENT</th>\n",
       "      <th>LOAN_ACCOUNT_NO_og</th>\n",
       "      <th>...</th>\n",
       "      <th>Branch_Name</th>\n",
       "      <th>Occupation_Type</th>\n",
       "      <th>Industry</th>\n",
       "      <th>Marital_Status</th>\n",
       "      <th>Nature_Of_Business</th>\n",
       "      <th>loan_asset_cost</th>\n",
       "      <th>bureau_score</th>\n",
       "      <th>channel</th>\n",
       "      <th>res_years_at_current_address</th>\n",
       "      <th>years_in_occupation</th>\n",
       "    </tr>\n",
       "  </thead>\n",
       "  <tbody>\n",
       "    <tr>\n",
       "      <th>0</th>\n",
       "      <td>ARBIT1</td>\n",
       "      <td>APPL00269166</td>\n",
       "      <td>GLBCUST00000233038</td>\n",
       "      <td>CUST00240605</td>\n",
       "      <td>1/5/2024</td>\n",
       "      <td>2 Wheeler Loan</td>\n",
       "      <td>1/8/2024</td>\n",
       "      <td>Approve</td>\n",
       "      <td>NO TE CODE Model an La changed &amp; as per pan ca...</td>\n",
       "      <td>TW01010101000002287379</td>\n",
       "      <td>...</td>\n",
       "      <td>Eastern Mumbai</td>\n",
       "      <td>Self Employed Non Professional</td>\n",
       "      <td>Others</td>\n",
       "      <td>Married</td>\n",
       "      <td>Others</td>\n",
       "      <td>126000</td>\n",
       "      <td>748</td>\n",
       "      <td>NaN</td>\n",
       "      <td>NaN</td>\n",
       "      <td>NaN</td>\n",
       "    </tr>\n",
       "    <tr>\n",
       "      <th>1</th>\n",
       "      <td>ARBIT2</td>\n",
       "      <td>APPL00273869</td>\n",
       "      <td>GLBCUST00000237107</td>\n",
       "      <td>CUST00244824</td>\n",
       "      <td>1/17/2024</td>\n",
       "      <td>2 Wheeler Loan</td>\n",
       "      <td>1/17/2024</td>\n",
       "      <td>Approve</td>\n",
       "      <td>NO TEST CODE Change the loan amount dp amount ...</td>\n",
       "      <td>TW01010107000002289052</td>\n",
       "      <td>...</td>\n",
       "      <td>Western Mumbai</td>\n",
       "      <td>Self Employed Non Professional</td>\n",
       "      <td>Apparels</td>\n",
       "      <td>Married</td>\n",
       "      <td>Services</td>\n",
       "      <td>86500</td>\n",
       "      <td>784</td>\n",
       "      <td>NaN</td>\n",
       "      <td>NaN</td>\n",
       "      <td>NaN</td>\n",
       "    </tr>\n",
       "    <tr>\n",
       "      <th>4</th>\n",
       "      <td>ARBIT5</td>\n",
       "      <td>APPL00275395</td>\n",
       "      <td>GLBCUST00000238449</td>\n",
       "      <td>CUST00246209</td>\n",
       "      <td>1/21/2024</td>\n",
       "      <td>2 Wheeler Loan</td>\n",
       "      <td>1/25/2024</td>\n",
       "      <td>Approve</td>\n",
       "      <td>no test code - Name Change</td>\n",
       "      <td>TW01010106000002290584</td>\n",
       "      <td>...</td>\n",
       "      <td>Virar</td>\n",
       "      <td>Self Employed Non Professional</td>\n",
       "      <td>Others</td>\n",
       "      <td>Married</td>\n",
       "      <td>Others</td>\n",
       "      <td>96000</td>\n",
       "      <td>746</td>\n",
       "      <td>NaN</td>\n",
       "      <td>NaN</td>\n",
       "      <td>NaN</td>\n",
       "    </tr>\n",
       "    <tr>\n",
       "      <th>6</th>\n",
       "      <td>ARBIT7</td>\n",
       "      <td>APPL00277554</td>\n",
       "      <td>GLBCUST00000240349</td>\n",
       "      <td>CUST00248144</td>\n",
       "      <td>1/27/2024</td>\n",
       "      <td>2 Wheeler Loan</td>\n",
       "      <td>1/31/2024</td>\n",
       "      <td>Approve</td>\n",
       "      <td>No test code Change the model name loan amount...</td>\n",
       "      <td>TW01010107000002291712</td>\n",
       "      <td>...</td>\n",
       "      <td>Western Mumbai</td>\n",
       "      <td>Self Employed Non Professional</td>\n",
       "      <td>Apparels</td>\n",
       "      <td>Married</td>\n",
       "      <td>Services</td>\n",
       "      <td>130000</td>\n",
       "      <td>-1</td>\n",
       "      <td>NaN</td>\n",
       "      <td>NaN</td>\n",
       "      <td>NaN</td>\n",
       "    </tr>\n",
       "    <tr>\n",
       "      <th>7</th>\n",
       "      <td>ARBIT8</td>\n",
       "      <td>APPL00279454</td>\n",
       "      <td>GLBCUST00000242011</td>\n",
       "      <td>CUST00249873</td>\n",
       "      <td>2/1/2024</td>\n",
       "      <td>2 Wheeler Loan</td>\n",
       "      <td>2/9/2024</td>\n",
       "      <td>Approve</td>\n",
       "      <td>Case approved on DP basis (25%) - DEVIATION AP...</td>\n",
       "      <td>TW01010104000002294127</td>\n",
       "      <td>...</td>\n",
       "      <td>S Mumbai</td>\n",
       "      <td>Self Employed Non Professional</td>\n",
       "      <td>Others</td>\n",
       "      <td>Single</td>\n",
       "      <td>Others</td>\n",
       "      <td>108000</td>\n",
       "      <td>761</td>\n",
       "      <td>NaN</td>\n",
       "      <td>NaN</td>\n",
       "      <td>NaN</td>\n",
       "    </tr>\n",
       "    <tr>\n",
       "      <th>...</th>\n",
       "      <td>...</td>\n",
       "      <td>...</td>\n",
       "      <td>...</td>\n",
       "      <td>...</td>\n",
       "      <td>...</td>\n",
       "      <td>...</td>\n",
       "      <td>...</td>\n",
       "      <td>...</td>\n",
       "      <td>...</td>\n",
       "      <td>...</td>\n",
       "      <td>...</td>\n",
       "      <td>...</td>\n",
       "      <td>...</td>\n",
       "      <td>...</td>\n",
       "      <td>...</td>\n",
       "      <td>...</td>\n",
       "      <td>...</td>\n",
       "      <td>...</td>\n",
       "      <td>...</td>\n",
       "      <td>...</td>\n",
       "      <td>...</td>\n",
       "    </tr>\n",
       "    <tr>\n",
       "      <th>17702</th>\n",
       "      <td>ARBIT17703</td>\n",
       "      <td>APPL00267971</td>\n",
       "      <td>GLBCUST00000232009</td>\n",
       "      <td>CUST00239537</td>\n",
       "      <td>1/2/2024</td>\n",
       "      <td>2 Wheeler Loan</td>\n",
       "      <td>1/5/2024</td>\n",
       "      <td>Approve</td>\n",
       "      <td>NO TEST CODE</td>\n",
       "      <td>TW01030105000002286440</td>\n",
       "      <td>...</td>\n",
       "      <td>West Delhi</td>\n",
       "      <td>Salaried</td>\n",
       "      <td>Others</td>\n",
       "      <td>Married</td>\n",
       "      <td>Services</td>\n",
       "      <td>135000</td>\n",
       "      <td>775</td>\n",
       "      <td>NaN</td>\n",
       "      <td>NaN</td>\n",
       "      <td>NaN</td>\n",
       "    </tr>\n",
       "    <tr>\n",
       "      <th>17703</th>\n",
       "      <td>ARBIT17704</td>\n",
       "      <td>APPL00286713</td>\n",
       "      <td>GLBCUST00000248253</td>\n",
       "      <td>CUST00256514</td>\n",
       "      <td>2/21/2024</td>\n",
       "      <td>2 Wheeler Loan</td>\n",
       "      <td>3/5/2024</td>\n",
       "      <td>Approve</td>\n",
       "      <td>TEST PROGRAM FOR CD-TW | TENURE CHANGE DONE</td>\n",
       "      <td>TW01020101000002298428</td>\n",
       "      <td>...</td>\n",
       "      <td>East Bangalore</td>\n",
       "      <td>Salaried</td>\n",
       "      <td>Others</td>\n",
       "      <td>Married</td>\n",
       "      <td>Others</td>\n",
       "      <td>111000</td>\n",
       "      <td>-1</td>\n",
       "      <td>NaN</td>\n",
       "      <td>NaN</td>\n",
       "      <td>NaN</td>\n",
       "    </tr>\n",
       "    <tr>\n",
       "      <th>17704</th>\n",
       "      <td>ARBIT17705</td>\n",
       "      <td>APPL00271507</td>\n",
       "      <td>GLBCUST00000235095</td>\n",
       "      <td>CUST00242723</td>\n",
       "      <td>1/11/2024</td>\n",
       "      <td>2 Wheeler Loan</td>\n",
       "      <td>1/11/2024</td>\n",
       "      <td>Approve</td>\n",
       "      <td>No test code</td>\n",
       "      <td>TW01010103000002288457</td>\n",
       "      <td>...</td>\n",
       "      <td>N Western Mumbai</td>\n",
       "      <td>Salaried</td>\n",
       "      <td>Others</td>\n",
       "      <td>Married</td>\n",
       "      <td>Services</td>\n",
       "      <td>60000</td>\n",
       "      <td>745</td>\n",
       "      <td>NaN</td>\n",
       "      <td>NaN</td>\n",
       "      <td>NaN</td>\n",
       "    </tr>\n",
       "    <tr>\n",
       "      <th>17706</th>\n",
       "      <td>ARBIT17707</td>\n",
       "      <td>APPL00281438</td>\n",
       "      <td>GLBCUST00000243693</td>\n",
       "      <td>CUST00251667</td>\n",
       "      <td>2/7/2024</td>\n",
       "      <td>2 Wheeler Loan</td>\n",
       "      <td>2/7/2024</td>\n",
       "      <td>Approve</td>\n",
       "      <td>NO TEST CODE</td>\n",
       "      <td>TW01010103000002292968</td>\n",
       "      <td>...</td>\n",
       "      <td>N Western Mumbai</td>\n",
       "      <td>Self Employed Non Professional</td>\n",
       "      <td>Others</td>\n",
       "      <td>Single</td>\n",
       "      <td>Services</td>\n",
       "      <td>83000</td>\n",
       "      <td>752</td>\n",
       "      <td>NaN</td>\n",
       "      <td>NaN</td>\n",
       "      <td>NaN</td>\n",
       "    </tr>\n",
       "    <tr>\n",
       "      <th>17710</th>\n",
       "      <td>ARBIT17711</td>\n",
       "      <td>APPL00287911</td>\n",
       "      <td>GLBCUST00000267244</td>\n",
       "      <td>CUST00257640</td>\n",
       "      <td>2/24/2024</td>\n",
       "      <td>2 Wheeler Loan</td>\n",
       "      <td>4/23/2024</td>\n",
       "      <td>Approve</td>\n",
       "      <td>NO TEST CODE</td>\n",
       "      <td>TW01010105000002306301</td>\n",
       "      <td>...</td>\n",
       "      <td>Thane</td>\n",
       "      <td>Self Employed Non Professional</td>\n",
       "      <td>Agriculture</td>\n",
       "      <td>Married</td>\n",
       "      <td>Services</td>\n",
       "      <td>137700</td>\n",
       "      <td>-1</td>\n",
       "      <td>NaN</td>\n",
       "      <td>NaN</td>\n",
       "      <td>NaN</td>\n",
       "    </tr>\n",
       "  </tbody>\n",
       "</table>\n",
       "<p>6928 rows × 39 columns</p>\n",
       "</div>"
      ],
      "text/plain": [
       "      loan_account_no APPLICATION_NUMBER           CIFNUMBER CUSTOMER_NUMBER  \\\n",
       "0              ARBIT1       APPL00269166  GLBCUST00000233038    CUST00240605   \n",
       "1              ARBIT2       APPL00273869  GLBCUST00000237107    CUST00244824   \n",
       "4              ARBIT5       APPL00275395  GLBCUST00000238449    CUST00246209   \n",
       "6              ARBIT7       APPL00277554  GLBCUST00000240349    CUST00248144   \n",
       "7              ARBIT8       APPL00279454  GLBCUST00000242011    CUST00249873   \n",
       "...               ...                ...                 ...             ...   \n",
       "17702      ARBIT17703       APPL00267971  GLBCUST00000232009    CUST00239537   \n",
       "17703      ARBIT17704       APPL00286713  GLBCUST00000248253    CUST00256514   \n",
       "17704      ARBIT17705       APPL00271507  GLBCUST00000235095    CUST00242723   \n",
       "17706      ARBIT17707       APPL00281438  GLBCUST00000243693    CUST00251667   \n",
       "17710      ARBIT17711       APPL00287911  GLBCUST00000267244    CUST00257640   \n",
       "\n",
       "      Application Received Date product_description Judgement date DECISION  \\\n",
       "0                      1/5/2024      2 Wheeler Loan       1/8/2024  Approve   \n",
       "1                     1/17/2024      2 Wheeler Loan      1/17/2024  Approve   \n",
       "4                     1/21/2024      2 Wheeler Loan      1/25/2024  Approve   \n",
       "6                     1/27/2024      2 Wheeler Loan      1/31/2024  Approve   \n",
       "7                      2/1/2024      2 Wheeler Loan       2/9/2024  Approve   \n",
       "...                         ...                 ...            ...      ...   \n",
       "17702                  1/2/2024      2 Wheeler Loan       1/5/2024  Approve   \n",
       "17703                 2/21/2024      2 Wheeler Loan       3/5/2024  Approve   \n",
       "17704                 1/11/2024      2 Wheeler Loan      1/11/2024  Approve   \n",
       "17706                  2/7/2024      2 Wheeler Loan       2/7/2024  Approve   \n",
       "17710                 2/24/2024      2 Wheeler Loan      4/23/2024  Approve   \n",
       "\n",
       "                                            USER_COMMENT  \\\n",
       "0      NO TE CODE Model an La changed & as per pan ca...   \n",
       "1      NO TEST CODE Change the loan amount dp amount ...   \n",
       "4                             no test code - Name Change   \n",
       "6      No test code Change the model name loan amount...   \n",
       "7      Case approved on DP basis (25%) - DEVIATION AP...   \n",
       "...                                                  ...   \n",
       "17702                                       NO TEST CODE   \n",
       "17703        TEST PROGRAM FOR CD-TW | TENURE CHANGE DONE   \n",
       "17704                                       No test code   \n",
       "17706                                       NO TEST CODE   \n",
       "17710                                       NO TEST CODE   \n",
       "\n",
       "           LOAN_ACCOUNT_NO_og  ...       Branch_Name  \\\n",
       "0      TW01010101000002287379  ...    Eastern Mumbai   \n",
       "1      TW01010107000002289052  ...    Western Mumbai   \n",
       "4      TW01010106000002290584  ...             Virar   \n",
       "6      TW01010107000002291712  ...    Western Mumbai   \n",
       "7      TW01010104000002294127  ...          S Mumbai   \n",
       "...                       ...  ...               ...   \n",
       "17702  TW01030105000002286440  ...        West Delhi   \n",
       "17703  TW01020101000002298428  ...    East Bangalore   \n",
       "17704  TW01010103000002288457  ...  N Western Mumbai   \n",
       "17706  TW01010103000002292968  ...  N Western Mumbai   \n",
       "17710  TW01010105000002306301  ...             Thane   \n",
       "\n",
       "                      Occupation_Type     Industry  Marital_Status  \\\n",
       "0      Self Employed Non Professional       Others         Married   \n",
       "1      Self Employed Non Professional     Apparels         Married   \n",
       "4      Self Employed Non Professional       Others         Married   \n",
       "6      Self Employed Non Professional     Apparels         Married   \n",
       "7      Self Employed Non Professional       Others          Single   \n",
       "...                               ...          ...             ...   \n",
       "17702                        Salaried       Others         Married   \n",
       "17703                        Salaried       Others         Married   \n",
       "17704                        Salaried       Others         Married   \n",
       "17706  Self Employed Non Professional       Others          Single   \n",
       "17710  Self Employed Non Professional  Agriculture         Married   \n",
       "\n",
       "       Nature_Of_Business  loan_asset_cost  bureau_score  channel  \\\n",
       "0                  Others           126000           748      NaN   \n",
       "1                Services            86500           784      NaN   \n",
       "4                  Others            96000           746      NaN   \n",
       "6                Services           130000            -1      NaN   \n",
       "7                  Others           108000           761      NaN   \n",
       "...                   ...              ...           ...      ...   \n",
       "17702            Services           135000           775      NaN   \n",
       "17703              Others           111000            -1      NaN   \n",
       "17704            Services            60000           745      NaN   \n",
       "17706            Services            83000           752      NaN   \n",
       "17710            Services           137700            -1      NaN   \n",
       "\n",
       "      res_years_at_current_address years_in_occupation  \n",
       "0                              NaN                 NaN  \n",
       "1                              NaN                 NaN  \n",
       "4                              NaN                 NaN  \n",
       "6                              NaN                 NaN  \n",
       "7                              NaN                 NaN  \n",
       "...                            ...                 ...  \n",
       "17702                          NaN                 NaN  \n",
       "17703                          NaN                 NaN  \n",
       "17704                          NaN                 NaN  \n",
       "17706                          NaN                 NaN  \n",
       "17710                          NaN                 NaN  \n",
       "\n",
       "[6928 rows x 39 columns]"
      ]
     },
     "execution_count": 64,
     "metadata": {},
     "output_type": "execute_result"
    }
   ],
   "source": [
    "TW_no_dup"
   ]
  },
  {
   "cell_type": "code",
   "execution_count": null,
   "id": "27bfa207-35fc-4d16-9175-30fa2f854238",
   "metadata": {},
   "outputs": [],
   "source": []
  }
 ],
 "metadata": {
  "kernelspec": {
   "display_name": "Python 3 (ipykernel)",
   "language": "python",
   "name": "python3"
  },
  "language_info": {
   "codemirror_mode": {
    "name": "ipython",
    "version": 3
   },
   "file_extension": ".py",
   "mimetype": "text/x-python",
   "name": "python",
   "nbconvert_exporter": "python",
   "pygments_lexer": "ipython3",
   "version": "3.12.2"
  }
 },
 "nbformat": 4,
 "nbformat_minor": 5
}
