{
 "cells": [
  {
   "cell_type": "markdown",
   "id": "9d0b4bed-9ee6-46e3-a8a5-0cf597786141",
   "metadata": {},
   "source": [
    "Preparation of raw data such that a manageable size can be worked on with for target column preparation."
   ]
  },
  {
   "cell_type": "markdown",
   "id": "1a51d5d2-360f-451d-ab90-dcfeb038c571",
   "metadata": {},
   "source": [
    "Flow\n",
    "1. Load data (pdf - portfolio dataframe) that contains 'loan_account_no', 'report_date','number_of_installments','days_past_due','bucket_MA','bucket_RBI'.\n",
    "2. Create reduced pdf (bc pdf is pdf is usually pretty large) and then save.\n",
    "3. Check dates: confirm if 'repayment_start_date' > 'loan_application_date'\n",
    "4. Check if number of installments is equal to (maturitydate - repayment_start_date + 1) [in year-month]\n",
    "5. If 3-4 are confirmed, merge datasets\n",
    "6. simplify columns to only include loan_account_no, repayment_start_date, report_date, bucket_MA, days_past_due]\n",
    "7. create a column for nth month\n",
    "8. save df with nth month and bucket, proceed with target column tagging (spearate notebook)"
   ]
  },
  {
   "cell_type": "code",
   "execution_count": 1,
   "id": "d4be9c94",
   "metadata": {},
   "outputs": [],
   "source": [
    "#import necessary libraries\n",
    "import pandas as pd\n",
    "import numpy as np\n",
    "import matplotlib.pyplot as plt\n",
    "pd.set_option('display.max_columns', None)\n",
    "import datetime\n",
    "import math"
   ]
  },
  {
   "cell_type": "code",
   "execution_count": 3,
   "id": "3e860866",
   "metadata": {},
   "outputs": [],
   "source": [
    "#load data\n",
    "basis_df = pd.read_csv(r\"C:\\Users\\emanlangit\\Documents\\ACSIN\\01 ACSIN EDA\\Data\\BASE DATA FOR EDA.csv\", low_memory=False)"
   ]
  },
  {
   "cell_type": "code",
   "execution_count": 4,
   "id": "caf09511",
   "metadata": {},
   "outputs": [],
   "source": [
    "basis_df = basis_df.dropna(subset = ['disbursal_amount'])"
   ]
  },
  {
   "cell_type": "code",
   "execution_count": 8,
   "id": "c5c3eb51-b8a0-48fd-acab-4d2b2f22a52c",
   "metadata": {},
   "outputs": [
    {
     "data": {
      "text/plain": [
       "(87093, 168)"
      ]
     },
     "execution_count": 8,
     "metadata": {},
     "output_type": "execute_result"
    }
   ],
   "source": [
    "basis_df.shape"
   ]
  },
  {
   "cell_type": "code",
   "execution_count": 7,
   "id": "9cb5329c",
   "metadata": {},
   "outputs": [],
   "source": [
    "#load data\n",
    "portfolio_df = pd.read_csv(r\"C:\\Users\\emanlangit\\Documents\\ACSIN\\01 ACSIN EDA\\Data\\portfolio.csv\", low_memory=False)"
   ]
  },
  {
   "cell_type": "code",
   "execution_count": 9,
   "id": "2b25eea4-a92d-43f3-ab98-a30e8f9b0710",
   "metadata": {},
   "outputs": [
    {
     "data": {
      "text/plain": [
       "(5614957, 30)"
      ]
     },
     "execution_count": 9,
     "metadata": {},
     "output_type": "execute_result"
    }
   ],
   "source": [
    "portfolio_df.shape"
   ]
  },
  {
   "cell_type": "code",
   "execution_count": 10,
   "id": "4707481d",
   "metadata": {},
   "outputs": [],
   "source": [
    "needed_cols = ['loan_account_no', 'report_date','number_of_installments','days_past_due','bucket_MA','bucket_RBI']\n",
    "reduced_pdf = portfolio_df[needed_cols]\n",
    "#reduced_pdf = pd.read_csv(r\"C:\\Users\\emanlangit\\Documents\\ACSIN\\Notebooks\\reduced_data.csv\")"
   ]
  },
  {
   "cell_type": "code",
   "execution_count": 13,
   "id": "f01469ed-658b-4038-b11e-b4884c49e967",
   "metadata": {},
   "outputs": [
    {
     "data": {
      "text/html": [
       "<div>\n",
       "<style scoped>\n",
       "    .dataframe tbody tr th:only-of-type {\n",
       "        vertical-align: middle;\n",
       "    }\n",
       "\n",
       "    .dataframe tbody tr th {\n",
       "        vertical-align: top;\n",
       "    }\n",
       "\n",
       "    .dataframe thead th {\n",
       "        text-align: right;\n",
       "    }\n",
       "</style>\n",
       "<table border=\"1\" class=\"dataframe\">\n",
       "  <thead>\n",
       "    <tr style=\"text-align: right;\">\n",
       "      <th></th>\n",
       "      <th>loan_account_no</th>\n",
       "      <th>report_date</th>\n",
       "      <th>number_of_installments</th>\n",
       "      <th>days_past_due</th>\n",
       "      <th>bucket_MA</th>\n",
       "      <th>bucket_RBI</th>\n",
       "    </tr>\n",
       "  </thead>\n",
       "  <tbody>\n",
       "    <tr>\n",
       "      <th>0</th>\n",
       "      <td>TW01020104000000005397</td>\n",
       "      <td>2021-01-01</td>\n",
       "      <td>12.0</td>\n",
       "      <td>0.0</td>\n",
       "      <td>D0</td>\n",
       "      <td>D0</td>\n",
       "    </tr>\n",
       "    <tr>\n",
       "      <th>1</th>\n",
       "      <td>TW01020102000000005590</td>\n",
       "      <td>2021-01-01</td>\n",
       "      <td>36.0</td>\n",
       "      <td>0.0</td>\n",
       "      <td>D0</td>\n",
       "      <td>D0</td>\n",
       "    </tr>\n",
       "    <tr>\n",
       "      <th>2</th>\n",
       "      <td>TW01010105000000005537</td>\n",
       "      <td>2021-01-01</td>\n",
       "      <td>36.0</td>\n",
       "      <td>0.0</td>\n",
       "      <td>D0</td>\n",
       "      <td>D0</td>\n",
       "    </tr>\n",
       "    <tr>\n",
       "      <th>3</th>\n",
       "      <td>TW01010104000000005899</td>\n",
       "      <td>2021-01-01</td>\n",
       "      <td>36.0</td>\n",
       "      <td>0.0</td>\n",
       "      <td>D0</td>\n",
       "      <td>D0</td>\n",
       "    </tr>\n",
       "    <tr>\n",
       "      <th>4</th>\n",
       "      <td>TW01010103000000005795</td>\n",
       "      <td>2021-01-01</td>\n",
       "      <td>24.0</td>\n",
       "      <td>0.0</td>\n",
       "      <td>D0</td>\n",
       "      <td>D0</td>\n",
       "    </tr>\n",
       "  </tbody>\n",
       "</table>\n",
       "</div>"
      ],
      "text/plain": [
       "          loan_account_no report_date  number_of_installments  days_past_due  \\\n",
       "0  TW01020104000000005397  2021-01-01                    12.0            0.0   \n",
       "1  TW01020102000000005590  2021-01-01                    36.0            0.0   \n",
       "2  TW01010105000000005537  2021-01-01                    36.0            0.0   \n",
       "3  TW01010104000000005899  2021-01-01                    36.0            0.0   \n",
       "4  TW01010103000000005795  2021-01-01                    24.0            0.0   \n",
       "\n",
       "  bucket_MA bucket_RBI  \n",
       "0        D0         D0  \n",
       "1        D0         D0  \n",
       "2        D0         D0  \n",
       "3        D0         D0  \n",
       "4        D0         D0  "
      ]
     },
     "execution_count": 13,
     "metadata": {},
     "output_type": "execute_result"
    }
   ],
   "source": [
    "reduced_pdf.head()"
   ]
  },
  {
   "cell_type": "code",
   "execution_count": null,
   "id": "2d53fd7b",
   "metadata": {},
   "outputs": [],
   "source": [
    "# #valid rows\n",
    "basis_df = basis_df.dropna(subset = ['disbursal_amount'])\n",
    "# valid_accounts = basis_df.loan_account_no.unique().tolist()\n",
    "# reduced_pdf = reduced_pdf[reduced_pdf['loan_account_no'].isin(valid_accounts)]\n",
    "# reduced_pdf.to_csv('valid_reduced_portfolio.csv')"
   ]
  },
  {
   "cell_type": "code",
   "execution_count": null,
   "id": "6efaea3c",
   "metadata": {},
   "outputs": [],
   "source": [
    "basis_df.columns.tolist()"
   ]
  },
  {
   "cell_type": "code",
   "execution_count": null,
   "id": "941cbce7",
   "metadata": {},
   "outputs": [],
   "source": [
    "working_pdf = pd.read_csv(r\"C:\\Users\\emanlangit\\Documents\\ACSIN\\Notebooks\\valid_reduced_portfolio.csv\")\n",
    "working_pdf.columns\n",
    "working_pdf = working_pdf.drop(columns = ['Unnamed: 0.1', 'Unnamed: 0'])\n",
    "working_pdf.head()\n",
    "working_pdf.isnull().sum()\n",
    "working_pdf.days_past_due.unique()\n",
    "working_pdf.report_date\n",
    "working_pdf.info()\n",
    "len(working_pdf.loan_account_no.unique())\n",
    "len(basis_df.loan_account_no.unique())"
   ]
  },
  {
   "cell_type": "code",
   "execution_count": 16,
   "id": "05523305",
   "metadata": {},
   "outputs": [],
   "source": [
    "dates = basis_df[['repayment_start_date','loan_application_date']].apply(lambda x: pd.to_datetime(x, format='%Y-%m-%d', errors = 'coerce'))"
   ]
  },
  {
   "cell_type": "code",
   "execution_count": 17,
   "id": "63467f7a",
   "metadata": {},
   "outputs": [],
   "source": [
    "dates['check 1'] = dates['repayment_start_date'] > dates['loan_application_date']"
   ]
  },
  {
   "cell_type": "code",
   "execution_count": 18,
   "id": "6c9d9d21",
   "metadata": {},
   "outputs": [
    {
     "data": {
      "text/plain": [
       "check 1\n",
       "True    87093\n",
       "Name: count, dtype: int64"
      ]
     },
     "execution_count": 18,
     "metadata": {},
     "output_type": "execute_result"
    }
   ],
   "source": [
    "dates['check 1'].value_counts()"
   ]
  },
  {
   "cell_type": "code",
   "execution_count": 20,
   "id": "805c1ac2",
   "metadata": {},
   "outputs": [],
   "source": [
    "#basis_df.maturitydate"
   ]
  },
  {
   "cell_type": "code",
   "execution_count": 21,
   "id": "0031ea8d",
   "metadata": {},
   "outputs": [
    {
     "name": "stderr",
     "output_type": "stream",
     "text": [
      "C:\\Users\\emanlangit.AEONCREDIT\\AppData\\Local\\Temp\\ipykernel_3584\\2574709305.py:3: SettingWithCopyWarning: \n",
      "A value is trying to be set on a copy of a slice from a DataFrame.\n",
      "Try using .loc[row_indexer,col_indexer] = value instead\n",
      "\n",
      "See the caveats in the documentation: https://pandas.pydata.org/pandas-docs/stable/user_guide/indexing.html#returning-a-view-versus-a-copy\n",
      "  check_df['maturitydate'] = check_df['maturitydate'].apply(lambda x: pd.to_datetime(x, format='%Y-%m-%d', errors = 'coerce'))\n",
      "C:\\Users\\emanlangit.AEONCREDIT\\AppData\\Local\\Temp\\ipykernel_3584\\2574709305.py:4: SettingWithCopyWarning: \n",
      "A value is trying to be set on a copy of a slice from a DataFrame.\n",
      "Try using .loc[row_indexer,col_indexer] = value instead\n",
      "\n",
      "See the caveats in the documentation: https://pandas.pydata.org/pandas-docs/stable/user_guide/indexing.html#returning-a-view-versus-a-copy\n",
      "  check_df['repayment_start_date'] = check_df['repayment_start_date'].apply(lambda x: pd.to_datetime(x, format='%Y-%m-%d', errors = 'coerce'))\n"
     ]
    }
   ],
   "source": [
    "#number_of_installments\n",
    "check_df = basis_df[['loan_account_no','maturitydate','number_of_installments','repayment_start_date']]\n",
    "check_df['maturitydate'] = check_df['maturitydate'].apply(lambda x: pd.to_datetime(x, format='%Y-%m-%d', errors = 'coerce'))\n",
    "check_df['repayment_start_date'] = check_df['repayment_start_date'].apply(lambda x: pd.to_datetime(x, format='%Y-%m-%d', errors = 'coerce'))"
   ]
  },
  {
   "cell_type": "code",
   "execution_count": 22,
   "id": "755405f5",
   "metadata": {},
   "outputs": [
    {
     "name": "stderr",
     "output_type": "stream",
     "text": [
      "C:\\Users\\emanlangit.AEONCREDIT\\AppData\\Local\\Temp\\ipykernel_3584\\120919408.py:1: SettingWithCopyWarning: \n",
      "A value is trying to be set on a copy of a slice from a DataFrame.\n",
      "Try using .loc[row_indexer,col_indexer] = value instead\n",
      "\n",
      "See the caveats in the documentation: https://pandas.pydata.org/pandas-docs/stable/user_guide/indexing.html#returning-a-view-versus-a-copy\n",
      "  check_df['diff'] = check_df['maturitydate'].dt.to_period('M') - check_df['repayment_start_date'].dt.to_period('M')\n",
      "C:\\Users\\emanlangit.AEONCREDIT\\AppData\\Local\\Temp\\ipykernel_3584\\120919408.py:2: SettingWithCopyWarning: \n",
      "A value is trying to be set on a copy of a slice from a DataFrame.\n",
      "Try using .loc[row_indexer,col_indexer] = value instead\n",
      "\n",
      "See the caveats in the documentation: https://pandas.pydata.org/pandas-docs/stable/user_guide/indexing.html#returning-a-view-versus-a-copy\n",
      "  check_df['diff'] = check_df['diff'].apply(lambda x: x.n)\n"
     ]
    }
   ],
   "source": [
    "check_df['diff'] = check_df['maturitydate'].dt.to_period('M') - check_df['repayment_start_date'].dt.to_period('M')\n",
    "check_df['diff'] = check_df['diff'].apply(lambda x: x.n)"
   ]
  },
  {
   "cell_type": "code",
   "execution_count": 23,
   "id": "9ff59585",
   "metadata": {},
   "outputs": [
    {
     "name": "stderr",
     "output_type": "stream",
     "text": [
      "C:\\Users\\emanlangit.AEONCREDIT\\AppData\\Local\\Temp\\ipykernel_3584\\2972022101.py:1: SettingWithCopyWarning: \n",
      "A value is trying to be set on a copy of a slice from a DataFrame.\n",
      "Try using .loc[row_indexer,col_indexer] = value instead\n",
      "\n",
      "See the caveats in the documentation: https://pandas.pydata.org/pandas-docs/stable/user_guide/indexing.html#returning-a-view-versus-a-copy\n",
      "  check_df['check 2'] = (check_df['diff'] + 1) == check_df['number_of_installments']\n"
     ]
    },
    {
     "data": {
      "text/plain": [
       "check 2\n",
       "True    87093\n",
       "Name: count, dtype: int64"
      ]
     },
     "execution_count": 23,
     "metadata": {},
     "output_type": "execute_result"
    }
   ],
   "source": [
    "check_df['check 2'] = (check_df['diff'] + 1) == check_df['number_of_installments']\n",
    "check_df['check 2'].value_counts()"
   ]
  },
  {
   "cell_type": "code",
   "execution_count": 27,
   "id": "0b4a6854",
   "metadata": {},
   "outputs": [],
   "source": [
    "#working_pdf.head()\n",
    "reduced_pdf.head()\n",
    "working_pdf = reduced_pdf.copy()"
   ]
  },
  {
   "cell_type": "code",
   "execution_count": 28,
   "id": "d3f6ceec",
   "metadata": {},
   "outputs": [],
   "source": [
    "#merging dataset\n",
    "merged_df = working_pdf.merge(check_df,how='inner',on=['loan_account_no'])"
   ]
  },
  {
   "cell_type": "code",
   "execution_count": 29,
   "id": "9fc118f9",
   "metadata": {},
   "outputs": [
    {
     "data": {
      "text/plain": [
       "Index(['loan_account_no', 'report_date', 'number_of_installments_x',\n",
       "       'days_past_due', 'bucket_MA', 'bucket_RBI', 'maturitydate',\n",
       "       'number_of_installments_y', 'repayment_start_date', 'diff', 'check 2'],\n",
       "      dtype='object')"
      ]
     },
     "execution_count": 29,
     "metadata": {},
     "output_type": "execute_result"
    }
   ],
   "source": [
    "merged_df.columns"
   ]
  },
  {
   "cell_type": "code",
   "execution_count": 30,
   "id": "b3f32a09",
   "metadata": {},
   "outputs": [],
   "source": [
    "reduced_merged_df = merged_df[['loan_account_no','repayment_start_date','report_date','bucket_MA','days_past_due']]"
   ]
  },
  {
   "cell_type": "code",
   "execution_count": 31,
   "id": "c17cea89",
   "metadata": {},
   "outputs": [
    {
     "name": "stdout",
     "output_type": "stream",
     "text": [
      "<class 'pandas.core.frame.DataFrame'>\n",
      "RangeIndex: 1139065 entries, 0 to 1139064\n",
      "Data columns (total 5 columns):\n",
      " #   Column                Non-Null Count    Dtype         \n",
      "---  ------                --------------    -----         \n",
      " 0   loan_account_no       1139065 non-null  object        \n",
      " 1   repayment_start_date  1139065 non-null  datetime64[ns]\n",
      " 2   report_date           1139065 non-null  object        \n",
      " 3   bucket_MA             1139065 non-null  object        \n",
      " 4   days_past_due         1139065 non-null  float64       \n",
      "dtypes: datetime64[ns](1), float64(1), object(3)\n",
      "memory usage: 43.5+ MB\n"
     ]
    }
   ],
   "source": [
    "reduced_merged_df.info()"
   ]
  },
  {
   "cell_type": "code",
   "execution_count": 32,
   "id": "6c181dc2",
   "metadata": {},
   "outputs": [
    {
     "name": "stderr",
     "output_type": "stream",
     "text": [
      "C:\\Users\\emanlangit.AEONCREDIT\\AppData\\Local\\Temp\\ipykernel_3584\\2076558747.py:1: SettingWithCopyWarning: \n",
      "A value is trying to be set on a copy of a slice from a DataFrame.\n",
      "Try using .loc[row_indexer,col_indexer] = value instead\n",
      "\n",
      "See the caveats in the documentation: https://pandas.pydata.org/pandas-docs/stable/user_guide/indexing.html#returning-a-view-versus-a-copy\n",
      "  reduced_merged_df['report_date'] = reduced_merged_df['report_date'].apply(lambda x: pd.to_datetime(x, format='%Y-%m-%d', errors = 'coerce'))\n"
     ]
    }
   ],
   "source": [
    "reduced_merged_df['report_date'] = reduced_merged_df['report_date'].apply(lambda x: pd.to_datetime(x, format='%Y-%m-%d', errors = 'coerce'))"
   ]
  },
  {
   "cell_type": "code",
   "execution_count": 33,
   "id": "f3b0c318",
   "metadata": {},
   "outputs": [
    {
     "name": "stderr",
     "output_type": "stream",
     "text": [
      "C:\\Users\\emanlangit.AEONCREDIT\\AppData\\Local\\Temp\\ipykernel_3584\\1376891725.py:2: SettingWithCopyWarning: \n",
      "A value is trying to be set on a copy of a slice from a DataFrame.\n",
      "Try using .loc[row_indexer,col_indexer] = value instead\n",
      "\n",
      "See the caveats in the documentation: https://pandas.pydata.org/pandas-docs/stable/user_guide/indexing.html#returning-a-view-versus-a-copy\n",
      "  rm_month_df['repayment_start_month'] = reduced_merged_df['repayment_start_date'].dt.to_period('M')\n",
      "C:\\Users\\emanlangit.AEONCREDIT\\AppData\\Local\\Temp\\ipykernel_3584\\1376891725.py:3: SettingWithCopyWarning: \n",
      "A value is trying to be set on a copy of a slice from a DataFrame.\n",
      "Try using .loc[row_indexer,col_indexer] = value instead\n",
      "\n",
      "See the caveats in the documentation: https://pandas.pydata.org/pandas-docs/stable/user_guide/indexing.html#returning-a-view-versus-a-copy\n",
      "  rm_month_df['report_month'] = reduced_merged_df['report_date'].dt.to_period('M')\n"
     ]
    }
   ],
   "source": [
    "rm_month_df = reduced_merged_df[['loan_account_no','days_past_due']]\n",
    "rm_month_df['repayment_start_month'] = reduced_merged_df['repayment_start_date'].dt.to_period('M')\n",
    "rm_month_df['report_month'] = reduced_merged_df['report_date'].dt.to_period('M')\n",
    "rm_month_df['bucket_MA'] = reduced_merged_df['bucket_MA']\n",
    "rm_month_df['nth month'] = rm_month_df['report_month'] - rm_month_df['repayment_start_month']\n",
    "rm_month_df['nth month'] = rm_month_df['nth month'].apply(lambda x: x.n)\n",
    "rm_month_df['nth month'] = rm_month_df['nth month'] + 1"
   ]
  },
  {
   "cell_type": "code",
   "execution_count": 34,
   "id": "8383467a-3e1f-40c8-9fef-2651d5e3068a",
   "metadata": {},
   "outputs": [
    {
     "data": {
      "text/html": [
       "<div>\n",
       "<style scoped>\n",
       "    .dataframe tbody tr th:only-of-type {\n",
       "        vertical-align: middle;\n",
       "    }\n",
       "\n",
       "    .dataframe tbody tr th {\n",
       "        vertical-align: top;\n",
       "    }\n",
       "\n",
       "    .dataframe thead th {\n",
       "        text-align: right;\n",
       "    }\n",
       "</style>\n",
       "<table border=\"1\" class=\"dataframe\">\n",
       "  <thead>\n",
       "    <tr style=\"text-align: right;\">\n",
       "      <th></th>\n",
       "      <th>loan_account_no</th>\n",
       "      <th>days_past_due</th>\n",
       "      <th>repayment_start_month</th>\n",
       "      <th>report_month</th>\n",
       "      <th>bucket_MA</th>\n",
       "      <th>nth month</th>\n",
       "    </tr>\n",
       "  </thead>\n",
       "  <tbody>\n",
       "    <tr>\n",
       "      <th>0</th>\n",
       "      <td>TW01030102000002194455</td>\n",
       "      <td>0.0</td>\n",
       "      <td>2022-03</td>\n",
       "      <td>2022-01</td>\n",
       "      <td>D0</td>\n",
       "      <td>-1</td>\n",
       "    </tr>\n",
       "    <tr>\n",
       "      <th>1</th>\n",
       "      <td>UT01010104000002195645</td>\n",
       "      <td>0.0</td>\n",
       "      <td>2022-03</td>\n",
       "      <td>2022-01</td>\n",
       "      <td>D0</td>\n",
       "      <td>-1</td>\n",
       "    </tr>\n",
       "    <tr>\n",
       "      <th>2</th>\n",
       "      <td>TW01030107000002194434</td>\n",
       "      <td>0.0</td>\n",
       "      <td>2022-03</td>\n",
       "      <td>2022-01</td>\n",
       "      <td>D0</td>\n",
       "      <td>-1</td>\n",
       "    </tr>\n",
       "    <tr>\n",
       "      <th>3</th>\n",
       "      <td>TW01010103000002194591</td>\n",
       "      <td>0.0</td>\n",
       "      <td>2022-03</td>\n",
       "      <td>2022-01</td>\n",
       "      <td>D0</td>\n",
       "      <td>-1</td>\n",
       "    </tr>\n",
       "    <tr>\n",
       "      <th>4</th>\n",
       "      <td>TW01010104000002194367</td>\n",
       "      <td>0.0</td>\n",
       "      <td>2022-03</td>\n",
       "      <td>2022-01</td>\n",
       "      <td>D0</td>\n",
       "      <td>-1</td>\n",
       "    </tr>\n",
       "    <tr>\n",
       "      <th>...</th>\n",
       "      <td>...</td>\n",
       "      <td>...</td>\n",
       "      <td>...</td>\n",
       "      <td>...</td>\n",
       "      <td>...</td>\n",
       "      <td>...</td>\n",
       "    </tr>\n",
       "    <tr>\n",
       "      <th>1139060</th>\n",
       "      <td>TW01020103000002281621</td>\n",
       "      <td>0.0</td>\n",
       "      <td>2024-01</td>\n",
       "      <td>2024-03</td>\n",
       "      <td>D0</td>\n",
       "      <td>3</td>\n",
       "    </tr>\n",
       "    <tr>\n",
       "      <th>1139061</th>\n",
       "      <td>TW01010102000002212057</td>\n",
       "      <td>0.0</td>\n",
       "      <td>2022-09</td>\n",
       "      <td>2024-03</td>\n",
       "      <td>D0</td>\n",
       "      <td>19</td>\n",
       "    </tr>\n",
       "    <tr>\n",
       "      <th>1139062</th>\n",
       "      <td>TW01010107000002248785</td>\n",
       "      <td>0.0</td>\n",
       "      <td>2023-07</td>\n",
       "      <td>2024-03</td>\n",
       "      <td>D0</td>\n",
       "      <td>9</td>\n",
       "    </tr>\n",
       "    <tr>\n",
       "      <th>1139063</th>\n",
       "      <td>TW01010105000002284748</td>\n",
       "      <td>0.0</td>\n",
       "      <td>2024-02</td>\n",
       "      <td>2024-03</td>\n",
       "      <td>D0</td>\n",
       "      <td>2</td>\n",
       "    </tr>\n",
       "    <tr>\n",
       "      <th>1139064</th>\n",
       "      <td>UT01010105000002286094</td>\n",
       "      <td>0.0</td>\n",
       "      <td>2024-02</td>\n",
       "      <td>2024-03</td>\n",
       "      <td>D0</td>\n",
       "      <td>2</td>\n",
       "    </tr>\n",
       "  </tbody>\n",
       "</table>\n",
       "<p>1139065 rows × 6 columns</p>\n",
       "</div>"
      ],
      "text/plain": [
       "                loan_account_no  days_past_due repayment_start_month  \\\n",
       "0        TW01030102000002194455            0.0               2022-03   \n",
       "1        UT01010104000002195645            0.0               2022-03   \n",
       "2        TW01030107000002194434            0.0               2022-03   \n",
       "3        TW01010103000002194591            0.0               2022-03   \n",
       "4        TW01010104000002194367            0.0               2022-03   \n",
       "...                         ...            ...                   ...   \n",
       "1139060  TW01020103000002281621            0.0               2024-01   \n",
       "1139061  TW01010102000002212057            0.0               2022-09   \n",
       "1139062  TW01010107000002248785            0.0               2023-07   \n",
       "1139063  TW01010105000002284748            0.0               2024-02   \n",
       "1139064  UT01010105000002286094            0.0               2024-02   \n",
       "\n",
       "        report_month bucket_MA  nth month  \n",
       "0            2022-01        D0         -1  \n",
       "1            2022-01        D0         -1  \n",
       "2            2022-01        D0         -1  \n",
       "3            2022-01        D0         -1  \n",
       "4            2022-01        D0         -1  \n",
       "...              ...       ...        ...  \n",
       "1139060      2024-03        D0          3  \n",
       "1139061      2024-03        D0         19  \n",
       "1139062      2024-03        D0          9  \n",
       "1139063      2024-03        D0          2  \n",
       "1139064      2024-03        D0          2  \n",
       "\n",
       "[1139065 rows x 6 columns]"
      ]
     },
     "execution_count": 34,
     "metadata": {},
     "output_type": "execute_result"
    }
   ],
   "source": [
    "rm_month_df"
   ]
  },
  {
   "cell_type": "code",
   "execution_count": 35,
   "id": "40f1218b",
   "metadata": {},
   "outputs": [],
   "source": [
    "rm_month_df.to_csv('working_df_v2.csv',index = False)"
   ]
  },
  {
   "cell_type": "code",
   "execution_count": null,
   "id": "bbd660dd",
   "metadata": {},
   "outputs": [],
   "source": [
    "rm_month_df"
   ]
  },
  {
   "cell_type": "code",
   "execution_count": null,
   "id": "1f752e1d",
   "metadata": {},
   "outputs": [],
   "source": [
    "ty = pd.read_csv(r\"C:\\Users\\emanlangit\\Documents\\ACSIN\\Notebooks\\working_df_v2.csv\")"
   ]
  },
  {
   "cell_type": "code",
   "execution_count": null,
   "id": "3ca7cbe5",
   "metadata": {},
   "outputs": [],
   "source": [
    "df = ty[ty['nth month'] > 0]"
   ]
  },
  {
   "cell_type": "code",
   "execution_count": null,
   "id": "2af19d2c",
   "metadata": {},
   "outputs": [],
   "source": [
    "df"
   ]
  },
  {
   "cell_type": "code",
   "execution_count": null,
   "id": "92d18bff",
   "metadata": {},
   "outputs": [],
   "source": [
    "c1_6m =df[(df['loan_account_no'] == 'TW01030102000002194455') &  (df['nth month'] < 6)]\n",
    "#c1_12m =df[(df['loan_account_no'] == 'TW01030102000002194455') &  (df['nth month'] < 12)] "
   ]
  },
  {
   "cell_type": "code",
   "execution_count": null,
   "id": "b54d9f7b",
   "metadata": {},
   "outputs": [],
   "source": [
    "Dscores_list_6 = c1_6m.bucket_MA.unique().tolist()"
   ]
  },
  {
   "cell_type": "code",
   "execution_count": null,
   "id": "de47e4bd",
   "metadata": {},
   "outputs": [],
   "source": [
    "c1_6m['month6_default'] = np.where(\n",
    "    Dscores_list.str.contains(\"3\"), 1, 0 \n",
    ")\n",
    "\n",
    "# c1_12m['month12_default'] = np.where(\n",
    "#     c1_6m['bucket_MA'].str.contains(\"3\"), 1, 0 \n",
    "# )"
   ]
  },
  {
   "cell_type": "code",
   "execution_count": null,
   "id": "be1a736d",
   "metadata": {},
   "outputs": [],
   "source": [
    "if 'D3' in Dscores_list:\n",
    "    c1_6m['month6_default'] = 1\n",
    "else:\n",
    "    c1_6m['month6_default'] = 0\n",
    "    \n",
    "# if 'D3' in Dscores_list:\n",
    "#     c1_6m['month6_default'] = 1\n",
    "# else:\n",
    "#     c1_6m['month6_default'] = 0"
   ]
  },
  {
   "cell_type": "code",
   "execution_count": null,
   "id": "b5e3ccd8",
   "metadata": {},
   "outputs": [],
   "source": [
    "c1_6m"
   ]
  },
  {
   "cell_type": "code",
   "execution_count": null,
   "id": "b7ea1b12",
   "metadata": {},
   "outputs": [],
   "source": [
    "ser = c1_6m[['loan_account_no','month6_default']].drop_duplicates().iloc[0].tolist()"
   ]
  },
  {
   "cell_type": "code",
   "execution_count": null,
   "id": "e218e895",
   "metadata": {},
   "outputs": [],
   "source": [
    "tagged_customers = []"
   ]
  },
  {
   "cell_type": "code",
   "execution_count": null,
   "id": "4d655fb6",
   "metadata": {},
   "outputs": [],
   "source": [
    "tagged_customers.append(ser)"
   ]
  },
  {
   "cell_type": "code",
   "execution_count": null,
   "id": "451c8411",
   "metadata": {},
   "outputs": [],
   "source": [
    "tagged_customers"
   ]
  },
  {
   "cell_type": "code",
   "execution_count": null,
   "id": "5e01953d",
   "metadata": {},
   "outputs": [],
   "source": [
    "ser"
   ]
  },
  {
   "cell_type": "code",
   "execution_count": null,
   "id": "2ee1fa91",
   "metadata": {},
   "outputs": [],
   "source": [
    "#whole\n",
    "customer_no_list = df.loan_account_no.unique().tolist()\n",
    "tagged_customers_6m = []\n",
    "\n",
    "for customer in customer_no_list:\n",
    "    c1_6m =df[(df['loan_account_no'] == customer) &  (df['nth month'] <= 6)] #mini df per customer\n",
    "    Dscores_list_6 = c1_6m.bucket_MA.unique().tolist() #get all Dscores of all instances of customer within period\n",
    "    \n",
    "    if 'D3' in Dscores_list:\n",
    "        c1_6m['month6_default'] = 1\n",
    "    else:\n",
    "        c1_6m['month6_default'] = 0\n",
    "    \n",
    "    #get unique customer number and new target\n",
    "    ser = c1_6m[['loan_account_no','month6_default']].drop_duplicates().iloc[0].tolist() \n",
    "    tagged_customers_6m.append(ser)\n",
    "    \n",
    "print('DONE')"
   ]
  },
  {
   "cell_type": "code",
   "execution_count": null,
   "id": "be9f152e",
   "metadata": {},
   "outputs": [],
   "source": [
    "tagged_customers_6m"
   ]
  },
  {
   "cell_type": "code",
   "execution_count": null,
   "id": "480c6163",
   "metadata": {},
   "outputs": [],
   "source": [
    "tagged_6months_df = pd.DataFrame(tagged_customers_6m, \n",
    "                                 columns=['loan_customer_no', 'D3_within6months'])\n",
    "tagged_6months_df.D3_within6months.value_counts()"
   ]
  },
  {
   "cell_type": "code",
   "execution_count": null,
   "id": "6caed64a",
   "metadata": {},
   "outputs": [],
   "source": [
    "tagged_6months_df.D3_within6months.value_counts()"
   ]
  },
  {
   "cell_type": "code",
   "execution_count": null,
   "id": "84809ca4",
   "metadata": {},
   "outputs": [],
   "source": [
    "df.loan_account_no"
   ]
  },
  {
   "cell_type": "code",
   "execution_count": null,
   "id": "8df8574a",
   "metadata": {},
   "outputs": [],
   "source": [
    "#whole\n",
    "#customer_no_list = df.loan_account_no[:30].unique().tolist()\n",
    "tagged_customers_6m_sample = []\n",
    "\n",
    "customer_no_list_sample = ['UT01010104000002195645', 'TW01010102000002194847', 'UT01010107000002273677']\n",
    "\n",
    "for customer in customer_no_list_sample:\n",
    "    c1_6m =df[(df['loan_account_no'] == customer) &  (df['nth month'] <= 6)] #mini df per customer\n",
    "    Dscores_list_6 = set(c1_6m.bucket_MA.unique()) #get all Dscores of all instances of customer within period\n",
    "    \n",
    "    if 'D3' in Dscores_list_6 or 'D4' in Dscores_list_6:\n",
    "        c1_6m['month6_default'] = 1\n",
    "    else:\n",
    "        c1_6m['month6_default'] = 0\n",
    "    \n",
    "    #get unique customer number and new target\n",
    "    ser = c1_6m[['loan_account_no','month6_default']].drop_duplicates().iloc[0].tolist() \n",
    "    tagged_customers_6m_sample.append(ser)\n",
    "    \n",
    "    index = customer_no_list_sample.index(customer)\n",
    "    print(index)\n",
    "    \n",
    "print('DONE')"
   ]
  },
  {
   "cell_type": "code",
   "execution_count": null,
   "id": "353c17b1",
   "metadata": {},
   "outputs": [],
   "source": [
    "tagged_customers_6m_sample"
   ]
  },
  {
   "cell_type": "code",
   "execution_count": null,
   "id": "fc9883f3",
   "metadata": {},
   "outputs": [],
   "source": [
    "c1_6m =df[(df['loan_account_no'] == 'UT01010107000002273677') &  (df['nth month'] <= 6)] #mini df per customer\n",
    "Dscores_list_6 = set(c1_6m.bucket_MA.unique()) #get all Dscores of all instances of customer within period\n",
    "target = ['D3','D4 above']\n",
    "\n",
    "if 'D3' in Dscores_list_6 or 'D4' in Dscores_list_6:\n",
    "    c1_6m['month6_default'] = 1\n",
    "else:\n",
    "    c1_6m['month6_default'] = 0"
   ]
  },
  {
   "cell_type": "code",
   "execution_count": null,
   "id": "10b0d9c8",
   "metadata": {},
   "outputs": [],
   "source": [
    "#whole_updated\n",
    "customer_no_list = df.loan_account_no.unique().tolist()\n",
    "tagged_customers_6m = []\n",
    "\n",
    "for customer in customer_no_list:\n",
    "    c1_6m =df[(df['loan_account_no'] == customer) &  (df['nth month'] <= 6)] #mini df per customer\n",
    "    Dscores_list_6 = set(c1_6m.bucket_MA.unique()) #get all Dscores of all instances of customer within period\n",
    "    \n",
    "    if 'D3' in Dscores_list_6 or 'D4 above' in Dscores_list_6:\n",
    "        c1_6m['month6_default'] = 1\n",
    "    else:\n",
    "        c1_6m['month6_default'] = 0\n",
    "    \n",
    "    #get unique customer number and new target\n",
    "    ser = c1_6m[['loan_account_no','month6_default']].drop_duplicates().iloc[0].tolist() \n",
    "    tagged_customers_6m.append(ser)\n",
    "    \n",
    "    index = customer_no_list.index(customer)\n",
    "    print(index)\n",
    "    \n",
    "print('DONE')"
   ]
  },
  {
   "cell_type": "code",
   "execution_count": null,
   "id": "c5388e83",
   "metadata": {},
   "outputs": [],
   "source": [
    "tagged_6months_df = pd.DataFrame(tagged_customers_6m, \n",
    "                                 columns=['loan_customer_no', 'D3_within6months'])\n",
    "tagged_6months_df.D3_within6months.value_counts()"
   ]
  },
  {
   "cell_type": "code",
   "execution_count": null,
   "id": "7e07d606",
   "metadata": {},
   "outputs": [],
   "source": [
    "tagged_6months_df.to_csv('tagged_6months.csv',index = False)"
   ]
  },
  {
   "cell_type": "code",
   "execution_count": null,
   "id": "6e0b3c70",
   "metadata": {},
   "outputs": [],
   "source": [
    "df[df['loan_account_no'] == 'TW01010103000002196469']"
   ]
  },
  {
   "cell_type": "code",
   "execution_count": null,
   "id": "faff124c",
   "metadata": {},
   "outputs": [],
   "source": [
    "basis_df['reachD3'].value_counts()"
   ]
  },
  {
   "cell_type": "code",
   "execution_count": null,
   "id": "7e8b8bbe",
   "metadata": {},
   "outputs": [],
   "source": [
    "df['bucket_days_past_due_based'] = np.where (df['days_past_due'] >= 91, 'D3', 'D0')"
   ]
  },
  {
   "cell_type": "code",
   "execution_count": null,
   "id": "3e57470b",
   "metadata": {},
   "outputs": [],
   "source": [
    "#whole_updated\n",
    "customer_no_list = df.loan_account_no.unique().tolist()\n",
    "tagged_customers_6m = []\n",
    "\n",
    "for customer in customer_no_list:\n",
    "    c1_6m =df[(df['loan_account_no'] == customer) &  (df['nth month'] <= 6)] #mini df per customer\n",
    "    Dscores_list_6 = set(c1_6m.bucket_days_past_due_based.unique()) #get all Dscores of all instances of customer within period\n",
    "    \n",
    "    if 'D3' in Dscores_list_6:\n",
    "        c1_6m['month6_default'] = 1\n",
    "    else:\n",
    "        c1_6m['month6_default'] = 0\n",
    "    \n",
    "    #get unique customer number and new target\n",
    "    ser = c1_6m[['loan_account_no','month6_default']].drop_duplicates().iloc[0].tolist() \n",
    "    tagged_customers_6m.append(ser)\n",
    "    \n",
    "    index = customer_no_list.index(customer)\n",
    "    print(index)\n",
    "    \n",
    "print('DONE')"
   ]
  },
  {
   "cell_type": "code",
   "execution_count": null,
   "id": "611bcbe4",
   "metadata": {},
   "outputs": [],
   "source": []
  }
 ],
 "metadata": {
  "kernelspec": {
   "display_name": "Python 3 (ipykernel)",
   "language": "python",
   "name": "python3"
  },
  "language_info": {
   "codemirror_mode": {
    "name": "ipython",
    "version": 3
   },
   "file_extension": ".py",
   "mimetype": "text/x-python",
   "name": "python",
   "nbconvert_exporter": "python",
   "pygments_lexer": "ipython3",
   "version": "3.12.2"
  }
 },
 "nbformat": 4,
 "nbformat_minor": 5
}
