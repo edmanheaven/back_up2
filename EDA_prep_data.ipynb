{
 "cells": [
  {
   "cell_type": "markdown",
   "id": "d5076ca0-aac2-489d-a4c7-f6ef23303a04",
   "metadata": {},
   "source": [
    "EDA Data Prep Creation of new basis df using only columns in the POC Model Columns - Confirmed file\n",
    "For Real this time"
   ]
  },
  {
   "cell_type": "code",
   "execution_count": 1,
   "id": "f54bb576-fc9e-4920-affe-e966533130f3",
   "metadata": {},
   "outputs": [],
   "source": [
    "import pandas as pd\n",
    "import numpy as np"
   ]
  },
  {
   "cell_type": "code",
   "execution_count": 2,
   "id": "f4ed22c2-806f-4ae4-82c8-90189f801bb6",
   "metadata": {},
   "outputs": [],
   "source": [
    "new_data = pd.read_csv(r\"C:\\Users\\emanlangit\\Documents\\2025\\00 ACSIN\\New Data\\SCM_Data_060125_input.csv\")\n",
    "new_data.rename(columns={'LOAN_ACCOUNT_NO': 'loan_account_no'}, inplace=True)"
   ]
  },
  {
   "cell_type": "code",
   "execution_count": 3,
   "id": "bff80b5c-651c-4ffd-82c3-ac323e36b19f",
   "metadata": {},
   "outputs": [
    {
     "name": "stderr",
     "output_type": "stream",
     "text": [
      "C:\\Users\\emanlangit.AEONCREDIT\\AppData\\Local\\Temp\\ipykernel_13440\\2457353041.py:1: DtypeWarning: Columns (14,15,16,17,22,23) have mixed types. Specify dtype option on import or set low_memory=False.\n",
      "  valid_LAN_buckets = pd.read_csv(r\"C:\\Users\\emanlangit\\Documents\\2025\\00 ACSIN\\New Data\\Data_Req_2023_2024_input.csv\")\n"
     ]
    }
   ],
   "source": [
    "valid_LAN_buckets = pd.read_csv(r\"C:\\Users\\emanlangit\\Documents\\2025\\00 ACSIN\\New Data\\Data_Req_2023_2024_input.csv\")"
   ]
  },
  {
   "cell_type": "code",
   "execution_count": 25,
   "id": "a5520d23-12d7-4d29-be59-13d6fb3f2424",
   "metadata": {},
   "outputs": [
    {
     "data": {
      "text/plain": [
       "52197"
      ]
     },
     "execution_count": 25,
     "metadata": {},
     "output_type": "execute_result"
    }
   ],
   "source": [
    "valid_LAN_buckets.loan_account_no.nunique()"
   ]
  },
  {
   "cell_type": "code",
   "execution_count": 4,
   "id": "851524cc-aa8e-450b-bd41-1a236c7f6ce4",
   "metadata": {},
   "outputs": [],
   "source": [
    "valid_LANs = valid_LAN_buckets.loan_account_no.unique().tolist()"
   ]
  },
  {
   "cell_type": "code",
   "execution_count": 5,
   "id": "ec547776-fc8e-43da-989c-1886d3c16a4f",
   "metadata": {},
   "outputs": [
    {
     "name": "stderr",
     "output_type": "stream",
     "text": [
      "C:\\Users\\emanlangit.AEONCREDIT\\AppData\\Local\\Temp\\ipykernel_13440\\941017695.py:2: DtypeWarning: Columns (1,2,3,4,5,6,166,170) have mixed types. Specify dtype option on import or set low_memory=False.\n",
      "  base_data_old = pd.read_csv(r\"C:\\Users\\emanlangit\\Documents\\ACSIN\\01 ACSIN EDA\\Data\\BASE DATA FOR EDA_1.csv\")\n"
     ]
    }
   ],
   "source": [
    "#load base data\n",
    "base_data_old = pd.read_csv(r\"C:\\Users\\emanlangit\\Documents\\ACSIN\\01 ACSIN EDA\\Data\\BASE DATA FOR EDA_1.csv\")"
   ]
  },
  {
   "cell_type": "code",
   "execution_count": 35,
   "id": "d6d61c66-d4b8-49c9-9434-9ebc02236d3e",
   "metadata": {
    "scrolled": true
   },
   "outputs": [
    {
     "data": {
      "text/plain": [
       "['loan_account_no',\n",
       " \"Mar'24\",\n",
       " \"Apr'24\",\n",
       " \"May'24\",\n",
       " \"Jun'24\",\n",
       " \"Jul'24\",\n",
       " \"Aug'24\",\n",
       " 'portfolio_report_date',\n",
       " 'product_category_id',\n",
       " 'product_type_id',\n",
       " 'product_type',\n",
       " 'product_code',\n",
       " 'productid',\n",
       " 'product_description',\n",
       " 'hps_flag',\n",
       " 'mult_asset',\n",
       " 'asset_category',\n",
       " 'manufacturer',\n",
       " 'asset_model',\n",
       " 'dealer',\n",
       " 'branch_id',\n",
       " 'branch_name',\n",
       " 'channel',\n",
       " 'alternate_channel_mode',\n",
       " 'schemeid',\n",
       " 'scheme_description',\n",
       " 'loan_boarding_date',\n",
       " 'interest_start_date',\n",
       " 'loan_sanctioned_date',\n",
       " 'disbursal_date',\n",
       " 'last_disbursal_date',\n",
       " 'repayment_start_date',\n",
       " 'maturitydate',\n",
       " 'original_tenure',\n",
       " 'number_of_installments',\n",
       " 'loan_asset_cost',\n",
       " 'down_payment_amount',\n",
       " 'final_sanctioned_amount',\n",
       " 'disbursal_amount',\n",
       " 'adjusted_amount_at_disbursal',\n",
       " 'original_emi_amount',\n",
       " 'installment_amount',\n",
       " 'interest_type',\n",
       " 'effective_interest_rate',\n",
       " 'interest_rate',\n",
       " 'customer_interest_rate',\n",
       " 'last_mis_snapshot_date',\n",
       " 'effective_roi',\n",
       " 'disbursal_flag',\n",
       " 'grace_days',\n",
       " 'finance_mode',\n",
       " 'ltv',\n",
       " 'application_number',\n",
       " 'application_type',\n",
       " 'loan_application_date',\n",
       " 'approval_date',\n",
       " 'tat',\n",
       " 'requested_loan_amount',\n",
       " 'loan_purpose',\n",
       " 'bureau_score',\n",
       " 'mult_cibil',\n",
       " 'Age_Mini',\n",
       " 'MaxAge01',\n",
       " 'MaxAge02',\n",
       " 'LTVDPD01',\n",
       " 'LTVDPD2',\n",
       " 'LTVDPD3',\n",
       " 'LTVDPD4',\n",
       " 'CustDoc1',\n",
       " 'CIBIL_OD',\n",
       " 'negtArea',\n",
       " 'deviation_cnt',\n",
       " 'verification_waived',\n",
       " 'PerVeri_FieldVer',\n",
       " 'PerVeri_TelVer',\n",
       " 'ResiVeri_FieldVer',\n",
       " 'ResiVeri_TelVer',\n",
       " 'other_verification',\n",
       " 'identification_verification',\n",
       " 'address_verification',\n",
       " 'central_bank_check_verfication',\n",
       " 'other_checks',\n",
       " 'customer_risk_category',\n",
       " 'mult_kyc',\n",
       " 'ref_colleague',\n",
       " 'ref_parents_relatives',\n",
       " 'ref_friend',\n",
       " 'ref_trade_reference',\n",
       " 'ref_neighbor',\n",
       " 'ref_business_associate',\n",
       " 'total_reference',\n",
       " 'customer_no',\n",
       " 'res_city',\n",
       " 'res_state',\n",
       " 'res_years_at_current_address',\n",
       " 'res_years_at_current_city',\n",
       " 'res_resident_status',\n",
       " 'res_resident_type',\n",
       " 'res_primary_address',\n",
       " 'perm_city',\n",
       " 'perm_state',\n",
       " 'perm_years_at_current_address',\n",
       " 'perm_years_at_current_city',\n",
       " 'perm_resident_status',\n",
       " 'perm_resident_type',\n",
       " 'perm_primary_address',\n",
       " 'other_city',\n",
       " 'other_state',\n",
       " 'years_other_add',\n",
       " 'years_other_city',\n",
       " 'date_of_birth',\n",
       " 'age',\n",
       " 'gender',\n",
       " 'marital_status',\n",
       " 'occupation_type',\n",
       " 'nature_of_business',\n",
       " 'industry',\n",
       " 'major_occupation',\n",
       " 'years_in_occupation',\n",
       " 'PAN',\n",
       " 'MemberId',\n",
       " 'mult_cust_info',\n",
       " 'total_income',\n",
       " 'total_liabilities',\n",
       " 'net_income',\n",
       " 'total_assets',\n",
       " 'monthly_income',\n",
       " 'mult_income',\n",
       " 'asset_class_mst_id',\n",
       " 'auto_manual_classify_flag',\n",
       " 'no_of_instl_billed',\n",
       " 'no_of_instl_unbilled',\n",
       " 'bucket',\n",
       " 'days_past_due',\n",
       " 'next_cycle_due_amount',\n",
       " 'payment_times',\n",
       " 'max_dpd',\n",
       " 'times_regular',\n",
       " 'times_substandard',\n",
       " 'times_doubtful',\n",
       " 'times_d0',\n",
       " 'times_d1',\n",
       " 'times_d2',\n",
       " 'times_d3',\n",
       " 'times_d4_above',\n",
       " 'term_writeoff',\n",
       " 'first_d1',\n",
       " 'first_d2',\n",
       " 'first_d3',\n",
       " 'first_d4_above',\n",
       " 'w0_date',\n",
       " 'd1_date',\n",
       " 'd2_date',\n",
       " 'd3_date',\n",
       " 'd4_above_date',\n",
       " 'paid_principal_asof_repo',\n",
       " 'pos_asof_repo',\n",
       " 'repossess_tag',\n",
       " 'repossess_flag',\n",
       " 'repossession_date',\n",
       " 'repo_agency',\n",
       " 'repo_parking_yard',\n",
       " 'repo_sale_date',\n",
       " 'repo_sale_yearmonth',\n",
       " 'repo_sold_amount',\n",
       " 'repo_release_amount',\n",
       " 'repo_release_date',\n",
       " 'mult_repo',\n",
       " 'repo_stock_status',\n",
       " 'writeoff_tag',\n",
       " 'write_off_date',\n",
       " 'reachD3',\n",
       " 'reachD4',\n",
       " 'dp_ratio']"
      ]
     },
     "execution_count": 35,
     "metadata": {},
     "output_type": "execute_result"
    }
   ],
   "source": [
    "base_data_old.columns.tolist()"
   ]
  },
  {
   "cell_type": "code",
   "execution_count": 6,
   "id": "d5ec4c75-b2f5-40e1-8281-69c03019860b",
   "metadata": {},
   "outputs": [
    {
     "data": {
      "text/plain": [
       "52197"
      ]
     },
     "execution_count": 6,
     "metadata": {},
     "output_type": "execute_result"
    }
   ],
   "source": [
    "working_df_valid = base_data_old[base_data_old['loan_account_no'].isin(valid_LANs)]\n",
    "working_df_valid.loan_account_no.nunique()"
   ]
  },
  {
   "cell_type": "code",
   "execution_count": 36,
   "id": "1fc71520-4a30-4820-a3cf-518a4d8ec383",
   "metadata": {},
   "outputs": [],
   "source": [
    "requested_cols = ['application_number', 'customer_no', 'product_description',\n",
    "                 'loan_account_no', 'requested_loan_amount', 'original_emi_amount',\n",
    "                 'res_years_at_current_city', 'res_resident_status','res_city',\n",
    "                 'res_state', 'age', 'date_of_birth', 'manufacturer', 'down_payment_amount',\n",
    "                 'total_income', 'branch_name', 'occupation_type', 'industry', 'interest_rate',\n",
    "                 'number_of_installments', 'loan_asset_cost', 'bureau_score', 'asset_category',\n",
    "                 'asset_model', 'dealer', 'branch_id', 'channel', 'final_sanctioned_amount',\n",
    "                 'disbursal_amount', 'res_years_at_current_address', 'gender', 'marital_status',\n",
    "                 'nature_of_business', 'years_in_occupation', 'loan_application_date']"
   ]
  },
  {
   "cell_type": "code",
   "execution_count": 37,
   "id": "bfd92805-696c-4f05-87d9-a33bccad3672",
   "metadata": {},
   "outputs": [],
   "source": [
    "reduced_working_df_valid = working_df_valid[requested_cols].copy()"
   ]
  },
  {
   "cell_type": "code",
   "execution_count": 38,
   "id": "33825f46-17fc-4634-bd9f-08a68e9ed827",
   "metadata": {},
   "outputs": [
    {
     "data": {
      "text/plain": [
       "Index(['application_number', 'customer_no', 'product_description',\n",
       "       'loan_account_no', 'requested_loan_amount', 'original_emi_amount',\n",
       "       'res_years_at_current_city', 'res_resident_status', 'res_city',\n",
       "       'res_state', 'age', 'date_of_birth', 'manufacturer',\n",
       "       'down_payment_amount', 'total_income', 'branch_name', 'occupation_type',\n",
       "       'industry', 'interest_rate', 'number_of_installments',\n",
       "       'loan_asset_cost', 'bureau_score', 'asset_category', 'asset_model',\n",
       "       'dealer', 'branch_id', 'channel', 'final_sanctioned_amount',\n",
       "       'disbursal_amount', 'res_years_at_current_address', 'gender',\n",
       "       'marital_status', 'nature_of_business', 'years_in_occupation',\n",
       "       'loan_application_date'],\n",
       "      dtype='object')"
      ]
     },
     "execution_count": 38,
     "metadata": {},
     "output_type": "execute_result"
    }
   ],
   "source": [
    "reduced_working_df_valid.columns"
   ]
  },
  {
   "cell_type": "code",
   "execution_count": 39,
   "id": "4dbe7fe3-782b-41a3-823a-4d05a1b88900",
   "metadata": {},
   "outputs": [
    {
     "data": {
      "text/plain": [
       "(52197, 35)"
      ]
     },
     "execution_count": 39,
     "metadata": {},
     "output_type": "execute_result"
    }
   ],
   "source": [
    "reduced_working_df_valid.shape"
   ]
  },
  {
   "cell_type": "code",
   "execution_count": 40,
   "id": "4b5f57ee-0fb3-4b38-8a06-f4f56284464a",
   "metadata": {},
   "outputs": [
    {
     "name": "stdout",
     "output_type": "stream",
     "text": [
      "<class 'pandas.core.frame.DataFrame'>\n",
      "Index: 52197 entries, 384 to 87097\n",
      "Data columns (total 35 columns):\n",
      " #   Column                        Non-Null Count  Dtype  \n",
      "---  ------                        --------------  -----  \n",
      " 0   application_number            52197 non-null  object \n",
      " 1   customer_no                   52197 non-null  object \n",
      " 2   product_description           52197 non-null  object \n",
      " 3   loan_account_no               52197 non-null  object \n",
      " 4   requested_loan_amount         52197 non-null  float64\n",
      " 5   original_emi_amount           52197 non-null  int64  \n",
      " 6   res_years_at_current_city     52197 non-null  int64  \n",
      " 7   res_resident_status           52196 non-null  object \n",
      " 8   res_city                      52193 non-null  object \n",
      " 9   res_state                     52197 non-null  object \n",
      " 10  age                           52197 non-null  float64\n",
      " 11  date_of_birth                 52197 non-null  object \n",
      " 12  manufacturer                  52197 non-null  object \n",
      " 13  down_payment_amount           52197 non-null  float64\n",
      " 14  total_income                  52195 non-null  float64\n",
      " 15  branch_name                   52197 non-null  object \n",
      " 16  occupation_type               52196 non-null  object \n",
      " 17  industry                      51837 non-null  object \n",
      " 18  interest_rate                 52197 non-null  float64\n",
      " 19  number_of_installments        52197 non-null  int64  \n",
      " 20  loan_asset_cost               52197 non-null  int64  \n",
      " 21  bureau_score                  52197 non-null  int64  \n",
      " 22  asset_category                52197 non-null  object \n",
      " 23  asset_model                   52197 non-null  object \n",
      " 24  dealer                        52197 non-null  object \n",
      " 25  branch_id                     52197 non-null  int64  \n",
      " 26  channel                       52197 non-null  object \n",
      " 27  final_sanctioned_amount       52197 non-null  float64\n",
      " 28  disbursal_amount              52197 non-null  float64\n",
      " 29  res_years_at_current_address  52197 non-null  int64  \n",
      " 30  gender                        52197 non-null  object \n",
      " 31  marital_status                52197 non-null  object \n",
      " 32  nature_of_business            51778 non-null  object \n",
      " 33  years_in_occupation           18762 non-null  float64\n",
      " 34  loan_application_date         52197 non-null  object \n",
      "dtypes: float64(8), int64(7), object(20)\n",
      "memory usage: 14.3+ MB\n"
     ]
    }
   ],
   "source": [
    "reduced_working_df_valid.info()"
   ]
  },
  {
   "cell_type": "code",
   "execution_count": 41,
   "id": "c8e2069b-8200-4cb9-a6b8-a4b0e90f05c6",
   "metadata": {},
   "outputs": [],
   "source": [
    "#cols with missing values\n",
    "#res_resident_status, res_city, total_income, occupation_type, industry, nature_of_business, years_in_occupation"
   ]
  },
  {
   "cell_type": "code",
   "execution_count": 42,
   "id": "02e5f0b3-738b-4552-922b-a4ebf8749f8f",
   "metadata": {},
   "outputs": [
    {
     "data": {
      "text/plain": [
       "0.3594459451692626"
      ]
     },
     "execution_count": 42,
     "metadata": {},
     "output_type": "execute_result"
    }
   ],
   "source": [
    "18762/52197 #only 36% of the data have years_in_occupation. Do I still use it?"
   ]
  },
  {
   "cell_type": "code",
   "execution_count": 43,
   "id": "d75b4f2b-370b-498a-b6ca-0368bf12553c",
   "metadata": {},
   "outputs": [],
   "source": [
    "reduced_working_df_valid.to_csv('EDA_df.csv',index = False)"
   ]
  },
  {
   "cell_type": "code",
   "execution_count": 34,
   "id": "292db75e-2882-437d-882b-41ff7b043942",
   "metadata": {},
   "outputs": [
    {
     "ename": "AttributeError",
     "evalue": "'DataFrame' object has no attribute 'loan_application_date'",
     "output_type": "error",
     "traceback": [
      "\u001b[1;31m---------------------------------------------------------------------------\u001b[0m",
      "\u001b[1;31mAttributeError\u001b[0m                            Traceback (most recent call last)",
      "\u001b[1;32m~\\AppData\\Local\\Temp\\ipykernel_13440\\3586493109.py\u001b[0m in \u001b[0;36m?\u001b[1;34m()\u001b[0m\n\u001b[1;32m----> 1\u001b[1;33m \u001b[0mreduced_working_df_valid\u001b[0m\u001b[1;33m.\u001b[0m\u001b[0mloan_application_date\u001b[0m\u001b[1;33m\u001b[0m\u001b[1;33m\u001b[0m\u001b[0m\n\u001b[0m",
      "\u001b[1;32mC:\\Users\\emanlangit\\Documents\\2025\\00 ACSIN\\.venv\\Lib\\site-packages\\pandas\\core\\generic.py\u001b[0m in \u001b[0;36m?\u001b[1;34m(self, name)\u001b[0m\n\u001b[0;32m   6295\u001b[0m             \u001b[1;32mand\u001b[0m \u001b[0mname\u001b[0m \u001b[1;32mnot\u001b[0m \u001b[1;32min\u001b[0m \u001b[0mself\u001b[0m\u001b[1;33m.\u001b[0m\u001b[0m_accessors\u001b[0m\u001b[1;33m\u001b[0m\u001b[1;33m\u001b[0m\u001b[0m\n\u001b[0;32m   6296\u001b[0m             \u001b[1;32mand\u001b[0m \u001b[0mself\u001b[0m\u001b[1;33m.\u001b[0m\u001b[0m_info_axis\u001b[0m\u001b[1;33m.\u001b[0m\u001b[0m_can_hold_identifiers_and_holds_name\u001b[0m\u001b[1;33m(\u001b[0m\u001b[0mname\u001b[0m\u001b[1;33m)\u001b[0m\u001b[1;33m\u001b[0m\u001b[1;33m\u001b[0m\u001b[0m\n\u001b[0;32m   6297\u001b[0m         \u001b[1;33m)\u001b[0m\u001b[1;33m:\u001b[0m\u001b[1;33m\u001b[0m\u001b[1;33m\u001b[0m\u001b[0m\n\u001b[0;32m   6298\u001b[0m             \u001b[1;32mreturn\u001b[0m \u001b[0mself\u001b[0m\u001b[1;33m[\u001b[0m\u001b[0mname\u001b[0m\u001b[1;33m]\u001b[0m\u001b[1;33m\u001b[0m\u001b[1;33m\u001b[0m\u001b[0m\n\u001b[1;32m-> 6299\u001b[1;33m         \u001b[1;32mreturn\u001b[0m \u001b[0mobject\u001b[0m\u001b[1;33m.\u001b[0m\u001b[0m__getattribute__\u001b[0m\u001b[1;33m(\u001b[0m\u001b[0mself\u001b[0m\u001b[1;33m,\u001b[0m \u001b[0mname\u001b[0m\u001b[1;33m)\u001b[0m\u001b[1;33m\u001b[0m\u001b[1;33m\u001b[0m\u001b[0m\n\u001b[0m",
      "\u001b[1;31mAttributeError\u001b[0m: 'DataFrame' object has no attribute 'loan_application_date'"
     ]
    }
   ],
   "source": [
    "reduced_working_df_valid.loan_application_date"
   ]
  },
  {
   "cell_type": "code",
   "execution_count": null,
   "id": "888387e4-53ee-4efa-b22c-dfe40a699e40",
   "metadata": {},
   "outputs": [],
   "source": []
  }
 ],
 "metadata": {
  "kernelspec": {
   "display_name": "Python 3 (ipykernel)",
   "language": "python",
   "name": "python3"
  },
  "language_info": {
   "codemirror_mode": {
    "name": "ipython",
    "version": 3
   },
   "file_extension": ".py",
   "mimetype": "text/x-python",
   "name": "python",
   "nbconvert_exporter": "python",
   "pygments_lexer": "ipython3",
   "version": "3.12.2"
  }
 },
 "nbformat": 4,
 "nbformat_minor": 5
}
