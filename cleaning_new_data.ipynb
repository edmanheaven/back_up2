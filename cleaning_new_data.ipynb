{
 "cells": [
  {
   "cell_type": "markdown",
   "id": "17885661-87e6-435c-97cd-c9da27f18391",
   "metadata": {},
   "source": [
    "Cleaning new data; identify which of the duplicated LANs are valid"
   ]
  },
  {
   "cell_type": "code",
   "execution_count": 1,
   "id": "bb7cc52e-afec-41b0-a068-1cafd04c3fb8",
   "metadata": {},
   "outputs": [],
   "source": [
    "import pandas as pd\n",
    "import numpy as np"
   ]
  },
  {
   "cell_type": "code",
   "execution_count": 2,
   "id": "4d1ac650-0dc1-4b5f-a658-557e47d3030b",
   "metadata": {},
   "outputs": [],
   "source": [
    "new_data = pd.read_csv(r\"C:\\Users\\emanlangit\\Documents\\2025\\00 ACSIN\\New Data\\SCM_Data_060125_input.csv\")\n",
    "new_data.rename(columns={'LOAN_ACCOUNT_NO': 'loan_account_no'}, inplace=True)"
   ]
  },
  {
   "cell_type": "code",
   "execution_count": 3,
   "id": "65934db2-c0e0-4f90-adf5-1b5dee55f509",
   "metadata": {},
   "outputs": [
    {
     "name": "stderr",
     "output_type": "stream",
     "text": [
      "C:\\Users\\emanlangit.AEONCREDIT\\AppData\\Local\\Temp\\ipykernel_7872\\2457353041.py:1: DtypeWarning: Columns (14,15,16,17,22,23) have mixed types. Specify dtype option on import or set low_memory=False.\n",
      "  valid_LAN_buckets = pd.read_csv(r\"C:\\Users\\emanlangit\\Documents\\2025\\00 ACSIN\\New Data\\Data_Req_2023_2024_input.csv\")\n"
     ]
    }
   ],
   "source": [
    "valid_LAN_buckets = pd.read_csv(r\"C:\\Users\\emanlangit\\Documents\\2025\\00 ACSIN\\New Data\\Data_Req_2023_2024_input.csv\")"
   ]
  },
  {
   "cell_type": "code",
   "execution_count": 4,
   "id": "068d3572-c117-4236-ab97-57c3c4d0425f",
   "metadata": {},
   "outputs": [],
   "source": [
    "valid_LANs = valid_LAN_buckets.loan_account_no.unique().tolist()"
   ]
  },
  {
   "cell_type": "code",
   "execution_count": 5,
   "id": "79b9d1ed-eb81-49b5-8b93-0bb0afd56f5f",
   "metadata": {},
   "outputs": [
    {
     "data": {
      "text/plain": [
       "127611"
      ]
     },
     "execution_count": 5,
     "metadata": {},
     "output_type": "execute_result"
    }
   ],
   "source": [
    "new_data.loan_account_no.nunique()"
   ]
  },
  {
   "cell_type": "code",
   "execution_count": 6,
   "id": "ce7cdad6-28e2-4079-9cd7-8809cf696d25",
   "metadata": {},
   "outputs": [
    {
     "data": {
      "text/plain": [
       "52179"
      ]
     },
     "execution_count": 6,
     "metadata": {},
     "output_type": "execute_result"
    }
   ],
   "source": [
    "new_data_valid_LANs_wdup = new_data[new_data['loan_account_no'].isin(valid_LANs)]\n",
    "new_data_valid_LANs_wdup.loan_account_no.nunique()"
   ]
  },
  {
   "cell_type": "code",
   "execution_count": 7,
   "id": "8497c59b-f56d-4fb9-a499-7391a2bbdc7d",
   "metadata": {},
   "outputs": [
    {
     "data": {
      "text/plain": [
       "(56752,)"
      ]
     },
     "execution_count": 7,
     "metadata": {},
     "output_type": "execute_result"
    }
   ],
   "source": [
    "new_data_valid_LANs_wdup.loan_account_no.shape"
   ]
  },
  {
   "cell_type": "code",
   "execution_count": 52,
   "id": "ab93bcd8-26bd-4568-b7cb-3b886b1cefaf",
   "metadata": {},
   "outputs": [],
   "source": [
    "gu = new_data_valid_LANs_wdup.loan_account_no.value_counts() > 1"
   ]
  },
  {
   "cell_type": "code",
   "execution_count": 58,
   "id": "7edca039-a854-4db8-99b5-4bc16b19e283",
   "metadata": {},
   "outputs": [],
   "source": [
    "#new_data_valid_LANs_wdup.loan_account_no.tolist()"
   ]
  },
  {
   "cell_type": "code",
   "execution_count": 59,
   "id": "a0ee07e7-357a-480b-ad39-9d2cf9e93339",
   "metadata": {},
   "outputs": [],
   "source": [
    "new_data_valid_LANs_nodup = new_data_valid_LANs_wdup[~new_data_valid_LANs_wdup.duplicated('loan_account_no', keep=False)]"
   ]
  },
  {
   "cell_type": "code",
   "execution_count": 63,
   "id": "68051358-e5bc-4a37-bdcd-7ce2e299be21",
   "metadata": {},
   "outputs": [],
   "source": [
    "new_data_valid_LANs_nodup2 = new_data_valid_LANs_wdup[~new_data_valid_LANs_wdup.duplicated('loan_account_no', keep='first')]"
   ]
  },
  {
   "cell_type": "code",
   "execution_count": 65,
   "id": "996ae415-0435-49ba-927e-26487d66ed18",
   "metadata": {},
   "outputs": [
    {
     "data": {
      "text/plain": [
       "np.int64(52179)"
      ]
     },
     "execution_count": 65,
     "metadata": {},
     "output_type": "execute_result"
    }
   ],
   "source": [
    "new_data_valid_LANs_nodup2.loan_account_no.value_counts().sum()"
   ]
  },
  {
   "cell_type": "code",
   "execution_count": 62,
   "id": "3632362e-6358-4424-9463-d4fc99f5448e",
   "metadata": {},
   "outputs": [
    {
     "data": {
      "text/plain": [
       "4572"
      ]
     },
     "execution_count": 62,
     "metadata": {},
     "output_type": "execute_result"
    }
   ],
   "source": [
    "#52179 - 47607 = 4572 nodup false\n"
   ]
  },
  {
   "cell_type": "code",
   "execution_count": 66,
   "id": "daa2d97c-f8c9-4485-a26f-d8beb8d39416",
   "metadata": {},
   "outputs": [
    {
     "data": {
      "text/plain": [
       "0.0718235294117647"
      ]
     },
     "execution_count": 66,
     "metadata": {},
     "output_type": "execute_result"
    }
   ],
   "source": [
    "3663/51000"
   ]
  },
  {
   "cell_type": "code",
   "execution_count": 51,
   "id": "62a1f1c4-210b-46b7-a20c-98edb65a6375",
   "metadata": {},
   "outputs": [
    {
     "name": "stderr",
     "output_type": "stream",
     "text": [
      "C:\\Users\\emanlangit.AEONCREDIT\\AppData\\Local\\Temp\\ipykernel_7872\\2800502152.py:1: UserWarning: Boolean Series key will be reindexed to match DataFrame index.\n",
      "  new_data_valid_LANs_without_dup = new_data_valid_LANs_wdup[gu]\n"
     ]
    },
    {
     "ename": "IndexingError",
     "evalue": "Unalignable boolean Series provided as indexer (index of the boolean Series and of the indexed object do not match).",
     "output_type": "error",
     "traceback": [
      "\u001b[1;31m---------------------------------------------------------------------------\u001b[0m",
      "\u001b[1;31mIndexingError\u001b[0m                             Traceback (most recent call last)",
      "Cell \u001b[1;32mIn[51], line 1\u001b[0m\n\u001b[1;32m----> 1\u001b[0m new_data_valid_LANs_without_dup \u001b[38;5;241m=\u001b[39m \u001b[43mnew_data_valid_LANs_wdup\u001b[49m\u001b[43m[\u001b[49m\u001b[43mgu\u001b[49m\u001b[43m]\u001b[49m\n",
      "File \u001b[1;32mC:\\Users\\emanlangit\\Documents\\2025\\00 ACSIN\\.venv\\Lib\\site-packages\\pandas\\core\\frame.py:4093\u001b[0m, in \u001b[0;36mDataFrame.__getitem__\u001b[1;34m(self, key)\u001b[0m\n\u001b[0;32m   4091\u001b[0m \u001b[38;5;66;03m# Do we have a (boolean) 1d indexer?\u001b[39;00m\n\u001b[0;32m   4092\u001b[0m \u001b[38;5;28;01mif\u001b[39;00m com\u001b[38;5;241m.\u001b[39mis_bool_indexer(key):\n\u001b[1;32m-> 4093\u001b[0m     \u001b[38;5;28;01mreturn\u001b[39;00m \u001b[38;5;28;43mself\u001b[39;49m\u001b[38;5;241;43m.\u001b[39;49m\u001b[43m_getitem_bool_array\u001b[49m\u001b[43m(\u001b[49m\u001b[43mkey\u001b[49m\u001b[43m)\u001b[49m\n\u001b[0;32m   4095\u001b[0m \u001b[38;5;66;03m# We are left with two options: a single key, and a collection of keys,\u001b[39;00m\n\u001b[0;32m   4096\u001b[0m \u001b[38;5;66;03m# We interpret tuples as collections only for non-MultiIndex\u001b[39;00m\n\u001b[0;32m   4097\u001b[0m is_single_key \u001b[38;5;241m=\u001b[39m \u001b[38;5;28misinstance\u001b[39m(key, \u001b[38;5;28mtuple\u001b[39m) \u001b[38;5;129;01mor\u001b[39;00m \u001b[38;5;129;01mnot\u001b[39;00m is_list_like(key)\n",
      "File \u001b[1;32mC:\\Users\\emanlangit\\Documents\\2025\\00 ACSIN\\.venv\\Lib\\site-packages\\pandas\\core\\frame.py:4149\u001b[0m, in \u001b[0;36mDataFrame._getitem_bool_array\u001b[1;34m(self, key)\u001b[0m\n\u001b[0;32m   4143\u001b[0m     \u001b[38;5;28;01mraise\u001b[39;00m \u001b[38;5;167;01mValueError\u001b[39;00m(\n\u001b[0;32m   4144\u001b[0m         \u001b[38;5;124mf\u001b[39m\u001b[38;5;124m\"\u001b[39m\u001b[38;5;124mItem wrong length \u001b[39m\u001b[38;5;132;01m{\u001b[39;00m\u001b[38;5;28mlen\u001b[39m(key)\u001b[38;5;132;01m}\u001b[39;00m\u001b[38;5;124m instead of \u001b[39m\u001b[38;5;132;01m{\u001b[39;00m\u001b[38;5;28mlen\u001b[39m(\u001b[38;5;28mself\u001b[39m\u001b[38;5;241m.\u001b[39mindex)\u001b[38;5;132;01m}\u001b[39;00m\u001b[38;5;124m.\u001b[39m\u001b[38;5;124m\"\u001b[39m\n\u001b[0;32m   4145\u001b[0m     )\n\u001b[0;32m   4147\u001b[0m \u001b[38;5;66;03m# check_bool_indexer will throw exception if Series key cannot\u001b[39;00m\n\u001b[0;32m   4148\u001b[0m \u001b[38;5;66;03m# be reindexed to match DataFrame rows\u001b[39;00m\n\u001b[1;32m-> 4149\u001b[0m key \u001b[38;5;241m=\u001b[39m \u001b[43mcheck_bool_indexer\u001b[49m\u001b[43m(\u001b[49m\u001b[38;5;28;43mself\u001b[39;49m\u001b[38;5;241;43m.\u001b[39;49m\u001b[43mindex\u001b[49m\u001b[43m,\u001b[49m\u001b[43m \u001b[49m\u001b[43mkey\u001b[49m\u001b[43m)\u001b[49m\n\u001b[0;32m   4151\u001b[0m \u001b[38;5;28;01mif\u001b[39;00m key\u001b[38;5;241m.\u001b[39mall():\n\u001b[0;32m   4152\u001b[0m     \u001b[38;5;28;01mreturn\u001b[39;00m \u001b[38;5;28mself\u001b[39m\u001b[38;5;241m.\u001b[39mcopy(deep\u001b[38;5;241m=\u001b[39m\u001b[38;5;28;01mNone\u001b[39;00m)\n",
      "File \u001b[1;32mC:\\Users\\emanlangit\\Documents\\2025\\00 ACSIN\\.venv\\Lib\\site-packages\\pandas\\core\\indexing.py:2662\u001b[0m, in \u001b[0;36mcheck_bool_indexer\u001b[1;34m(index, key)\u001b[0m\n\u001b[0;32m   2660\u001b[0m indexer \u001b[38;5;241m=\u001b[39m result\u001b[38;5;241m.\u001b[39mindex\u001b[38;5;241m.\u001b[39mget_indexer_for(index)\n\u001b[0;32m   2661\u001b[0m \u001b[38;5;28;01mif\u001b[39;00m \u001b[38;5;241m-\u001b[39m\u001b[38;5;241m1\u001b[39m \u001b[38;5;129;01min\u001b[39;00m indexer:\n\u001b[1;32m-> 2662\u001b[0m     \u001b[38;5;28;01mraise\u001b[39;00m IndexingError(\n\u001b[0;32m   2663\u001b[0m         \u001b[38;5;124m\"\u001b[39m\u001b[38;5;124mUnalignable boolean Series provided as \u001b[39m\u001b[38;5;124m\"\u001b[39m\n\u001b[0;32m   2664\u001b[0m         \u001b[38;5;124m\"\u001b[39m\u001b[38;5;124mindexer (index of the boolean Series and of \u001b[39m\u001b[38;5;124m\"\u001b[39m\n\u001b[0;32m   2665\u001b[0m         \u001b[38;5;124m\"\u001b[39m\u001b[38;5;124mthe indexed object do not match).\u001b[39m\u001b[38;5;124m\"\u001b[39m\n\u001b[0;32m   2666\u001b[0m     )\n\u001b[0;32m   2668\u001b[0m result \u001b[38;5;241m=\u001b[39m result\u001b[38;5;241m.\u001b[39mtake(indexer)\n\u001b[0;32m   2670\u001b[0m \u001b[38;5;66;03m# fall through for boolean\u001b[39;00m\n",
      "\u001b[1;31mIndexingError\u001b[0m: Unalignable boolean Series provided as indexer (index of the boolean Series and of the indexed object do not match)."
     ]
    }
   ],
   "source": [
    "new_data_valid_LANs_without_dup = new_data_valid_LANs_wdup"
   ]
  },
  {
   "cell_type": "code",
   "execution_count": 8,
   "id": "40cf6c75-5361-415d-a8f1-68eccecabca0",
   "metadata": {},
   "outputs": [
    {
     "data": {
      "text/html": [
       "<div>\n",
       "<style scoped>\n",
       "    .dataframe tbody tr th:only-of-type {\n",
       "        vertical-align: middle;\n",
       "    }\n",
       "\n",
       "    .dataframe tbody tr th {\n",
       "        vertical-align: top;\n",
       "    }\n",
       "\n",
       "    .dataframe thead th {\n",
       "        text-align: right;\n",
       "    }\n",
       "</style>\n",
       "<table border=\"1\" class=\"dataframe\">\n",
       "  <thead>\n",
       "    <tr style=\"text-align: right;\">\n",
       "      <th></th>\n",
       "      <th>APPLICATION_NUMBER</th>\n",
       "      <th>CIFNUMBER</th>\n",
       "      <th>CUSTOMER_NUMBER</th>\n",
       "      <th>Application Received Date</th>\n",
       "      <th>Product</th>\n",
       "      <th>Judgement date</th>\n",
       "      <th>DECISION</th>\n",
       "      <th>USER_COMMENT</th>\n",
       "      <th>loan_account_no</th>\n",
       "      <th>LOAN_SANCTIONED_DATE</th>\n",
       "      <th>...</th>\n",
       "      <th>Branch Name</th>\n",
       "      <th>Occupation Type</th>\n",
       "      <th>Industry</th>\n",
       "      <th>Sanctioned ROI</th>\n",
       "      <th>Sanction Tenure</th>\n",
       "      <th>Total Asset Cost</th>\n",
       "      <th>CIBIL score</th>\n",
       "      <th>Unnamed: 29</th>\n",
       "      <th>Unnamed: 30</th>\n",
       "      <th>Unnamed: 31</th>\n",
       "    </tr>\n",
       "  </thead>\n",
       "  <tbody>\n",
       "    <tr>\n",
       "      <th>96337</th>\n",
       "      <td>APPL00137070</td>\n",
       "      <td>GLBCUST00000119780</td>\n",
       "      <td>CUST00123240</td>\n",
       "      <td>03-01-23 04:26:52.188000000 PM</td>\n",
       "      <td>2 Wheeler Loan</td>\n",
       "      <td>03-01-23 05:23:49.000000000 PM</td>\n",
       "      <td>Approve</td>\n",
       "      <td>no test code</td>\n",
       "      <td>TW01010101000002231339</td>\n",
       "      <td>03-01-23</td>\n",
       "      <td>...</td>\n",
       "      <td>Eastern Mumbai</td>\n",
       "      <td>Self Employed Non Professional</td>\n",
       "      <td>Others</td>\n",
       "      <td>11.29</td>\n",
       "      <td>36</td>\n",
       "      <td>110050</td>\n",
       "      <td>734.0</td>\n",
       "      <td>NaN</td>\n",
       "      <td>NaN</td>\n",
       "      <td>NaN</td>\n",
       "    </tr>\n",
       "    <tr>\n",
       "      <th>156798</th>\n",
       "      <td>APPL00137070</td>\n",
       "      <td>GLBCUST00000119780</td>\n",
       "      <td>CUST00123240</td>\n",
       "      <td>03-01-23 04:26:52.188000000 PM</td>\n",
       "      <td>2 Wheeler Loan</td>\n",
       "      <td>03-01-23 05:23:49.000000000 PM</td>\n",
       "      <td>Approve</td>\n",
       "      <td>no test code</td>\n",
       "      <td>TW01010101000002231339</td>\n",
       "      <td>03-01-23</td>\n",
       "      <td>...</td>\n",
       "      <td>Eastern Mumbai</td>\n",
       "      <td>Self Employed Non Professional</td>\n",
       "      <td>Others</td>\n",
       "      <td>11.29</td>\n",
       "      <td>36</td>\n",
       "      <td>110050</td>\n",
       "      <td>734.0</td>\n",
       "      <td>NaN</td>\n",
       "      <td>NaN</td>\n",
       "      <td>NaN</td>\n",
       "    </tr>\n",
       "  </tbody>\n",
       "</table>\n",
       "<p>2 rows × 32 columns</p>\n",
       "</div>"
      ],
      "text/plain": [
       "       APPLICATION_NUMBER           CIFNUMBER CUSTOMER_NUMBER  \\\n",
       "96337        APPL00137070  GLBCUST00000119780    CUST00123240   \n",
       "156798       APPL00137070  GLBCUST00000119780    CUST00123240   \n",
       "\n",
       "             Application Received Date         Product  \\\n",
       "96337   03-01-23 04:26:52.188000000 PM  2 Wheeler Loan   \n",
       "156798  03-01-23 04:26:52.188000000 PM  2 Wheeler Loan   \n",
       "\n",
       "                        Judgement date DECISION  USER_COMMENT  \\\n",
       "96337   03-01-23 05:23:49.000000000 PM  Approve  no test code   \n",
       "156798  03-01-23 05:23:49.000000000 PM  Approve  no test code   \n",
       "\n",
       "               loan_account_no LOAN_SANCTIONED_DATE  ...     Branch Name  \\\n",
       "96337   TW01010101000002231339             03-01-23  ...  Eastern Mumbai   \n",
       "156798  TW01010101000002231339             03-01-23  ...  Eastern Mumbai   \n",
       "\n",
       "                       Occupation Type  Industry  Sanctioned ROI  \\\n",
       "96337   Self Employed Non Professional    Others           11.29   \n",
       "156798  Self Employed Non Professional    Others           11.29   \n",
       "\n",
       "       Sanction Tenure Total Asset Cost CIBIL score  Unnamed: 29 Unnamed: 30  \\\n",
       "96337               36           110050       734.0          NaN         NaN   \n",
       "156798              36           110050       734.0          NaN         NaN   \n",
       "\n",
       "       Unnamed: 31  \n",
       "96337          NaN  \n",
       "156798         NaN  \n",
       "\n",
       "[2 rows x 32 columns]"
      ]
     },
     "execution_count": 8,
     "metadata": {},
     "output_type": "execute_result"
    }
   ],
   "source": [
    "new_data_valid_LANs_wdup[new_data_valid_LANs_wdup.loan_account_no == 'TW01010101000002231339']"
   ]
  },
  {
   "cell_type": "code",
   "execution_count": 12,
   "id": "f896e60b-c0c4-4e32-bb89-07bc1c1ad402",
   "metadata": {},
   "outputs": [],
   "source": [
    "#dealing with duplicated LANs\n",
    "cleaning_df = new_data_valid_LANs_wdup.copy()\n",
    "# Identify duplicated values\n",
    "duplicates = cleaning_df.duplicated('loan_account_no', keep='first')\n",
    "\n",
    "# Create a counter to keep track of duplicates\n",
    "counter = {}\n",
    "\n",
    "# Loop through the DataFrame and rename duplicates\n",
    "for idx, value in cleaning_df.loc[duplicates, 'loan_account_no'].items():\n",
    "    if value not in counter:\n",
    "        counter[value] = 1\n",
    "    counter[value] += 1\n",
    "    cleaning_df.at[idx, 'loan_account_no'] = f\"{value}_duplicate{counter[value] - 1}\""
   ]
  },
  {
   "cell_type": "code",
   "execution_count": 16,
   "id": "18369ce8-7bc3-4c73-b444-6dd5937dbfc8",
   "metadata": {},
   "outputs": [],
   "source": [
    "#cleaning_df.loan_account_no.unique().tolist()"
   ]
  },
  {
   "cell_type": "code",
   "execution_count": 10,
   "id": "3668d6f1-0d5e-42af-94e4-0ccee1ef2f30",
   "metadata": {},
   "outputs": [],
   "source": [
    "# duplicate_counts = cleaning_df['loan_account_no'].value_counts()\n",
    "# duplicates = duplicate_counts[duplicate_counts > 1]"
   ]
  },
  {
   "cell_type": "code",
   "execution_count": null,
   "id": "6b0cf77e-d444-4013-bce2-5d71da8fce1f",
   "metadata": {},
   "outputs": [],
   "source": []
  },
  {
   "cell_type": "code",
   "execution_count": 17,
   "id": "ee294d10-0cf1-44fa-a718-8f50cf8e4ab2",
   "metadata": {},
   "outputs": [
    {
     "data": {
      "text/plain": [
       "loan_account_no\n",
       "TW01020102000002281768               1\n",
       "TW01010102000002277004               1\n",
       "TW01010101000002275484_duplicate1    1\n",
       "TW01030107000002275051               1\n",
       "TW01030107000002271602               1\n",
       "                                    ..\n",
       "TW01020101000002232620               1\n",
       "TW01010105000002233875               1\n",
       "TW01020102000002231359               1\n",
       "TW01030105000002235593               1\n",
       "TW01020101000002232829               1\n",
       "Name: count, Length: 56752, dtype: int64"
      ]
     },
     "execution_count": 17,
     "metadata": {},
     "output_type": "execute_result"
    }
   ],
   "source": [
    "cleaning_df.loan_account_no.value_counts() #df with valid LANs and duplicated LANs"
   ]
  },
  {
   "cell_type": "code",
   "execution_count": 18,
   "id": "8c247cc2-5201-497a-a3a1-7c4c39ed4495",
   "metadata": {},
   "outputs": [
    {
     "name": "stderr",
     "output_type": "stream",
     "text": [
      "C:\\Users\\emanlangit.AEONCREDIT\\AppData\\Local\\Temp\\ipykernel_7872\\941017695.py:2: DtypeWarning: Columns (1,2,3,4,5,6,166,170) have mixed types. Specify dtype option on import or set low_memory=False.\n",
      "  base_data_old = pd.read_csv(r\"C:\\Users\\emanlangit\\Documents\\ACSIN\\01 ACSIN EDA\\Data\\BASE DATA FOR EDA_1.csv\")\n"
     ]
    }
   ],
   "source": [
    "#load base data\n",
    "base_data_old = pd.read_csv(r\"C:\\Users\\emanlangit\\Documents\\ACSIN\\01 ACSIN EDA\\Data\\BASE DATA FOR EDA_1.csv\")"
   ]
  },
  {
   "cell_type": "code",
   "execution_count": 19,
   "id": "8bd56baf-d708-4a8c-8c50-8111a562698f",
   "metadata": {},
   "outputs": [],
   "source": [
    "reduction_cols = ['loan_account_no', 'res_years_at_current_city', 'res_resident_status','res_city',\n",
    "                 'res_state','total_income','occupation_type', 'industry','bureau_score']\n",
    "reduced_base_data_old = base_data_old[reduction_cols]"
   ]
  },
  {
   "cell_type": "code",
   "execution_count": 20,
   "id": "b4e7224c-b8dc-4a30-9ebc-dd4d4631d8c5",
   "metadata": {},
   "outputs": [],
   "source": [
    "scm_LAN = set(new_data.loan_account_no.unique().tolist())\n",
    "valid_LAN = set(valid_LAN_buckets.loan_account_no.unique().tolist())\n",
    "\n",
    "diff = valid_LAN - scm_LAN\n",
    "missing_LANs = list(diff)"
   ]
  },
  {
   "cell_type": "code",
   "execution_count": 21,
   "id": "2c935bbc-0ec4-4fba-95a8-e719167f105d",
   "metadata": {},
   "outputs": [
    {
     "data": {
      "text/plain": [
       "52179"
      ]
     },
     "execution_count": 21,
     "metadata": {},
     "output_type": "execute_result"
    }
   ],
   "source": [
    "valid_reduced_base_data_old = reduced_base_data_old[reduced_base_data_old['loan_account_no'].isin(valid_LANs)]\n",
    "#valid_reduced_base_data_old.loan_account_no.nunique()\n",
    "adjusted_valid_reduced_base_data_old = valid_reduced_base_data_old[~valid_reduced_base_data_old['loan_account_no'].isin(missing_LANs)]\n",
    "adjusted_valid_reduced_base_data_old.loan_account_no.nunique()"
   ]
  },
  {
   "cell_type": "code",
   "execution_count": 22,
   "id": "f7db7b13-7944-45cd-8e68-963c4ed0ed3b",
   "metadata": {},
   "outputs": [
    {
     "data": {
      "text/plain": [
       "56752"
      ]
     },
     "execution_count": 22,
     "metadata": {},
     "output_type": "execute_result"
    }
   ],
   "source": [
    "cleaning_df.loan_account_no.nunique() #duped rows 56752; 56752 - 52179 = 4573"
   ]
  },
  {
   "cell_type": "code",
   "execution_count": 23,
   "id": "bd2f31bd-3153-47fd-b629-f26062cd2a89",
   "metadata": {},
   "outputs": [],
   "source": [
    "#merge valid LANs and new data\n",
    "merged_new_base = cleaning_df.merge(adjusted_valid_reduced_base_data_old,how='outer',on=['loan_account_no'])"
   ]
  },
  {
   "cell_type": "code",
   "execution_count": 24,
   "id": "3f5052b2-b4f3-44a6-abc7-eba0cf2d7233",
   "metadata": {},
   "outputs": [
    {
     "data": {
      "text/plain": [
       "(56752, 40)"
      ]
     },
     "execution_count": 24,
     "metadata": {},
     "output_type": "execute_result"
    }
   ],
   "source": [
    "merged_new_base.shape"
   ]
  },
  {
   "cell_type": "code",
   "execution_count": 25,
   "id": "040f8805-95e7-4b1a-a3f1-e07681057198",
   "metadata": {},
   "outputs": [],
   "source": [
    "new_data_cols = ['Years at Current City', 'Resident Status', 'City', 'State','Total Income',\n",
    "                'Occupation Type', 'Industry', 'CIBIL score']\n",
    "compare_cols = new_data_cols + reduction_cols"
   ]
  },
  {
   "cell_type": "code",
   "execution_count": 26,
   "id": "441c12ca-aeed-4230-a544-4f44df4860e4",
   "metadata": {},
   "outputs": [],
   "source": [
    "reduced_merged_new_base = merged_new_base[compare_cols].copy()"
   ]
  },
  {
   "cell_type": "code",
   "execution_count": 27,
   "id": "1bf5e429-21e9-4857-b9c2-f349646406be",
   "metadata": {},
   "outputs": [
    {
     "data": {
      "text/plain": [
       "Index(['Years at Current City', 'Resident Status', 'City', 'State',\n",
       "       'Total Income', 'Occupation Type', 'Industry', 'CIBIL score',\n",
       "       'loan_account_no', 'res_years_at_current_city', 'res_resident_status',\n",
       "       'res_city', 'res_state', 'total_income', 'occupation_type', 'industry',\n",
       "       'bureau_score'],\n",
       "      dtype='object')"
      ]
     },
     "execution_count": 27,
     "metadata": {},
     "output_type": "execute_result"
    }
   ],
   "source": [
    "reduced_merged_new_base.columns"
   ]
  },
  {
   "cell_type": "code",
   "execution_count": 40,
   "id": "b498a343-d35d-4a88-8afe-e46d673ed5ba",
   "metadata": {},
   "outputs": [
    {
     "data": {
      "text/plain": [
       "(56752, 25)"
      ]
     },
     "execution_count": 40,
     "metadata": {},
     "output_type": "execute_result"
    }
   ],
   "source": [
    "reduced_merged_new_base.shape"
   ]
  },
  {
   "cell_type": "code",
   "execution_count": null,
   "id": "73db7171-58c6-45cd-a66a-8a84b0a08900",
   "metadata": {},
   "outputs": [],
   "source": []
  },
  {
   "cell_type": "code",
   "execution_count": 30,
   "id": "8f250cab-0c1f-4273-8158-b47f3ff4e320",
   "metadata": {},
   "outputs": [],
   "source": [
    "reduced_merged_new_base['years_at_city_check'] = reduced_merged_new_base['Years at Current City'] == reduced_merged_new_base['res_years_at_current_city']\n",
    "reduced_merged_new_base['resident_status_check'] = reduced_merged_new_base['Resident Status'] == reduced_merged_new_base['res_resident_status']\n",
    "reduced_merged_new_base['city_check'] = reduced_merged_new_base['City'] == reduced_merged_new_base['res_city']\n",
    "reduced_merged_new_base['state_check'] = reduced_merged_new_base['State'] == reduced_merged_new_base['res_state']\n",
    "reduced_merged_new_base['income_check'] = reduced_merged_new_base['Total Income'] == reduced_merged_new_base['total_income']\n",
    "reduced_merged_new_base['occupation_check'] = reduced_merged_new_base['Occupation Type'] == reduced_merged_new_base['occupation_type']\n",
    "reduced_merged_new_base['industry_check'] = reduced_merged_new_base['Industry'] == reduced_merged_new_base['industry']\n",
    "reduced_merged_new_base['CIBIL_check'] = reduced_merged_new_base['CIBIL score'] == reduced_merged_new_base['bureau_score']"
   ]
  },
  {
   "cell_type": "code",
   "execution_count": 48,
   "id": "20e682b2-e7dd-41ec-baf4-1ae03542890c",
   "metadata": {},
   "outputs": [],
   "source": [
    "do = reduced_merged_new_base[~reduced_merged_new_base['years_at_city_check']][['loan_account_no','Years at Current City','res_years_at_current_city' ]]"
   ]
  },
  {
   "cell_type": "code",
   "execution_count": 51,
   "id": "bd0fb52a-df84-4c08-84b3-3dd28c2a3c8f",
   "metadata": {},
   "outputs": [],
   "source": [
    "re = reduced_merged_new_base[reduced_merged_new_base['years_at_city_check']][['loan_account_no','Years at Current City','res_years_at_current_city' ]]"
   ]
  },
  {
   "cell_type": "code",
   "execution_count": 52,
   "id": "cd25725b-98e9-41dc-b328-a1a83d6eeeed",
   "metadata": {},
   "outputs": [
    {
     "data": {
      "text/plain": [
       "50332"
      ]
     },
     "execution_count": 52,
     "metadata": {},
     "output_type": "execute_result"
    }
   ],
   "source": [
    "re.loan_account_no.nunique()"
   ]
  },
  {
   "cell_type": "code",
   "execution_count": 32,
   "id": "a8e81675-0abc-4926-ad58-3e402f9925a0",
   "metadata": {},
   "outputs": [],
   "source": [
    "diff_rows = reduced_merged_new_base[reduced_merged_new_base.eq(False).any(axis=1)]"
   ]
  },
  {
   "cell_type": "code",
   "execution_count": 33,
   "id": "7c91b0e3-98ed-4d29-b2d3-14d630be13b5",
   "metadata": {},
   "outputs": [
    {
     "data": {
      "text/html": [
       "<div>\n",
       "<style scoped>\n",
       "    .dataframe tbody tr th:only-of-type {\n",
       "        vertical-align: middle;\n",
       "    }\n",
       "\n",
       "    .dataframe tbody tr th {\n",
       "        vertical-align: top;\n",
       "    }\n",
       "\n",
       "    .dataframe thead th {\n",
       "        text-align: right;\n",
       "    }\n",
       "</style>\n",
       "<table border=\"1\" class=\"dataframe\">\n",
       "  <thead>\n",
       "    <tr style=\"text-align: right;\">\n",
       "      <th></th>\n",
       "      <th>Years at Current City</th>\n",
       "      <th>Resident Status</th>\n",
       "      <th>City</th>\n",
       "      <th>State</th>\n",
       "      <th>Total Income</th>\n",
       "      <th>Occupation Type</th>\n",
       "      <th>Industry</th>\n",
       "      <th>CIBIL score</th>\n",
       "      <th>loan_account_no</th>\n",
       "      <th>res_years_at_current_city</th>\n",
       "      <th>...</th>\n",
       "      <th>industry</th>\n",
       "      <th>bureau_score</th>\n",
       "      <th>years_at_city_check</th>\n",
       "      <th>resident_status_check</th>\n",
       "      <th>city_check</th>\n",
       "      <th>state_check</th>\n",
       "      <th>income_check</th>\n",
       "      <th>occupation_check</th>\n",
       "      <th>industry_check</th>\n",
       "      <th>CIBIL_check</th>\n",
       "    </tr>\n",
       "  </thead>\n",
       "  <tbody>\n",
       "    <tr>\n",
       "      <th>9</th>\n",
       "      <td>0</td>\n",
       "      <td>Owned by Parent /Sibling</td>\n",
       "      <td>MUMBAI</td>\n",
       "      <td>MAHARASHTRA</td>\n",
       "      <td>560000.0</td>\n",
       "      <td>Self Employed Non Professional</td>\n",
       "      <td>Apparels</td>\n",
       "      <td>757.0</td>\n",
       "      <td>TW01010101000002231217</td>\n",
       "      <td>0.0</td>\n",
       "      <td>...</td>\n",
       "      <td>Apparels</td>\n",
       "      <td>757.0</td>\n",
       "      <td>True</td>\n",
       "      <td>True</td>\n",
       "      <td>True</td>\n",
       "      <td>True</td>\n",
       "      <td>True</td>\n",
       "      <td>True</td>\n",
       "      <td>True</td>\n",
       "      <td>True</td>\n",
       "    </tr>\n",
       "    <tr>\n",
       "      <th>12</th>\n",
       "      <td>0</td>\n",
       "      <td>Owned by Parent /Sibling</td>\n",
       "      <td>MUMBAI</td>\n",
       "      <td>MAHARASHTRA</td>\n",
       "      <td>390000.0</td>\n",
       "      <td>Self Employed Non Professional</td>\n",
       "      <td>Others</td>\n",
       "      <td>739.0</td>\n",
       "      <td>TW01010101000002231242</td>\n",
       "      <td>22.0</td>\n",
       "      <td>...</td>\n",
       "      <td>Others</td>\n",
       "      <td>739.0</td>\n",
       "      <td>False</td>\n",
       "      <td>True</td>\n",
       "      <td>True</td>\n",
       "      <td>True</td>\n",
       "      <td>True</td>\n",
       "      <td>True</td>\n",
       "      <td>True</td>\n",
       "      <td>True</td>\n",
       "    </tr>\n",
       "    <tr>\n",
       "      <th>13</th>\n",
       "      <td>22</td>\n",
       "      <td>Owned by Parent /Sibling</td>\n",
       "      <td>MUMBAI</td>\n",
       "      <td>MAHARASHTRA</td>\n",
       "      <td>390000.0</td>\n",
       "      <td>Self Employed Non Professional</td>\n",
       "      <td>Others</td>\n",
       "      <td>739.0</td>\n",
       "      <td>TW01010101000002231242_duplicate1</td>\n",
       "      <td>NaN</td>\n",
       "      <td>...</td>\n",
       "      <td>NaN</td>\n",
       "      <td>NaN</td>\n",
       "      <td>False</td>\n",
       "      <td>False</td>\n",
       "      <td>False</td>\n",
       "      <td>False</td>\n",
       "      <td>False</td>\n",
       "      <td>False</td>\n",
       "      <td>False</td>\n",
       "      <td>False</td>\n",
       "    </tr>\n",
       "    <tr>\n",
       "      <th>15</th>\n",
       "      <td>0</td>\n",
       "      <td>Owned by Parent /Sibling</td>\n",
       "      <td>MUMBAI</td>\n",
       "      <td>MAHARASHTRA</td>\n",
       "      <td>390000.0</td>\n",
       "      <td>Self Employed Non Professional</td>\n",
       "      <td>Others</td>\n",
       "      <td>734.0</td>\n",
       "      <td>TW01010101000002231339</td>\n",
       "      <td>22.0</td>\n",
       "      <td>...</td>\n",
       "      <td>Others</td>\n",
       "      <td>734.0</td>\n",
       "      <td>False</td>\n",
       "      <td>True</td>\n",
       "      <td>True</td>\n",
       "      <td>True</td>\n",
       "      <td>True</td>\n",
       "      <td>True</td>\n",
       "      <td>True</td>\n",
       "      <td>True</td>\n",
       "    </tr>\n",
       "    <tr>\n",
       "      <th>16</th>\n",
       "      <td>22</td>\n",
       "      <td>Owned by Parent /Sibling</td>\n",
       "      <td>MUMBAI</td>\n",
       "      <td>MAHARASHTRA</td>\n",
       "      <td>390000.0</td>\n",
       "      <td>Self Employed Non Professional</td>\n",
       "      <td>Others</td>\n",
       "      <td>734.0</td>\n",
       "      <td>TW01010101000002231339_duplicate1</td>\n",
       "      <td>NaN</td>\n",
       "      <td>...</td>\n",
       "      <td>NaN</td>\n",
       "      <td>NaN</td>\n",
       "      <td>False</td>\n",
       "      <td>False</td>\n",
       "      <td>False</td>\n",
       "      <td>False</td>\n",
       "      <td>False</td>\n",
       "      <td>False</td>\n",
       "      <td>False</td>\n",
       "      <td>False</td>\n",
       "    </tr>\n",
       "    <tr>\n",
       "      <th>...</th>\n",
       "      <td>...</td>\n",
       "      <td>...</td>\n",
       "      <td>...</td>\n",
       "      <td>...</td>\n",
       "      <td>...</td>\n",
       "      <td>...</td>\n",
       "      <td>...</td>\n",
       "      <td>...</td>\n",
       "      <td>...</td>\n",
       "      <td>...</td>\n",
       "      <td>...</td>\n",
       "      <td>...</td>\n",
       "      <td>...</td>\n",
       "      <td>...</td>\n",
       "      <td>...</td>\n",
       "      <td>...</td>\n",
       "      <td>...</td>\n",
       "      <td>...</td>\n",
       "      <td>...</td>\n",
       "      <td>...</td>\n",
       "      <td>...</td>\n",
       "    </tr>\n",
       "    <tr>\n",
       "      <th>56736</th>\n",
       "      <td>5</td>\n",
       "      <td>Rented</td>\n",
       "      <td>GHAZIABAD</td>\n",
       "      <td>UTTAR PRADESH</td>\n",
       "      <td>420000.0</td>\n",
       "      <td>Self Employed Non Professional</td>\n",
       "      <td>Others</td>\n",
       "      <td>-1.0</td>\n",
       "      <td>UT01030107000002270269_duplicate1</td>\n",
       "      <td>NaN</td>\n",
       "      <td>...</td>\n",
       "      <td>NaN</td>\n",
       "      <td>NaN</td>\n",
       "      <td>False</td>\n",
       "      <td>False</td>\n",
       "      <td>False</td>\n",
       "      <td>False</td>\n",
       "      <td>False</td>\n",
       "      <td>False</td>\n",
       "      <td>False</td>\n",
       "      <td>False</td>\n",
       "    </tr>\n",
       "    <tr>\n",
       "      <th>56739</th>\n",
       "      <td>25</td>\n",
       "      <td>Owned by Parent /Sibling</td>\n",
       "      <td>GAUTAM BUDDHA NAGAR</td>\n",
       "      <td>UTTAR PRADESH</td>\n",
       "      <td>420000.0</td>\n",
       "      <td>Self Employed Non Professional</td>\n",
       "      <td>Others</td>\n",
       "      <td>768.0</td>\n",
       "      <td>UT01030107000002272618</td>\n",
       "      <td>5.0</td>\n",
       "      <td>...</td>\n",
       "      <td>Others</td>\n",
       "      <td>768.0</td>\n",
       "      <td>False</td>\n",
       "      <td>False</td>\n",
       "      <td>False</td>\n",
       "      <td>True</td>\n",
       "      <td>True</td>\n",
       "      <td>True</td>\n",
       "      <td>True</td>\n",
       "      <td>True</td>\n",
       "    </tr>\n",
       "    <tr>\n",
       "      <th>56740</th>\n",
       "      <td>5</td>\n",
       "      <td>Rented</td>\n",
       "      <td>GHAZIABAD</td>\n",
       "      <td>UTTAR PRADESH</td>\n",
       "      <td>420000.0</td>\n",
       "      <td>Self Employed Non Professional</td>\n",
       "      <td>Others</td>\n",
       "      <td>768.0</td>\n",
       "      <td>UT01030107000002272618_duplicate1</td>\n",
       "      <td>NaN</td>\n",
       "      <td>...</td>\n",
       "      <td>NaN</td>\n",
       "      <td>NaN</td>\n",
       "      <td>False</td>\n",
       "      <td>False</td>\n",
       "      <td>False</td>\n",
       "      <td>False</td>\n",
       "      <td>False</td>\n",
       "      <td>False</td>\n",
       "      <td>False</td>\n",
       "      <td>False</td>\n",
       "    </tr>\n",
       "    <tr>\n",
       "      <th>56745</th>\n",
       "      <td>10</td>\n",
       "      <td>Owned by Parent /Sibling</td>\n",
       "      <td>GHAZIABAD</td>\n",
       "      <td>UTTAR PRADESH</td>\n",
       "      <td>430000.0</td>\n",
       "      <td>Self Employed Non Professional</td>\n",
       "      <td>Others</td>\n",
       "      <td>-1.0</td>\n",
       "      <td>UT01030107000002280635</td>\n",
       "      <td>16.0</td>\n",
       "      <td>...</td>\n",
       "      <td>Others</td>\n",
       "      <td>-1.0</td>\n",
       "      <td>False</td>\n",
       "      <td>False</td>\n",
       "      <td>True</td>\n",
       "      <td>True</td>\n",
       "      <td>True</td>\n",
       "      <td>True</td>\n",
       "      <td>True</td>\n",
       "      <td>True</td>\n",
       "    </tr>\n",
       "    <tr>\n",
       "      <th>56746</th>\n",
       "      <td>16</td>\n",
       "      <td>Rented</td>\n",
       "      <td>GHAZIABAD</td>\n",
       "      <td>UTTAR PRADESH</td>\n",
       "      <td>430000.0</td>\n",
       "      <td>Self Employed Non Professional</td>\n",
       "      <td>Others</td>\n",
       "      <td>-1.0</td>\n",
       "      <td>UT01030107000002280635_duplicate1</td>\n",
       "      <td>NaN</td>\n",
       "      <td>...</td>\n",
       "      <td>NaN</td>\n",
       "      <td>NaN</td>\n",
       "      <td>False</td>\n",
       "      <td>False</td>\n",
       "      <td>False</td>\n",
       "      <td>False</td>\n",
       "      <td>False</td>\n",
       "      <td>False</td>\n",
       "      <td>False</td>\n",
       "      <td>False</td>\n",
       "    </tr>\n",
       "  </tbody>\n",
       "</table>\n",
       "<p>16261 rows × 25 columns</p>\n",
       "</div>"
      ],
      "text/plain": [
       "       Years at Current City           Resident Status                 City  \\\n",
       "9                          0  Owned by Parent /Sibling               MUMBAI   \n",
       "12                         0  Owned by Parent /Sibling               MUMBAI   \n",
       "13                        22  Owned by Parent /Sibling               MUMBAI   \n",
       "15                         0  Owned by Parent /Sibling               MUMBAI   \n",
       "16                        22  Owned by Parent /Sibling               MUMBAI   \n",
       "...                      ...                       ...                  ...   \n",
       "56736                      5                    Rented            GHAZIABAD   \n",
       "56739                     25  Owned by Parent /Sibling  GAUTAM BUDDHA NAGAR   \n",
       "56740                      5                    Rented            GHAZIABAD   \n",
       "56745                     10  Owned by Parent /Sibling            GHAZIABAD   \n",
       "56746                     16                    Rented            GHAZIABAD   \n",
       "\n",
       "               State  Total Income                 Occupation Type  Industry  \\\n",
       "9        MAHARASHTRA      560000.0  Self Employed Non Professional  Apparels   \n",
       "12       MAHARASHTRA      390000.0  Self Employed Non Professional    Others   \n",
       "13       MAHARASHTRA      390000.0  Self Employed Non Professional    Others   \n",
       "15       MAHARASHTRA      390000.0  Self Employed Non Professional    Others   \n",
       "16       MAHARASHTRA      390000.0  Self Employed Non Professional    Others   \n",
       "...              ...           ...                             ...       ...   \n",
       "56736  UTTAR PRADESH      420000.0  Self Employed Non Professional    Others   \n",
       "56739  UTTAR PRADESH      420000.0  Self Employed Non Professional    Others   \n",
       "56740  UTTAR PRADESH      420000.0  Self Employed Non Professional    Others   \n",
       "56745  UTTAR PRADESH      430000.0  Self Employed Non Professional    Others   \n",
       "56746  UTTAR PRADESH      430000.0  Self Employed Non Professional    Others   \n",
       "\n",
       "       CIBIL score                    loan_account_no  \\\n",
       "9            757.0             TW01010101000002231217   \n",
       "12           739.0             TW01010101000002231242   \n",
       "13           739.0  TW01010101000002231242_duplicate1   \n",
       "15           734.0             TW01010101000002231339   \n",
       "16           734.0  TW01010101000002231339_duplicate1   \n",
       "...            ...                                ...   \n",
       "56736         -1.0  UT01030107000002270269_duplicate1   \n",
       "56739        768.0             UT01030107000002272618   \n",
       "56740        768.0  UT01030107000002272618_duplicate1   \n",
       "56745         -1.0             UT01030107000002280635   \n",
       "56746         -1.0  UT01030107000002280635_duplicate1   \n",
       "\n",
       "       res_years_at_current_city  ...  industry bureau_score  \\\n",
       "9                            0.0  ...  Apparels        757.0   \n",
       "12                          22.0  ...    Others        739.0   \n",
       "13                           NaN  ...       NaN          NaN   \n",
       "15                          22.0  ...    Others        734.0   \n",
       "16                           NaN  ...       NaN          NaN   \n",
       "...                          ...  ...       ...          ...   \n",
       "56736                        NaN  ...       NaN          NaN   \n",
       "56739                        5.0  ...    Others        768.0   \n",
       "56740                        NaN  ...       NaN          NaN   \n",
       "56745                       16.0  ...    Others         -1.0   \n",
       "56746                        NaN  ...       NaN          NaN   \n",
       "\n",
       "      years_at_city_check  resident_status_check city_check state_check  \\\n",
       "9                    True                   True       True        True   \n",
       "12                  False                   True       True        True   \n",
       "13                  False                  False      False       False   \n",
       "15                  False                   True       True        True   \n",
       "16                  False                  False      False       False   \n",
       "...                   ...                    ...        ...         ...   \n",
       "56736               False                  False      False       False   \n",
       "56739               False                  False      False        True   \n",
       "56740               False                  False      False       False   \n",
       "56745               False                  False       True        True   \n",
       "56746               False                  False      False       False   \n",
       "\n",
       "       income_check  occupation_check  industry_check  CIBIL_check  \n",
       "9              True              True            True         True  \n",
       "12             True              True            True         True  \n",
       "13            False             False           False        False  \n",
       "15             True              True            True         True  \n",
       "16            False             False           False        False  \n",
       "...             ...               ...             ...          ...  \n",
       "56736         False             False           False        False  \n",
       "56739          True              True            True         True  \n",
       "56740         False             False           False        False  \n",
       "56745          True              True            True         True  \n",
       "56746         False             False           False        False  \n",
       "\n",
       "[16261 rows x 25 columns]"
      ]
     },
     "execution_count": 33,
     "metadata": {},
     "output_type": "execute_result"
    }
   ],
   "source": [
    "diff_rows"
   ]
  },
  {
   "cell_type": "code",
   "execution_count": 53,
   "id": "a5c1c37b-b2e2-48a6-bac8-ed88e84f4518",
   "metadata": {},
   "outputs": [
    {
     "name": "stderr",
     "output_type": "stream",
     "text": [
      "C:\\Users\\emanlangit.AEONCREDIT\\AppData\\Local\\Temp\\ipykernel_11868\\4214886488.py:1: SettingWithCopyWarning: \n",
      "A value is trying to be set on a copy of a slice from a DataFrame.\n",
      "Try using .loc[row_indexer,col_indexer] = value instead\n",
      "\n",
      "See the caveats in the documentation: https://pandas.pydata.org/pandas-docs/stable/user_guide/indexing.html#returning-a-view-versus-a-copy\n",
      "  reduced_merged_new_base['resident_status_check'] = reduced_merged_new_base['Resident Status'] == reduced_merged_new_base['res_resident_status']\n"
     ]
    },
    {
     "data": {
      "text/plain": [
       "resident_status_check\n",
       "True     51156\n",
       "False     5596\n",
       "Name: count, dtype: int64"
      ]
     },
     "execution_count": 53,
     "metadata": {},
     "output_type": "execute_result"
    }
   ],
   "source": [
    "reduced_merged_new_base['resident_status_check'] = reduced_merged_new_base['Resident Status'] == reduced_merged_new_base['res_resident_status']\n",
    "reduced_merged_new_base['resident_status_check'].value_counts()"
   ]
  },
  {
   "cell_type": "code",
   "execution_count": 56,
   "id": "d1004f89-b8f1-465f-adf1-e136decec8ac",
   "metadata": {},
   "outputs": [],
   "source": [
    "test = reduced_merged_new_base['resident_status_check']==reduced_merged_new_base['years_at_city_check']"
   ]
  },
  {
   "cell_type": "code",
   "execution_count": 58,
   "id": "b5527f34-8194-4fa5-ab71-a2b2945c4351",
   "metadata": {},
   "outputs": [
    {
     "data": {
      "text/plain": [
       "True     54938\n",
       "False     1814\n",
       "Name: count, dtype: int64"
      ]
     },
     "execution_count": 58,
     "metadata": {},
     "output_type": "execute_result"
    }
   ],
   "source": [
    "test.value_counts()"
   ]
  },
  {
   "cell_type": "code",
   "execution_count": 34,
   "id": "4f03526c-007e-4ea8-93ab-8785398a7a1b",
   "metadata": {},
   "outputs": [],
   "source": [
    "ok_rows = reduced_merged_new_base[~reduced_merged_new_base.eq(False).any(axis=1)]"
   ]
  },
  {
   "cell_type": "code",
   "execution_count": 35,
   "id": "9a7b5325-43e3-4c54-bcf0-f5433eb1d574",
   "metadata": {},
   "outputs": [
    {
     "data": {
      "text/html": [
       "<div>\n",
       "<style scoped>\n",
       "    .dataframe tbody tr th:only-of-type {\n",
       "        vertical-align: middle;\n",
       "    }\n",
       "\n",
       "    .dataframe tbody tr th {\n",
       "        vertical-align: top;\n",
       "    }\n",
       "\n",
       "    .dataframe thead th {\n",
       "        text-align: right;\n",
       "    }\n",
       "</style>\n",
       "<table border=\"1\" class=\"dataframe\">\n",
       "  <thead>\n",
       "    <tr style=\"text-align: right;\">\n",
       "      <th></th>\n",
       "      <th>Years at Current City</th>\n",
       "      <th>Resident Status</th>\n",
       "      <th>City</th>\n",
       "      <th>State</th>\n",
       "      <th>Total Income</th>\n",
       "      <th>Occupation Type</th>\n",
       "      <th>Industry</th>\n",
       "      <th>CIBIL score</th>\n",
       "      <th>loan_account_no</th>\n",
       "      <th>res_years_at_current_city</th>\n",
       "      <th>...</th>\n",
       "      <th>industry</th>\n",
       "      <th>bureau_score</th>\n",
       "      <th>years_at_city_check</th>\n",
       "      <th>resident_status_check</th>\n",
       "      <th>city_check</th>\n",
       "      <th>state_check</th>\n",
       "      <th>income_check</th>\n",
       "      <th>occupation_check</th>\n",
       "      <th>industry_check</th>\n",
       "      <th>CIBIL_check</th>\n",
       "    </tr>\n",
       "  </thead>\n",
       "  <tbody>\n",
       "    <tr>\n",
       "      <th>0</th>\n",
       "      <td>15</td>\n",
       "      <td>Owned by Parent /Sibling</td>\n",
       "      <td>MUMBAI</td>\n",
       "      <td>MAHARASHTRA</td>\n",
       "      <td>420000.0</td>\n",
       "      <td>Salaried</td>\n",
       "      <td>Others</td>\n",
       "      <td>763.0</td>\n",
       "      <td>TW01010101000002230893</td>\n",
       "      <td>15.0</td>\n",
       "      <td>...</td>\n",
       "      <td>Others</td>\n",
       "      <td>763.0</td>\n",
       "      <td>True</td>\n",
       "      <td>True</td>\n",
       "      <td>True</td>\n",
       "      <td>True</td>\n",
       "      <td>True</td>\n",
       "      <td>True</td>\n",
       "      <td>True</td>\n",
       "      <td>True</td>\n",
       "    </tr>\n",
       "    <tr>\n",
       "      <th>1</th>\n",
       "      <td>35</td>\n",
       "      <td>Owned by Parent /Sibling</td>\n",
       "      <td>MUMBAI</td>\n",
       "      <td>MAHARASHTRA</td>\n",
       "      <td>420000.0</td>\n",
       "      <td>Salaried</td>\n",
       "      <td>Others</td>\n",
       "      <td>727.0</td>\n",
       "      <td>TW01010101000002230943</td>\n",
       "      <td>35.0</td>\n",
       "      <td>...</td>\n",
       "      <td>Others</td>\n",
       "      <td>727.0</td>\n",
       "      <td>True</td>\n",
       "      <td>True</td>\n",
       "      <td>True</td>\n",
       "      <td>True</td>\n",
       "      <td>True</td>\n",
       "      <td>True</td>\n",
       "      <td>True</td>\n",
       "      <td>True</td>\n",
       "    </tr>\n",
       "    <tr>\n",
       "      <th>2</th>\n",
       "      <td>15</td>\n",
       "      <td>Owned by Parent /Sibling</td>\n",
       "      <td>MUMBAI</td>\n",
       "      <td>MAHARASHTRA</td>\n",
       "      <td>390000.0</td>\n",
       "      <td>Self Employed Non Professional</td>\n",
       "      <td>Others</td>\n",
       "      <td>747.0</td>\n",
       "      <td>TW01010101000002231047</td>\n",
       "      <td>15.0</td>\n",
       "      <td>...</td>\n",
       "      <td>Others</td>\n",
       "      <td>747.0</td>\n",
       "      <td>True</td>\n",
       "      <td>True</td>\n",
       "      <td>True</td>\n",
       "      <td>True</td>\n",
       "      <td>True</td>\n",
       "      <td>True</td>\n",
       "      <td>True</td>\n",
       "      <td>True</td>\n",
       "    </tr>\n",
       "    <tr>\n",
       "      <th>3</th>\n",
       "      <td>15</td>\n",
       "      <td>Owned by Parent /Sibling</td>\n",
       "      <td>MUMBAI</td>\n",
       "      <td>MAHARASHTRA</td>\n",
       "      <td>420000.0</td>\n",
       "      <td>Salaried</td>\n",
       "      <td>Others</td>\n",
       "      <td>780.0</td>\n",
       "      <td>TW01010101000002231074</td>\n",
       "      <td>15.0</td>\n",
       "      <td>...</td>\n",
       "      <td>Others</td>\n",
       "      <td>780.0</td>\n",
       "      <td>True</td>\n",
       "      <td>True</td>\n",
       "      <td>True</td>\n",
       "      <td>True</td>\n",
       "      <td>True</td>\n",
       "      <td>True</td>\n",
       "      <td>True</td>\n",
       "      <td>True</td>\n",
       "    </tr>\n",
       "    <tr>\n",
       "      <th>4</th>\n",
       "      <td>15</td>\n",
       "      <td>Owned by Parent /Sibling</td>\n",
       "      <td>MUMBAI</td>\n",
       "      <td>MAHARASHTRA</td>\n",
       "      <td>390000.0</td>\n",
       "      <td>Self Employed Non Professional</td>\n",
       "      <td>Others</td>\n",
       "      <td>740.0</td>\n",
       "      <td>TW01010101000002231096</td>\n",
       "      <td>15.0</td>\n",
       "      <td>...</td>\n",
       "      <td>Others</td>\n",
       "      <td>740.0</td>\n",
       "      <td>True</td>\n",
       "      <td>True</td>\n",
       "      <td>True</td>\n",
       "      <td>True</td>\n",
       "      <td>True</td>\n",
       "      <td>True</td>\n",
       "      <td>True</td>\n",
       "      <td>True</td>\n",
       "    </tr>\n",
       "    <tr>\n",
       "      <th>...</th>\n",
       "      <td>...</td>\n",
       "      <td>...</td>\n",
       "      <td>...</td>\n",
       "      <td>...</td>\n",
       "      <td>...</td>\n",
       "      <td>...</td>\n",
       "      <td>...</td>\n",
       "      <td>...</td>\n",
       "      <td>...</td>\n",
       "      <td>...</td>\n",
       "      <td>...</td>\n",
       "      <td>...</td>\n",
       "      <td>...</td>\n",
       "      <td>...</td>\n",
       "      <td>...</td>\n",
       "      <td>...</td>\n",
       "      <td>...</td>\n",
       "      <td>...</td>\n",
       "      <td>...</td>\n",
       "      <td>...</td>\n",
       "      <td>...</td>\n",
       "    </tr>\n",
       "    <tr>\n",
       "      <th>56747</th>\n",
       "      <td>28</td>\n",
       "      <td>Owned by Parent /Sibling</td>\n",
       "      <td>GHAZIABAD</td>\n",
       "      <td>UTTAR PRADESH</td>\n",
       "      <td>420000.0</td>\n",
       "      <td>Self Employed Non Professional</td>\n",
       "      <td>Others</td>\n",
       "      <td>726.0</td>\n",
       "      <td>UT01030107000002280644</td>\n",
       "      <td>28.0</td>\n",
       "      <td>...</td>\n",
       "      <td>Others</td>\n",
       "      <td>726.0</td>\n",
       "      <td>True</td>\n",
       "      <td>True</td>\n",
       "      <td>True</td>\n",
       "      <td>True</td>\n",
       "      <td>True</td>\n",
       "      <td>True</td>\n",
       "      <td>True</td>\n",
       "      <td>True</td>\n",
       "    </tr>\n",
       "    <tr>\n",
       "      <th>56748</th>\n",
       "      <td>27</td>\n",
       "      <td>Owned by Parent /Sibling</td>\n",
       "      <td>GHAZIABAD</td>\n",
       "      <td>UTTAR PRADESH</td>\n",
       "      <td>430000.0</td>\n",
       "      <td>Self Employed Non Professional</td>\n",
       "      <td>Others</td>\n",
       "      <td>746.0</td>\n",
       "      <td>UT01030107000002282167</td>\n",
       "      <td>27.0</td>\n",
       "      <td>...</td>\n",
       "      <td>Others</td>\n",
       "      <td>746.0</td>\n",
       "      <td>True</td>\n",
       "      <td>True</td>\n",
       "      <td>True</td>\n",
       "      <td>True</td>\n",
       "      <td>True</td>\n",
       "      <td>True</td>\n",
       "      <td>True</td>\n",
       "      <td>True</td>\n",
       "    </tr>\n",
       "    <tr>\n",
       "      <th>56749</th>\n",
       "      <td>24</td>\n",
       "      <td>Rented</td>\n",
       "      <td>GHAZIABAD</td>\n",
       "      <td>UTTAR PRADESH</td>\n",
       "      <td>420000.0</td>\n",
       "      <td>Self Employed Non Professional</td>\n",
       "      <td>Others</td>\n",
       "      <td>-1.0</td>\n",
       "      <td>UT01030107000002282455</td>\n",
       "      <td>24.0</td>\n",
       "      <td>...</td>\n",
       "      <td>Others</td>\n",
       "      <td>-1.0</td>\n",
       "      <td>True</td>\n",
       "      <td>True</td>\n",
       "      <td>True</td>\n",
       "      <td>True</td>\n",
       "      <td>True</td>\n",
       "      <td>True</td>\n",
       "      <td>True</td>\n",
       "      <td>True</td>\n",
       "    </tr>\n",
       "    <tr>\n",
       "      <th>56750</th>\n",
       "      <td>15</td>\n",
       "      <td>Rented</td>\n",
       "      <td>GHAZIABAD</td>\n",
       "      <td>UTTAR PRADESH</td>\n",
       "      <td>420000.0</td>\n",
       "      <td>Self Employed Non Professional</td>\n",
       "      <td>Others</td>\n",
       "      <td>-1.0</td>\n",
       "      <td>UT01030107000002286165</td>\n",
       "      <td>15.0</td>\n",
       "      <td>...</td>\n",
       "      <td>Others</td>\n",
       "      <td>-1.0</td>\n",
       "      <td>True</td>\n",
       "      <td>True</td>\n",
       "      <td>True</td>\n",
       "      <td>True</td>\n",
       "      <td>True</td>\n",
       "      <td>True</td>\n",
       "      <td>True</td>\n",
       "      <td>True</td>\n",
       "    </tr>\n",
       "    <tr>\n",
       "      <th>56751</th>\n",
       "      <td>23</td>\n",
       "      <td>Owned by Parent /Sibling</td>\n",
       "      <td>GHAZIABAD</td>\n",
       "      <td>UTTAR PRADESH</td>\n",
       "      <td>420000.0</td>\n",
       "      <td>Self Employed Non Professional</td>\n",
       "      <td>Others</td>\n",
       "      <td>-1.0</td>\n",
       "      <td>UT01030107000002286166</td>\n",
       "      <td>23.0</td>\n",
       "      <td>...</td>\n",
       "      <td>Others</td>\n",
       "      <td>-1.0</td>\n",
       "      <td>True</td>\n",
       "      <td>True</td>\n",
       "      <td>True</td>\n",
       "      <td>True</td>\n",
       "      <td>True</td>\n",
       "      <td>True</td>\n",
       "      <td>True</td>\n",
       "      <td>True</td>\n",
       "    </tr>\n",
       "  </tbody>\n",
       "</table>\n",
       "<p>40491 rows × 25 columns</p>\n",
       "</div>"
      ],
      "text/plain": [
       "       Years at Current City           Resident Status       City  \\\n",
       "0                         15  Owned by Parent /Sibling     MUMBAI   \n",
       "1                         35  Owned by Parent /Sibling     MUMBAI   \n",
       "2                         15  Owned by Parent /Sibling     MUMBAI   \n",
       "3                         15  Owned by Parent /Sibling     MUMBAI   \n",
       "4                         15  Owned by Parent /Sibling     MUMBAI   \n",
       "...                      ...                       ...        ...   \n",
       "56747                     28  Owned by Parent /Sibling  GHAZIABAD   \n",
       "56748                     27  Owned by Parent /Sibling  GHAZIABAD   \n",
       "56749                     24                    Rented  GHAZIABAD   \n",
       "56750                     15                    Rented  GHAZIABAD   \n",
       "56751                     23  Owned by Parent /Sibling  GHAZIABAD   \n",
       "\n",
       "               State  Total Income                 Occupation Type Industry  \\\n",
       "0        MAHARASHTRA      420000.0                        Salaried   Others   \n",
       "1        MAHARASHTRA      420000.0                        Salaried   Others   \n",
       "2        MAHARASHTRA      390000.0  Self Employed Non Professional   Others   \n",
       "3        MAHARASHTRA      420000.0                        Salaried   Others   \n",
       "4        MAHARASHTRA      390000.0  Self Employed Non Professional   Others   \n",
       "...              ...           ...                             ...      ...   \n",
       "56747  UTTAR PRADESH      420000.0  Self Employed Non Professional   Others   \n",
       "56748  UTTAR PRADESH      430000.0  Self Employed Non Professional   Others   \n",
       "56749  UTTAR PRADESH      420000.0  Self Employed Non Professional   Others   \n",
       "56750  UTTAR PRADESH      420000.0  Self Employed Non Professional   Others   \n",
       "56751  UTTAR PRADESH      420000.0  Self Employed Non Professional   Others   \n",
       "\n",
       "       CIBIL score         loan_account_no  res_years_at_current_city  ...  \\\n",
       "0            763.0  TW01010101000002230893                       15.0  ...   \n",
       "1            727.0  TW01010101000002230943                       35.0  ...   \n",
       "2            747.0  TW01010101000002231047                       15.0  ...   \n",
       "3            780.0  TW01010101000002231074                       15.0  ...   \n",
       "4            740.0  TW01010101000002231096                       15.0  ...   \n",
       "...            ...                     ...                        ...  ...   \n",
       "56747        726.0  UT01030107000002280644                       28.0  ...   \n",
       "56748        746.0  UT01030107000002282167                       27.0  ...   \n",
       "56749         -1.0  UT01030107000002282455                       24.0  ...   \n",
       "56750         -1.0  UT01030107000002286165                       15.0  ...   \n",
       "56751         -1.0  UT01030107000002286166                       23.0  ...   \n",
       "\n",
       "      industry bureau_score years_at_city_check  resident_status_check  \\\n",
       "0       Others        763.0                True                   True   \n",
       "1       Others        727.0                True                   True   \n",
       "2       Others        747.0                True                   True   \n",
       "3       Others        780.0                True                   True   \n",
       "4       Others        740.0                True                   True   \n",
       "...        ...          ...                 ...                    ...   \n",
       "56747   Others        726.0                True                   True   \n",
       "56748   Others        746.0                True                   True   \n",
       "56749   Others         -1.0                True                   True   \n",
       "56750   Others         -1.0                True                   True   \n",
       "56751   Others         -1.0                True                   True   \n",
       "\n",
       "      city_check state_check  income_check  occupation_check  industry_check  \\\n",
       "0           True        True          True              True            True   \n",
       "1           True        True          True              True            True   \n",
       "2           True        True          True              True            True   \n",
       "3           True        True          True              True            True   \n",
       "4           True        True          True              True            True   \n",
       "...          ...         ...           ...               ...             ...   \n",
       "56747       True        True          True              True            True   \n",
       "56748       True        True          True              True            True   \n",
       "56749       True        True          True              True            True   \n",
       "56750       True        True          True              True            True   \n",
       "56751       True        True          True              True            True   \n",
       "\n",
       "       CIBIL_check  \n",
       "0             True  \n",
       "1             True  \n",
       "2             True  \n",
       "3             True  \n",
       "4             True  \n",
       "...            ...  \n",
       "56747         True  \n",
       "56748         True  \n",
       "56749         True  \n",
       "56750         True  \n",
       "56751         True  \n",
       "\n",
       "[40491 rows x 25 columns]"
      ]
     },
     "execution_count": 35,
     "metadata": {},
     "output_type": "execute_result"
    }
   ],
   "source": [
    "ok_rows"
   ]
  },
  {
   "cell_type": "code",
   "execution_count": 41,
   "id": "8ca632fc-c21a-472c-b010-84e91698a2a9",
   "metadata": {},
   "outputs": [],
   "source": [
    "reduced_merged_new_base.to_csv('merged_new_base_data.csv',index = False)"
   ]
  },
  {
   "cell_type": "code",
   "execution_count": null,
   "id": "743334ee-e101-404b-a795-400aaed13d6d",
   "metadata": {},
   "outputs": [],
   "source": []
  }
 ],
 "metadata": {
  "kernelspec": {
   "display_name": "Python 3 (ipykernel)",
   "language": "python",
   "name": "python3"
  },
  "language_info": {
   "codemirror_mode": {
    "name": "ipython",
    "version": 3
   },
   "file_extension": ".py",
   "mimetype": "text/x-python",
   "name": "python",
   "nbconvert_exporter": "python",
   "pygments_lexer": "ipython3",
   "version": "3.12.2"
  }
 },
 "nbformat": 4,
 "nbformat_minor": 5
}
