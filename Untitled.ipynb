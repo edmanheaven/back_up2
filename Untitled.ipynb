{
 "cells": [
  {
   "cell_type": "markdown",
   "id": "e04e31fa-1b1f-4eb1-8486-aa6aef084d75",
   "metadata": {},
   "source": [
    "EDA Data Prep\n",
    "Creation of new basis df using only columns in the POC Model Columns - Confirmed file"
   ]
  },
  {
   "cell_type": "code",
   "execution_count": 1,
   "id": "10f7bba8-40eb-4613-bd17-76d667d2aec8",
   "metadata": {},
   "outputs": [],
   "source": [
    "import pandas as pd\n",
    "import numpy as np"
   ]
  },
  {
   "cell_type": "code",
   "execution_count": 2,
   "id": "ff147884-0010-477d-ad76-cf17bc085858",
   "metadata": {},
   "outputs": [],
   "source": [
    "new_data = pd.read_csv(r\"C:\\Users\\emanlangit\\Documents\\2025\\00 ACSIN\\New Data\\SCM_Data_060125_input.csv\")\n",
    "new_data.rename(columns={'LOAN_ACCOUNT_NO': 'loan_account_no'}, inplace=True)"
   ]
  },
  {
   "cell_type": "code",
   "execution_count": null,
   "id": "d068e719-2189-4629-868d-f40ee0115743",
   "metadata": {},
   "outputs": [],
   "source": [
    "#skip, for duplicate cleaning only"
   ]
  },
  {
   "cell_type": "code",
   "execution_count": 37,
   "id": "d708e679-8c03-42ba-98a7-fe1f8cef266b",
   "metadata": {},
   "outputs": [
    {
     "data": {
      "text/html": [
       "<div>\n",
       "<style scoped>\n",
       "    .dataframe tbody tr th:only-of-type {\n",
       "        vertical-align: middle;\n",
       "    }\n",
       "\n",
       "    .dataframe tbody tr th {\n",
       "        vertical-align: top;\n",
       "    }\n",
       "\n",
       "    .dataframe thead th {\n",
       "        text-align: right;\n",
       "    }\n",
       "</style>\n",
       "<table border=\"1\" class=\"dataframe\">\n",
       "  <thead>\n",
       "    <tr style=\"text-align: right;\">\n",
       "      <th></th>\n",
       "      <th>loan_account_no</th>\n",
       "      <th>Years at Current City</th>\n",
       "    </tr>\n",
       "  </thead>\n",
       "  <tbody>\n",
       "    <tr>\n",
       "      <th>127444</th>\n",
       "      <td>TW01030104000002242640</td>\n",
       "      <td>1</td>\n",
       "    </tr>\n",
       "    <tr>\n",
       "      <th>157925</th>\n",
       "      <td>TW01030104000002242640</td>\n",
       "      <td>18</td>\n",
       "    </tr>\n",
       "  </tbody>\n",
       "</table>\n",
       "</div>"
      ],
      "text/plain": [
       "               loan_account_no  Years at Current City\n",
       "127444  TW01030104000002242640                      1\n",
       "157925  TW01030104000002242640                     18"
      ]
     },
     "execution_count": 37,
     "metadata": {},
     "output_type": "execute_result"
    }
   ],
   "source": [
    "yo = new_data[['loan_account_no', 'Years at Current City']]\n",
    "yo[yo.loan_account_no == 'TW01030104000002242640']"
   ]
  },
  {
   "cell_type": "code",
   "execution_count": 47,
   "id": "a830e166-37fe-4962-902a-49a4b6f880d2",
   "metadata": {},
   "outputs": [
    {
     "data": {
      "text/plain": [
       "127444     1\n",
       "157925    18\n",
       "Name: Years at Current City, dtype: int64"
      ]
     },
     "execution_count": 47,
     "metadata": {},
     "output_type": "execute_result"
    }
   ],
   "source": [
    "new_data[new_data.loan_account_no == 'TW01030104000002242640']['Years at Current City']"
   ]
  },
  {
   "cell_type": "code",
   "execution_count": null,
   "id": "1f273bc2-7c90-4142-ab4a-75f6c7b80688",
   "metadata": {},
   "outputs": [],
   "source": []
  },
  {
   "cell_type": "code",
   "execution_count": 62,
   "id": "ecd83b40-c775-4e2f-953a-c4e7e2c4446d",
   "metadata": {},
   "outputs": [],
   "source": [
    "duplicate_counts = valid_new_data['loan_account_no'].value_counts()\n",
    "duplicates = duplicate_counts[duplicate_counts > 1]"
   ]
  },
  {
   "cell_type": "code",
   "execution_count": 69,
   "id": "f7599b82-c751-45a0-b148-0050be245813",
   "metadata": {},
   "outputs": [
    {
     "data": {
      "text/plain": [
       "4572"
      ]
     },
     "execution_count": 69,
     "metadata": {},
     "output_type": "execute_result"
    }
   ],
   "source": [
    "len(duplicates)"
   ]
  },
  {
   "cell_type": "code",
   "execution_count": 78,
   "id": "636ec4b7-f734-45f4-a318-136c135d45be",
   "metadata": {},
   "outputs": [
    {
     "data": {
      "text/plain": [
       "pandas.core.series.Series"
      ]
     },
     "execution_count": 78,
     "metadata": {},
     "output_type": "execute_result"
    }
   ],
   "source": [
    "type(duplicates)"
   ]
  },
  {
   "cell_type": "code",
   "execution_count": 80,
   "id": "9aa3f4f8-40ee-4ccf-863f-dd8b3fe3bd84",
   "metadata": {},
   "outputs": [],
   "source": [
    "duplicated_LANs_new_data = list(duplicates.index)"
   ]
  },
  {
   "cell_type": "code",
   "execution_count": 82,
   "id": "89b9c7c1-0fd2-4681-a328-900e9264623a",
   "metadata": {},
   "outputs": [
    {
     "data": {
      "text/plain": [
       "4572"
      ]
     },
     "execution_count": 82,
     "metadata": {},
     "output_type": "execute_result"
    }
   ],
   "source": [
    "len(duplicated_LANs_new_data)"
   ]
  },
  {
   "cell_type": "code",
   "execution_count": 117,
   "id": "c12a3e59-8326-4fa9-bd98-6d8360cb127f",
   "metadata": {},
   "outputs": [],
   "source": [
    "test_case = duplicated_LANs_new_data[3]"
   ]
  },
  {
   "cell_type": "code",
   "execution_count": 118,
   "id": "3a9eac85-51d5-4cf9-abb1-ac657966261e",
   "metadata": {},
   "outputs": [],
   "source": [
    "LAN = test_case\n",
    "temp_df = reduced_valid_new_data[reduced_valid_new_data.loan_account_no == LAN]\n",
    "row1 = temp_df.iloc[0]\n",
    "row2 = temp_df.iloc[1]"
   ]
  },
  {
   "cell_type": "code",
   "execution_count": 119,
   "id": "50000d56-b66c-41b9-a113-7f2141f31cc6",
   "metadata": {},
   "outputs": [],
   "source": [
    "# Compare rows and find columns with different values\n",
    "differences = row1 != row2\n",
    "different_columns = differences[differences].index.tolist()"
   ]
  },
  {
   "cell_type": "code",
   "execution_count": 120,
   "id": "1ac66b7f-5682-4ab1-b582-b7fdaea8480f",
   "metadata": {},
   "outputs": [
    {
     "data": {
      "text/plain": [
       "['Years at Current City']"
      ]
     },
     "execution_count": 120,
     "metadata": {},
     "output_type": "execute_result"
    }
   ],
   "source": [
    "different_columns"
   ]
  },
  {
   "cell_type": "code",
   "execution_count": 121,
   "id": "4c5b36c4-a120-4ca6-8b2d-6107c421d708",
   "metadata": {},
   "outputs": [
    {
     "data": {
      "text/html": [
       "<div>\n",
       "<style scoped>\n",
       "    .dataframe tbody tr th:only-of-type {\n",
       "        vertical-align: middle;\n",
       "    }\n",
       "\n",
       "    .dataframe tbody tr th {\n",
       "        vertical-align: top;\n",
       "    }\n",
       "\n",
       "    .dataframe thead th {\n",
       "        text-align: right;\n",
       "    }\n",
       "</style>\n",
       "<table border=\"1\" class=\"dataframe\">\n",
       "  <thead>\n",
       "    <tr style=\"text-align: right;\">\n",
       "      <th></th>\n",
       "      <th>Years at Current City</th>\n",
       "    </tr>\n",
       "  </thead>\n",
       "  <tbody>\n",
       "    <tr>\n",
       "      <th>25188</th>\n",
       "      <td>22</td>\n",
       "    </tr>\n",
       "    <tr>\n",
       "      <th>25189</th>\n",
       "      <td>0</td>\n",
       "    </tr>\n",
       "  </tbody>\n",
       "</table>\n",
       "</div>"
      ],
      "text/plain": [
       "       Years at Current City\n",
       "25188                     22\n",
       "25189                      0"
      ]
     },
     "execution_count": 121,
     "metadata": {},
     "output_type": "execute_result"
    }
   ],
   "source": [
    "temp_df[different_columns]"
   ]
  },
  {
   "cell_type": "code",
   "execution_count": 123,
   "id": "08e16deb-a1d7-4f6e-bc69-0449087741e5",
   "metadata": {},
   "outputs": [
    {
     "data": {
      "text/html": [
       "<div>\n",
       "<style scoped>\n",
       "    .dataframe tbody tr th:only-of-type {\n",
       "        vertical-align: middle;\n",
       "    }\n",
       "\n",
       "    .dataframe tbody tr th {\n",
       "        vertical-align: top;\n",
       "    }\n",
       "\n",
       "    .dataframe thead th {\n",
       "        text-align: right;\n",
       "    }\n",
       "</style>\n",
       "<table border=\"1\" class=\"dataframe\">\n",
       "  <thead>\n",
       "    <tr style=\"text-align: right;\">\n",
       "      <th></th>\n",
       "      <th>res_years_at_current_city</th>\n",
       "    </tr>\n",
       "  </thead>\n",
       "  <tbody>\n",
       "    <tr>\n",
       "      <th>23073</th>\n",
       "      <td>22</td>\n",
       "    </tr>\n",
       "  </tbody>\n",
       "</table>\n",
       "</div>"
      ],
      "text/plain": [
       "       res_years_at_current_city\n",
       "23073                         22"
      ]
     },
     "execution_count": 123,
     "metadata": {},
     "output_type": "execute_result"
    }
   ],
   "source": [
    "adjusted_reduced_valid_base_data_old[adjusted_reduced_valid_base_data_old.loan_account_no == LAN][['res_years_at_current_city']]"
   ]
  },
  {
   "cell_type": "code",
   "execution_count": 142,
   "id": "e4c55cb8-cc9b-4776-bc45-075ae2f88489",
   "metadata": {},
   "outputs": [],
   "source": [
    "#dealing with duplicated LANs\n",
    "cleaning_df = new_data.copy()\n",
    "# Identify duplicated values\n",
    "duplicates = cleaning_df.duplicated('loan_account_no', keep='first')\n",
    "\n",
    "# Create a counter to keep track of duplicates\n",
    "counter = {}\n",
    "\n",
    "# Loop through the DataFrame and rename duplicates\n",
    "for idx, value in cleaning_df.loc[duplicates, 'loan_account_no'].items():\n",
    "    if value not in counter:\n",
    "        counter[value] = 1\n",
    "    counter[value] += 1\n",
    "    cleaning_df.at[idx, 'loan_account_no'] = f\"{value}_duplicate{counter[value] - 1}\""
   ]
  },
  {
   "cell_type": "code",
   "execution_count": 143,
   "id": "1688952a-4685-4b6a-b69f-ed3dd25ddfca",
   "metadata": {},
   "outputs": [
    {
     "data": {
      "text/html": [
       "<div>\n",
       "<style scoped>\n",
       "    .dataframe tbody tr th:only-of-type {\n",
       "        vertical-align: middle;\n",
       "    }\n",
       "\n",
       "    .dataframe tbody tr th {\n",
       "        vertical-align: top;\n",
       "    }\n",
       "\n",
       "    .dataframe thead th {\n",
       "        text-align: right;\n",
       "    }\n",
       "</style>\n",
       "<table border=\"1\" class=\"dataframe\">\n",
       "  <thead>\n",
       "    <tr style=\"text-align: right;\">\n",
       "      <th></th>\n",
       "      <th>APPLICATION_NUMBER</th>\n",
       "      <th>CIFNUMBER</th>\n",
       "      <th>CUSTOMER_NUMBER</th>\n",
       "      <th>Application Received Date</th>\n",
       "      <th>Product</th>\n",
       "      <th>Judgement date</th>\n",
       "      <th>DECISION</th>\n",
       "      <th>USER_COMMENT</th>\n",
       "      <th>loan_account_no</th>\n",
       "      <th>LOAN_SANCTIONED_DATE</th>\n",
       "      <th>...</th>\n",
       "      <th>Branch Name</th>\n",
       "      <th>Occupation Type</th>\n",
       "      <th>Industry</th>\n",
       "      <th>Sanctioned ROI</th>\n",
       "      <th>Sanction Tenure</th>\n",
       "      <th>Total Asset Cost</th>\n",
       "      <th>CIBIL score</th>\n",
       "      <th>Unnamed: 29</th>\n",
       "      <th>Unnamed: 30</th>\n",
       "      <th>Unnamed: 31</th>\n",
       "    </tr>\n",
       "  </thead>\n",
       "  <tbody>\n",
       "    <tr>\n",
       "      <th>0</th>\n",
       "      <td>APPL00053183</td>\n",
       "      <td>GLBCUST00000046162</td>\n",
       "      <td>CUST00047706</td>\n",
       "      <td>17-02-22 09:14:55.878000000 PM</td>\n",
       "      <td>2 Wheeler Loan</td>\n",
       "      <td>28-02-22 07:24:02.284000000 PM</td>\n",
       "      <td>Approve</td>\n",
       "      <td>OVERDUE APPROVAL TAKEN FROM ARPITA SAN</td>\n",
       "      <td>TW01030103000002198214</td>\n",
       "      <td>28-02-22</td>\n",
       "      <td>...</td>\n",
       "      <td>East Delhi</td>\n",
       "      <td>Self Employed Non Professional</td>\n",
       "      <td>Apparels</td>\n",
       "      <td>10.80</td>\n",
       "      <td>18</td>\n",
       "      <td>106200</td>\n",
       "      <td>640.0</td>\n",
       "      <td>NaN</td>\n",
       "      <td>NaN</td>\n",
       "      <td>80377.0</td>\n",
       "    </tr>\n",
       "    <tr>\n",
       "      <th>1</th>\n",
       "      <td>APPL00045582</td>\n",
       "      <td>GLBCUST00000039525</td>\n",
       "      <td>CUST00040897</td>\n",
       "      <td>10-01-22 12:35:16.738000000 PM</td>\n",
       "      <td>2 Wheeler Loan</td>\n",
       "      <td>11-01-22 03:11:28.143000000 PM</td>\n",
       "      <td>Approve</td>\n",
       "      <td>NO TEST CODE</td>\n",
       "      <td>TW01020102000002194118</td>\n",
       "      <td>11-01-22</td>\n",
       "      <td>...</td>\n",
       "      <td>South Bangalore</td>\n",
       "      <td>Salaried</td>\n",
       "      <td>Others</td>\n",
       "      <td>10.80</td>\n",
       "      <td>30</td>\n",
       "      <td>101000</td>\n",
       "      <td>744.0</td>\n",
       "      <td>NaN</td>\n",
       "      <td>NaN</td>\n",
       "      <td>NaN</td>\n",
       "    </tr>\n",
       "    <tr>\n",
       "      <th>2</th>\n",
       "      <td>APPL00045746</td>\n",
       "      <td>GLBCUST00000039670</td>\n",
       "      <td>CUST00041047</td>\n",
       "      <td>11-01-22 11:56:22.212000000 AM</td>\n",
       "      <td>2 Wheeler Loan</td>\n",
       "      <td>11-01-22 12:20:59.868000000 PM</td>\n",
       "      <td>Approve</td>\n",
       "      <td>NO TEST CODE</td>\n",
       "      <td>TW01010101000002194294</td>\n",
       "      <td>11-01-22</td>\n",
       "      <td>...</td>\n",
       "      <td>Eastern Mumbai</td>\n",
       "      <td>Self Employed Non Professional</td>\n",
       "      <td>Apparels</td>\n",
       "      <td>10.80</td>\n",
       "      <td>36</td>\n",
       "      <td>90200</td>\n",
       "      <td>743.0</td>\n",
       "      <td>NaN</td>\n",
       "      <td>NaN</td>\n",
       "      <td>NaN</td>\n",
       "    </tr>\n",
       "    <tr>\n",
       "      <th>3</th>\n",
       "      <td>APPL00049588</td>\n",
       "      <td>GLBCUST00000043044</td>\n",
       "      <td>CUST00044507</td>\n",
       "      <td>31-01-22 12:56:42.989000000 PM</td>\n",
       "      <td>2 Wheeler Loan</td>\n",
       "      <td>31-01-22 02:09:58.252000000 PM</td>\n",
       "      <td>Approve</td>\n",
       "      <td>NO TEST CODE</td>\n",
       "      <td>TW01020102000002195778</td>\n",
       "      <td>31-01-22</td>\n",
       "      <td>...</td>\n",
       "      <td>South Bangalore</td>\n",
       "      <td>Salaried</td>\n",
       "      <td>Others</td>\n",
       "      <td>12.60</td>\n",
       "      <td>24</td>\n",
       "      <td>84011</td>\n",
       "      <td>671.0</td>\n",
       "      <td>NaN</td>\n",
       "      <td>NaN</td>\n",
       "      <td>NaN</td>\n",
       "    </tr>\n",
       "    <tr>\n",
       "      <th>4</th>\n",
       "      <td>APPL00044448</td>\n",
       "      <td>GLBCUST00000038539</td>\n",
       "      <td>CUST00039882</td>\n",
       "      <td>03-01-22 01:47:17.077000000 PM</td>\n",
       "      <td>2 Wheeler Loan</td>\n",
       "      <td>03-01-22 02:32:45.828000000 PM</td>\n",
       "      <td>Approve</td>\n",
       "      <td>NO TEST CODE</td>\n",
       "      <td>TW01030102000002193651</td>\n",
       "      <td>03-01-22</td>\n",
       "      <td>...</td>\n",
       "      <td>South Delhi</td>\n",
       "      <td>Salaried</td>\n",
       "      <td>Others</td>\n",
       "      <td>11.88</td>\n",
       "      <td>18</td>\n",
       "      <td>61900</td>\n",
       "      <td>-1.0</td>\n",
       "      <td>NaN</td>\n",
       "      <td>NaN</td>\n",
       "      <td>NaN</td>\n",
       "    </tr>\n",
       "    <tr>\n",
       "      <th>...</th>\n",
       "      <td>...</td>\n",
       "      <td>...</td>\n",
       "      <td>...</td>\n",
       "      <td>...</td>\n",
       "      <td>...</td>\n",
       "      <td>...</td>\n",
       "      <td>...</td>\n",
       "      <td>...</td>\n",
       "      <td>...</td>\n",
       "      <td>...</td>\n",
       "      <td>...</td>\n",
       "      <td>...</td>\n",
       "      <td>...</td>\n",
       "      <td>...</td>\n",
       "      <td>...</td>\n",
       "      <td>...</td>\n",
       "      <td>...</td>\n",
       "      <td>...</td>\n",
       "      <td>...</td>\n",
       "      <td>...</td>\n",
       "      <td>...</td>\n",
       "    </tr>\n",
       "    <tr>\n",
       "      <th>241884</th>\n",
       "      <td>APPL00109409</td>\n",
       "      <td>GLBCUST00000095605</td>\n",
       "      <td>CUST00098378</td>\n",
       "      <td>08-10-22 01:05:40.334000000 PM</td>\n",
       "      <td>2 Wheeler Loan</td>\n",
       "      <td>08-10-22 01:54:19.731000000 PM</td>\n",
       "      <td>Reject</td>\n",
       "      <td>DUAL PAN CARD</td>\n",
       "      <td>nan_duplicate80372</td>\n",
       "      <td>NaN</td>\n",
       "      <td>...</td>\n",
       "      <td>Thane</td>\n",
       "      <td>Self Employed Non Professional</td>\n",
       "      <td>Others</td>\n",
       "      <td>10.99</td>\n",
       "      <td>36</td>\n",
       "      <td>99100</td>\n",
       "      <td>758.0</td>\n",
       "      <td>NaN</td>\n",
       "      <td>NaN</td>\n",
       "      <td>NaN</td>\n",
       "    </tr>\n",
       "    <tr>\n",
       "      <th>241885</th>\n",
       "      <td>APPL00235755</td>\n",
       "      <td>GLBCUST00000204351</td>\n",
       "      <td>CUST00210880</td>\n",
       "      <td>24-10-23 05:24:09.630000000 PM</td>\n",
       "      <td>2 Wheeler Loan</td>\n",
       "      <td>24-10-23 06:34:10.649000000 PM</td>\n",
       "      <td>Reject</td>\n",
       "      <td>Negative Cibil</td>\n",
       "      <td>nan_duplicate80373</td>\n",
       "      <td>NaN</td>\n",
       "      <td>...</td>\n",
       "      <td>Virar</td>\n",
       "      <td>Salaried</td>\n",
       "      <td>Others</td>\n",
       "      <td>11.75</td>\n",
       "      <td>36</td>\n",
       "      <td>126000</td>\n",
       "      <td>687.0</td>\n",
       "      <td>NaN</td>\n",
       "      <td>NaN</td>\n",
       "      <td>NaN</td>\n",
       "    </tr>\n",
       "    <tr>\n",
       "      <th>241886</th>\n",
       "      <td>APPL00130109</td>\n",
       "      <td>GLBCUST00000113822</td>\n",
       "      <td>CUST00117024</td>\n",
       "      <td>07-12-22 03:05:58.124000000 PM</td>\n",
       "      <td>2 Wheeler Loan</td>\n",
       "      <td>07-12-22 05:24:20.350000000 PM</td>\n",
       "      <td>Approve</td>\n",
       "      <td>no test code</td>\n",
       "      <td>nan_duplicate80374</td>\n",
       "      <td>NaN</td>\n",
       "      <td>...</td>\n",
       "      <td>Eastern Mumbai</td>\n",
       "      <td>Self Employed Non Professional</td>\n",
       "      <td>Others</td>\n",
       "      <td>11.29</td>\n",
       "      <td>24</td>\n",
       "      <td>92419</td>\n",
       "      <td>738.0</td>\n",
       "      <td>NaN</td>\n",
       "      <td>NaN</td>\n",
       "      <td>NaN</td>\n",
       "    </tr>\n",
       "    <tr>\n",
       "      <th>241887</th>\n",
       "      <td>APPL00199935</td>\n",
       "      <td>GLBCUST00000174126</td>\n",
       "      <td>CUST00179430</td>\n",
       "      <td>02-08-23 02:07:45.392000000 PM</td>\n",
       "      <td>2 Wheeler Loan</td>\n",
       "      <td>03-08-23 07:52:59.236000000 PM</td>\n",
       "      <td>Reject</td>\n",
       "      <td>EARLIER REJECTED</td>\n",
       "      <td>nan_duplicate80375</td>\n",
       "      <td>NaN</td>\n",
       "      <td>...</td>\n",
       "      <td>N Western Mumbai</td>\n",
       "      <td>Salaried</td>\n",
       "      <td>Others</td>\n",
       "      <td>11.75</td>\n",
       "      <td>24</td>\n",
       "      <td>141199</td>\n",
       "      <td>-1.0</td>\n",
       "      <td>NaN</td>\n",
       "      <td>NaN</td>\n",
       "      <td>NaN</td>\n",
       "    </tr>\n",
       "    <tr>\n",
       "      <th>241888</th>\n",
       "      <td>APPL00187534</td>\n",
       "      <td>GLBCUST00000163389</td>\n",
       "      <td>CUST00168314</td>\n",
       "      <td>22-06-23 01:50:34.369000000 PM</td>\n",
       "      <td>2 Wheeler Loan</td>\n",
       "      <td>22-06-23 02:48:48.757000000 PM</td>\n",
       "      <td>Reject</td>\n",
       "      <td>CIBIL Negative</td>\n",
       "      <td>nan_duplicate80376</td>\n",
       "      <td>NaN</td>\n",
       "      <td>...</td>\n",
       "      <td>South Bangalore</td>\n",
       "      <td>Self Employed Non Professional</td>\n",
       "      <td>Others</td>\n",
       "      <td>11.50</td>\n",
       "      <td>30</td>\n",
       "      <td>98000</td>\n",
       "      <td>565.0</td>\n",
       "      <td>NaN</td>\n",
       "      <td>NaN</td>\n",
       "      <td>NaN</td>\n",
       "    </tr>\n",
       "  </tbody>\n",
       "</table>\n",
       "<p>241889 rows × 32 columns</p>\n",
       "</div>"
      ],
      "text/plain": [
       "       APPLICATION_NUMBER           CIFNUMBER CUSTOMER_NUMBER  \\\n",
       "0            APPL00053183  GLBCUST00000046162    CUST00047706   \n",
       "1            APPL00045582  GLBCUST00000039525    CUST00040897   \n",
       "2            APPL00045746  GLBCUST00000039670    CUST00041047   \n",
       "3            APPL00049588  GLBCUST00000043044    CUST00044507   \n",
       "4            APPL00044448  GLBCUST00000038539    CUST00039882   \n",
       "...                   ...                 ...             ...   \n",
       "241884       APPL00109409  GLBCUST00000095605    CUST00098378   \n",
       "241885       APPL00235755  GLBCUST00000204351    CUST00210880   \n",
       "241886       APPL00130109  GLBCUST00000113822    CUST00117024   \n",
       "241887       APPL00199935  GLBCUST00000174126    CUST00179430   \n",
       "241888       APPL00187534  GLBCUST00000163389    CUST00168314   \n",
       "\n",
       "             Application Received Date         Product  \\\n",
       "0       17-02-22 09:14:55.878000000 PM  2 Wheeler Loan   \n",
       "1       10-01-22 12:35:16.738000000 PM  2 Wheeler Loan   \n",
       "2       11-01-22 11:56:22.212000000 AM  2 Wheeler Loan   \n",
       "3       31-01-22 12:56:42.989000000 PM  2 Wheeler Loan   \n",
       "4       03-01-22 01:47:17.077000000 PM  2 Wheeler Loan   \n",
       "...                                ...             ...   \n",
       "241884  08-10-22 01:05:40.334000000 PM  2 Wheeler Loan   \n",
       "241885  24-10-23 05:24:09.630000000 PM  2 Wheeler Loan   \n",
       "241886  07-12-22 03:05:58.124000000 PM  2 Wheeler Loan   \n",
       "241887  02-08-23 02:07:45.392000000 PM  2 Wheeler Loan   \n",
       "241888  22-06-23 01:50:34.369000000 PM  2 Wheeler Loan   \n",
       "\n",
       "                        Judgement date DECISION  \\\n",
       "0       28-02-22 07:24:02.284000000 PM  Approve   \n",
       "1       11-01-22 03:11:28.143000000 PM  Approve   \n",
       "2       11-01-22 12:20:59.868000000 PM  Approve   \n",
       "3       31-01-22 02:09:58.252000000 PM  Approve   \n",
       "4       03-01-22 02:32:45.828000000 PM  Approve   \n",
       "...                                ...      ...   \n",
       "241884  08-10-22 01:54:19.731000000 PM   Reject   \n",
       "241885  24-10-23 06:34:10.649000000 PM   Reject   \n",
       "241886  07-12-22 05:24:20.350000000 PM  Approve   \n",
       "241887  03-08-23 07:52:59.236000000 PM   Reject   \n",
       "241888  22-06-23 02:48:48.757000000 PM   Reject   \n",
       "\n",
       "                                  USER_COMMENT         loan_account_no  \\\n",
       "0       OVERDUE APPROVAL TAKEN FROM ARPITA SAN  TW01030103000002198214   \n",
       "1                                 NO TEST CODE  TW01020102000002194118   \n",
       "2                                 NO TEST CODE  TW01010101000002194294   \n",
       "3                                 NO TEST CODE  TW01020102000002195778   \n",
       "4                                 NO TEST CODE  TW01030102000002193651   \n",
       "...                                        ...                     ...   \n",
       "241884                           DUAL PAN CARD      nan_duplicate80372   \n",
       "241885                          Negative Cibil      nan_duplicate80373   \n",
       "241886                            no test code      nan_duplicate80374   \n",
       "241887                        EARLIER REJECTED      nan_duplicate80375   \n",
       "241888                          CIBIL Negative      nan_duplicate80376   \n",
       "\n",
       "       LOAN_SANCTIONED_DATE  ...       Branch Name  \\\n",
       "0                  28-02-22  ...        East Delhi   \n",
       "1                  11-01-22  ...   South Bangalore   \n",
       "2                  11-01-22  ...    Eastern Mumbai   \n",
       "3                  31-01-22  ...   South Bangalore   \n",
       "4                  03-01-22  ...       South Delhi   \n",
       "...                     ...  ...               ...   \n",
       "241884                  NaN  ...             Thane   \n",
       "241885                  NaN  ...             Virar   \n",
       "241886                  NaN  ...    Eastern Mumbai   \n",
       "241887                  NaN  ...  N Western Mumbai   \n",
       "241888                  NaN  ...   South Bangalore   \n",
       "\n",
       "                       Occupation Type  Industry  Sanctioned ROI  \\\n",
       "0       Self Employed Non Professional  Apparels           10.80   \n",
       "1                             Salaried    Others           10.80   \n",
       "2       Self Employed Non Professional  Apparels           10.80   \n",
       "3                             Salaried    Others           12.60   \n",
       "4                             Salaried    Others           11.88   \n",
       "...                                ...       ...             ...   \n",
       "241884  Self Employed Non Professional    Others           10.99   \n",
       "241885                        Salaried    Others           11.75   \n",
       "241886  Self Employed Non Professional    Others           11.29   \n",
       "241887                        Salaried    Others           11.75   \n",
       "241888  Self Employed Non Professional    Others           11.50   \n",
       "\n",
       "       Sanction Tenure Total Asset Cost CIBIL score  Unnamed: 29 Unnamed: 30  \\\n",
       "0                   18           106200       640.0          NaN         NaN   \n",
       "1                   30           101000       744.0          NaN         NaN   \n",
       "2                   36            90200       743.0          NaN         NaN   \n",
       "3                   24            84011       671.0          NaN         NaN   \n",
       "4                   18            61900        -1.0          NaN         NaN   \n",
       "...                ...              ...         ...          ...         ...   \n",
       "241884              36            99100       758.0          NaN         NaN   \n",
       "241885              36           126000       687.0          NaN         NaN   \n",
       "241886              24            92419       738.0          NaN         NaN   \n",
       "241887              24           141199        -1.0          NaN         NaN   \n",
       "241888              30            98000       565.0          NaN         NaN   \n",
       "\n",
       "       Unnamed: 31  \n",
       "0          80377.0  \n",
       "1              NaN  \n",
       "2              NaN  \n",
       "3              NaN  \n",
       "4              NaN  \n",
       "...            ...  \n",
       "241884         NaN  \n",
       "241885         NaN  \n",
       "241886         NaN  \n",
       "241887         NaN  \n",
       "241888         NaN  \n",
       "\n",
       "[241889 rows x 32 columns]"
      ]
     },
     "execution_count": 143,
     "metadata": {},
     "output_type": "execute_result"
    }
   ],
   "source": [
    "cleaning_df"
   ]
  },
  {
   "cell_type": "code",
   "execution_count": 140,
   "id": "92b65911-0a7f-47db-9ad0-1d646bdb8c5b",
   "metadata": {},
   "outputs": [
    {
     "data": {
      "text/plain": [
       "(56752, 22)"
      ]
     },
     "execution_count": 140,
     "metadata": {},
     "output_type": "execute_result"
    }
   ],
   "source": [
    "reduced_valid_new_data.shape"
   ]
  },
  {
   "cell_type": "code",
   "execution_count": 141,
   "id": "01bb5612-46b3-4ce5-a7c0-ad4400f3041c",
   "metadata": {},
   "outputs": [
    {
     "data": {
      "text/plain": [
       "(52179, 34)"
      ]
     },
     "execution_count": 141,
     "metadata": {},
     "output_type": "execute_result"
    }
   ],
   "source": [
    "adjusted_reduced_valid_base_data_old.shape"
   ]
  },
  {
   "cell_type": "code",
   "execution_count": 65,
   "id": "38b3f234-5a71-47c4-843e-de962896b2fd",
   "metadata": {},
   "outputs": [
    {
     "data": {
      "text/plain": [
       "125674     1\n",
       "156182     0\n",
       "216663    10\n",
       "Name: Years at Current City, dtype: int64"
      ]
     },
     "execution_count": 65,
     "metadata": {},
     "output_type": "execute_result"
    }
   ],
   "source": [
    "new_data[new_data.loan_account_no == 'TW01010107000002236997']['Years at Current City']"
   ]
  },
  {
   "cell_type": "code",
   "execution_count": 74,
   "id": "6cc02d17-267d-40f8-9c10-1c61b7fb83c0",
   "metadata": {},
   "outputs": [
    {
     "data": {
      "text/html": [
       "<div>\n",
       "<style scoped>\n",
       "    .dataframe tbody tr th:only-of-type {\n",
       "        vertical-align: middle;\n",
       "    }\n",
       "\n",
       "    .dataframe tbody tr th {\n",
       "        vertical-align: top;\n",
       "    }\n",
       "\n",
       "    .dataframe thead th {\n",
       "        text-align: right;\n",
       "    }\n",
       "</style>\n",
       "<table border=\"1\" class=\"dataframe\">\n",
       "  <thead>\n",
       "    <tr style=\"text-align: right;\">\n",
       "      <th></th>\n",
       "      <th>APPLICATION_NUMBER</th>\n",
       "      <th>CIFNUMBER</th>\n",
       "      <th>CUSTOMER_NUMBER</th>\n",
       "      <th>Application Received Date</th>\n",
       "      <th>Product</th>\n",
       "      <th>Judgement date</th>\n",
       "      <th>DECISION</th>\n",
       "      <th>USER_COMMENT</th>\n",
       "      <th>loan_account_no</th>\n",
       "      <th>LOAN_SANCTIONED_DATE</th>\n",
       "      <th>...</th>\n",
       "      <th>Branch Name</th>\n",
       "      <th>Occupation Type</th>\n",
       "      <th>Industry</th>\n",
       "      <th>Sanctioned ROI</th>\n",
       "      <th>Sanction Tenure</th>\n",
       "      <th>Total Asset Cost</th>\n",
       "      <th>CIBIL score</th>\n",
       "      <th>Unnamed: 29</th>\n",
       "      <th>Unnamed: 30</th>\n",
       "      <th>Unnamed: 31</th>\n",
       "    </tr>\n",
       "  </thead>\n",
       "  <tbody>\n",
       "    <tr>\n",
       "      <th>125674</th>\n",
       "      <td>APPL00150292</td>\n",
       "      <td>GLBCUST00000131198</td>\n",
       "      <td>CUST00135017</td>\n",
       "      <td>18-02-23 01:14:27.892000000 PM</td>\n",
       "      <td>2 Wheeler Loan</td>\n",
       "      <td>22-02-23 05:16:59.082000000 PM</td>\n",
       "      <td>Approve</td>\n",
       "      <td>No test code change in model and loan amount</td>\n",
       "      <td>TW01010107000002236997</td>\n",
       "      <td>22-02-23</td>\n",
       "      <td>...</td>\n",
       "      <td>Western Mumbai</td>\n",
       "      <td>Self Employed Non Professional</td>\n",
       "      <td>Apparels</td>\n",
       "      <td>11.29</td>\n",
       "      <td>24</td>\n",
       "      <td>102100</td>\n",
       "      <td>147.0</td>\n",
       "      <td>NaN</td>\n",
       "      <td>NaN</td>\n",
       "      <td>NaN</td>\n",
       "    </tr>\n",
       "    <tr>\n",
       "      <th>156182</th>\n",
       "      <td>APPL00150292</td>\n",
       "      <td>GLBCUST00000131198</td>\n",
       "      <td>CUST00135017</td>\n",
       "      <td>18-02-23 01:14:27.892000000 PM</td>\n",
       "      <td>2 Wheeler Loan</td>\n",
       "      <td>22-02-23 05:16:59.082000000 PM</td>\n",
       "      <td>Approve</td>\n",
       "      <td>No test code change in model and loan amount</td>\n",
       "      <td>TW01010107000002236997</td>\n",
       "      <td>22-02-23</td>\n",
       "      <td>...</td>\n",
       "      <td>Western Mumbai</td>\n",
       "      <td>Self Employed Non Professional</td>\n",
       "      <td>Apparels</td>\n",
       "      <td>11.29</td>\n",
       "      <td>24</td>\n",
       "      <td>102100</td>\n",
       "      <td>147.0</td>\n",
       "      <td>NaN</td>\n",
       "      <td>NaN</td>\n",
       "      <td>NaN</td>\n",
       "    </tr>\n",
       "    <tr>\n",
       "      <th>216663</th>\n",
       "      <td>APPL00150292</td>\n",
       "      <td>GLBCUST00000131198</td>\n",
       "      <td>CUST00135017</td>\n",
       "      <td>18-02-23 01:14:27.892000000 PM</td>\n",
       "      <td>2 Wheeler Loan</td>\n",
       "      <td>22-02-23 05:16:59.082000000 PM</td>\n",
       "      <td>Approve</td>\n",
       "      <td>No test code change in model and loan amount</td>\n",
       "      <td>TW01010107000002236997</td>\n",
       "      <td>22-02-23</td>\n",
       "      <td>...</td>\n",
       "      <td>Western Mumbai</td>\n",
       "      <td>Self Employed Non Professional</td>\n",
       "      <td>Apparels</td>\n",
       "      <td>11.29</td>\n",
       "      <td>24</td>\n",
       "      <td>102100</td>\n",
       "      <td>147.0</td>\n",
       "      <td>NaN</td>\n",
       "      <td>NaN</td>\n",
       "      <td>NaN</td>\n",
       "    </tr>\n",
       "  </tbody>\n",
       "</table>\n",
       "<p>3 rows × 32 columns</p>\n",
       "</div>"
      ],
      "text/plain": [
       "       APPLICATION_NUMBER           CIFNUMBER CUSTOMER_NUMBER  \\\n",
       "125674       APPL00150292  GLBCUST00000131198    CUST00135017   \n",
       "156182       APPL00150292  GLBCUST00000131198    CUST00135017   \n",
       "216663       APPL00150292  GLBCUST00000131198    CUST00135017   \n",
       "\n",
       "             Application Received Date         Product  \\\n",
       "125674  18-02-23 01:14:27.892000000 PM  2 Wheeler Loan   \n",
       "156182  18-02-23 01:14:27.892000000 PM  2 Wheeler Loan   \n",
       "216663  18-02-23 01:14:27.892000000 PM  2 Wheeler Loan   \n",
       "\n",
       "                        Judgement date DECISION  \\\n",
       "125674  22-02-23 05:16:59.082000000 PM  Approve   \n",
       "156182  22-02-23 05:16:59.082000000 PM  Approve   \n",
       "216663  22-02-23 05:16:59.082000000 PM  Approve   \n",
       "\n",
       "                                        USER_COMMENT         loan_account_no  \\\n",
       "125674  No test code change in model and loan amount  TW01010107000002236997   \n",
       "156182  No test code change in model and loan amount  TW01010107000002236997   \n",
       "216663  No test code change in model and loan amount  TW01010107000002236997   \n",
       "\n",
       "       LOAN_SANCTIONED_DATE  ...     Branch Name  \\\n",
       "125674             22-02-23  ...  Western Mumbai   \n",
       "156182             22-02-23  ...  Western Mumbai   \n",
       "216663             22-02-23  ...  Western Mumbai   \n",
       "\n",
       "                       Occupation Type  Industry  Sanctioned ROI  \\\n",
       "125674  Self Employed Non Professional  Apparels           11.29   \n",
       "156182  Self Employed Non Professional  Apparels           11.29   \n",
       "216663  Self Employed Non Professional  Apparels           11.29   \n",
       "\n",
       "       Sanction Tenure Total Asset Cost CIBIL score  Unnamed: 29 Unnamed: 30  \\\n",
       "125674              24           102100       147.0          NaN         NaN   \n",
       "156182              24           102100       147.0          NaN         NaN   \n",
       "216663              24           102100       147.0          NaN         NaN   \n",
       "\n",
       "       Unnamed: 31  \n",
       "125674         NaN  \n",
       "156182         NaN  \n",
       "216663         NaN  \n",
       "\n",
       "[3 rows x 32 columns]"
      ]
     },
     "execution_count": 74,
     "metadata": {},
     "output_type": "execute_result"
    }
   ],
   "source": [
    "new_data[new_data.loan_account_no == 'TW01010107000002236997']"
   ]
  },
  {
   "cell_type": "code",
   "execution_count": 68,
   "id": "2e913c27-7b85-4627-a892-cbcbfa282841",
   "metadata": {},
   "outputs": [
    {
     "data": {
      "text/plain": [
       "36558    1\n",
       "Name: res_years_at_current_city, dtype: int64"
      ]
     },
     "execution_count": 68,
     "metadata": {},
     "output_type": "execute_result"
    }
   ],
   "source": [
    "base_data_old[base_data_old.loan_account_no == 'TW01010107000002236997']['res_years_at_current_city']"
   ]
  },
  {
   "cell_type": "code",
   "execution_count": 5,
   "id": "80b84c9e-4151-4e68-8846-f67ff428d13c",
   "metadata": {},
   "outputs": [
    {
     "name": "stderr",
     "output_type": "stream",
     "text": [
      "C:\\Users\\emanlangit.AEONCREDIT\\AppData\\Local\\Temp\\ipykernel_22228\\1583221271.py:1: DtypeWarning: Columns (14,15,16,17,22,23) have mixed types. Specify dtype option on import or set low_memory=False.\n",
      "  valid_LAN_buckets = pd.read_csv(r\"C:\\Users\\emanlangit\\Documents\\2025\\00 ACSIN\\New Data\\Data_Req_2023_2024_input.csv\")\n"
     ]
    },
    {
     "data": {
      "text/plain": [
       "52197"
      ]
     },
     "execution_count": 5,
     "metadata": {},
     "output_type": "execute_result"
    }
   ],
   "source": [
    "valid_LAN_buckets = pd.read_csv(r\"C:\\Users\\emanlangit\\Documents\\2025\\00 ACSIN\\New Data\\Data_Req_2023_2024_input.csv\")\n",
    "valid_LAN_buckets.loan_account_no.nunique()"
   ]
  },
  {
   "cell_type": "code",
   "execution_count": 6,
   "id": "b341d9d3-a76a-4a37-ac4e-4c4703383f02",
   "metadata": {},
   "outputs": [
    {
     "name": "stdout",
     "output_type": "stream",
     "text": [
      "{'TW01010106000002278653', 'TW01030105000002271188', 'TW01030107000002284132', 'TW01010102000002270418', 'TW01010106000002268398', 'TW01030102000002281156', 'TW01030103000002278039', 'TW01020101000002279416', 'TW01030105000002283039', 'TW01020102000002279302', 'TW01020102000002279638', 'TW01030102000002271349', 'TW01030105000002287535', 'TW01010106000002278144', 'TW01020102000002289161', 'TW01010103000002258833', 'TW01030107000002270125', 'UT01020103000002274943'}\n"
     ]
    }
   ],
   "source": [
    "scm_LAN = set(new_data.loan_account_no.unique().tolist())\n",
    "valid_LAN = set(valid_LAN_buckets.loan_account_no.unique().tolist())\n",
    "\n",
    "diff = valid_LAN - scm_LAN\n",
    "print(diff)"
   ]
  },
  {
   "cell_type": "code",
   "execution_count": 74,
   "id": "adb97de8-08a9-4979-8128-ee336b022491",
   "metadata": {},
   "outputs": [
    {
     "data": {
      "text/plain": [
       "18"
      ]
     },
     "execution_count": 74,
     "metadata": {},
     "output_type": "execute_result"
    }
   ],
   "source": [
    "len(diff)"
   ]
  },
  {
   "cell_type": "code",
   "execution_count": 7,
   "id": "30cba013-30a7-49a0-bbd1-a7f67df6dee3",
   "metadata": {},
   "outputs": [],
   "source": [
    "missing_LANs = list(diff)"
   ]
  },
  {
   "cell_type": "code",
   "execution_count": 61,
   "id": "02c9141b-af40-4f9e-bd69-eeebbb56c487",
   "metadata": {},
   "outputs": [
    {
     "data": {
      "text/plain": [
       "['TW01010106000002278653',\n",
       " 'TW01030105000002271188',\n",
       " 'TW01030107000002284132',\n",
       " 'TW01010102000002270418',\n",
       " 'TW01010106000002268398',\n",
       " 'TW01030102000002281156',\n",
       " 'TW01030103000002278039',\n",
       " 'TW01020101000002279416',\n",
       " 'TW01030105000002283039',\n",
       " 'TW01020102000002279302',\n",
       " 'TW01020102000002279638',\n",
       " 'TW01030102000002271349',\n",
       " 'TW01030105000002287535',\n",
       " 'TW01010106000002278144',\n",
       " 'TW01020102000002289161',\n",
       " 'TW01010103000002258833',\n",
       " 'TW01030107000002270125',\n",
       " 'UT01020103000002274943']"
      ]
     },
     "execution_count": 61,
     "metadata": {},
     "output_type": "execute_result"
    }
   ],
   "source": [
    "missing_LANs"
   ]
  },
  {
   "cell_type": "code",
   "execution_count": 8,
   "id": "afaf0f26-61cd-47a1-9980-fec1614a972d",
   "metadata": {},
   "outputs": [
    {
     "data": {
      "text/plain": [
       "52179"
      ]
     },
     "execution_count": 8,
     "metadata": {},
     "output_type": "execute_result"
    }
   ],
   "source": [
    "52197 - 18 #there were 18 LANs not in the SCM data but were in the valid data"
   ]
  },
  {
   "cell_type": "code",
   "execution_count": 60,
   "id": "3624a152-1519-4305-82f9-ac4940a992d5",
   "metadata": {},
   "outputs": [
    {
     "data": {
      "text/html": [
       "<div>\n",
       "<style scoped>\n",
       "    .dataframe tbody tr th:only-of-type {\n",
       "        vertical-align: middle;\n",
       "    }\n",
       "\n",
       "    .dataframe tbody tr th {\n",
       "        vertical-align: top;\n",
       "    }\n",
       "\n",
       "    .dataframe thead th {\n",
       "        text-align: right;\n",
       "    }\n",
       "</style>\n",
       "<table border=\"1\" class=\"dataframe\">\n",
       "  <thead>\n",
       "    <tr style=\"text-align: right;\">\n",
       "      <th></th>\n",
       "      <th>loan_account_no</th>\n",
       "      <th>Mar'24</th>\n",
       "      <th>Apr'24</th>\n",
       "      <th>May'24</th>\n",
       "      <th>Jun'24</th>\n",
       "      <th>Jul'24</th>\n",
       "      <th>Aug'24</th>\n",
       "      <th>portfolio_report_date</th>\n",
       "      <th>product_category_id</th>\n",
       "      <th>product_type_id</th>\n",
       "      <th>...</th>\n",
       "      <th>repo_sold_amount</th>\n",
       "      <th>repo_release_amount</th>\n",
       "      <th>repo_release_date</th>\n",
       "      <th>mult_repo</th>\n",
       "      <th>repo_stock_status</th>\n",
       "      <th>writeoff_tag</th>\n",
       "      <th>write_off_date</th>\n",
       "      <th>reachD3</th>\n",
       "      <th>reachD4</th>\n",
       "      <th>dp_ratio</th>\n",
       "    </tr>\n",
       "  </thead>\n",
       "  <tbody>\n",
       "  </tbody>\n",
       "</table>\n",
       "<p>0 rows × 174 columns</p>\n",
       "</div>"
      ],
      "text/plain": [
       "Empty DataFrame\n",
       "Columns: [loan_account_no, Mar'24, Apr'24, May'24, Jun'24, Jul'24, Aug'24, portfolio_report_date, product_category_id, product_type_id, product_type, product_code, productid, product_description, hps_flag, mult_asset, asset_category, manufacturer, asset_model, dealer, branch_id, branch_name, channel, alternate_channel_mode, schemeid, scheme_description, loan_boarding_date, interest_start_date, loan_sanctioned_date, disbursal_date, last_disbursal_date, repayment_start_date, maturitydate, original_tenure, number_of_installments, loan_asset_cost, down_payment_amount, final_sanctioned_amount, disbursal_amount, adjusted_amount_at_disbursal, original_emi_amount, installment_amount, interest_type, effective_interest_rate, interest_rate, customer_interest_rate, last_mis_snapshot_date, effective_roi, disbursal_flag, grace_days, finance_mode, ltv, application_number, application_type, loan_application_date, approval_date, tat, requested_loan_amount, loan_purpose, bureau_score, mult_cibil, Age_Mini, MaxAge01, MaxAge02, LTVDPD01, LTVDPD2, LTVDPD3, LTVDPD4, CustDoc1, CIBIL_OD, negtArea, deviation_cnt, verification_waived, PerVeri_FieldVer, PerVeri_TelVer, ResiVeri_FieldVer, ResiVeri_TelVer, other_verification, identification_verification, address_verification, central_bank_check_verfication, other_checks, customer_risk_category, mult_kyc, ref_colleague, ref_parents_relatives, ref_friend, ref_trade_reference, ref_neighbor, ref_business_associate, total_reference, customer_no, res_city, res_state, res_years_at_current_address, res_years_at_current_city, res_resident_status, res_resident_type, res_primary_address, perm_city, ...]\n",
       "Index: []\n",
       "\n",
       "[0 rows x 174 columns]"
      ]
     },
     "execution_count": 60,
     "metadata": {},
     "output_type": "execute_result"
    }
   ],
   "source": [
    "base_data_old[base_data_old.loan_account_no == 'TW01010101000002305325']"
   ]
  },
  {
   "cell_type": "code",
   "execution_count": 9,
   "id": "4a6f1b1d-9782-4f03-b629-be58325e0980",
   "metadata": {},
   "outputs": [
    {
     "name": "stderr",
     "output_type": "stream",
     "text": [
      "C:\\Users\\emanlangit.AEONCREDIT\\AppData\\Local\\Temp\\ipykernel_22228\\2271076420.py:1: DtypeWarning: Columns (1,2,3,4,5,6,166,170) have mixed types. Specify dtype option on import or set low_memory=False.\n",
      "  base_data_old = pd.read_csv(r\"C:\\Users\\emanlangit\\Documents\\ACSIN\\01 ACSIN EDA\\Data\\BASE DATA FOR EDA_1.csv\")\n"
     ]
    }
   ],
   "source": [
    "base_data_old = pd.read_csv(r\"C:\\Users\\emanlangit\\Documents\\ACSIN\\01 ACSIN EDA\\Data\\BASE DATA FOR EDA_1.csv\")"
   ]
  },
  {
   "cell_type": "code",
   "execution_count": 10,
   "id": "b15ad714-6dfd-483f-9173-a5c072514fe5",
   "metadata": {},
   "outputs": [],
   "source": [
    "#merge valid LANs and new data\n",
    "valid_new_data = valid_LAN_buckets.merge(new_data,how='inner',on=['loan_account_no'])\n",
    "#drop duplicated loan_account_no\n",
    "#valid_new_data = valid_new_data.drop_duplicates(subset='loan_account_no')\n",
    "# Drop extra columns from merged DataFrame\n",
    "#valid_new_data = valid_new_data.drop(columns=['Unnamed: 29','Unnamed: 30','Unnamed: 31'])"
   ]
  },
  {
   "cell_type": "code",
   "execution_count": 11,
   "id": "b48aba51-d810-481a-b046-cb01456d0e89",
   "metadata": {},
   "outputs": [
    {
     "data": {
      "text/plain": [
       "52179"
      ]
     },
     "execution_count": 11,
     "metadata": {},
     "output_type": "execute_result"
    }
   ],
   "source": [
    "valid_new_data.loan_account_no.nunique()"
   ]
  },
  {
   "cell_type": "code",
   "execution_count": 12,
   "id": "5e61fdca-21a5-468b-99f7-51d99227dac9",
   "metadata": {},
   "outputs": [],
   "source": [
    "#valid_new_data.columns\n",
    "necessary_cols = ['loan_account_no','APPLICATION_NUMBER', 'CUSTOMER_NUMBER',\n",
    "                 'Product','LOAN_AMOUNT','ORIGINAL_EMI_AMOUNT','Years at Current City',\n",
    "                 'Resident Status', 'City', 'State', 'AGE', 'DATE_OF_BIRTH', 'Manufacturer',\n",
    "                  'Down Payment Amount', 'Total Income', 'Branch Name', 'Occupation Type',\n",
    "                  'Industry','Sanctioned ROI', 'Sanction Tenure', 'Total Asset Cost',\n",
    "                  'CIBIL score']\n",
    "reduced_valid_new_data = valid_new_data[necessary_cols]"
   ]
  },
  {
   "cell_type": "code",
   "execution_count": 13,
   "id": "5b86742a-ad54-4dd5-8bf1-19cc8c498ee0",
   "metadata": {},
   "outputs": [],
   "source": [
    "#base_data_old.columns.tolist()"
   ]
  },
  {
   "cell_type": "code",
   "execution_count": 14,
   "id": "cb5e1034-82c4-4084-814c-9e6218252f5a",
   "metadata": {},
   "outputs": [],
   "source": [
    "requested_cols = ['application_number', 'customer_no', 'product_description',\n",
    "                 'loan_account_no', 'requested_loan_amount', 'original_emi_amount',\n",
    "                 'res_years_at_current_city', 'res_resident_status','res_city',\n",
    "                 'res_state', 'age', 'date_of_birth', 'manufacturer', 'down_payment_amount',\n",
    "                 'total_income', 'branch_name', 'occupation_type', 'industry', 'interest_rate',\n",
    "                 'number_of_installments', 'loan_asset_cost', 'bureau_score', 'asset_category',\n",
    "                 'asset_model', 'dealer', 'branch_id', 'channel', 'final_sanctioned_amount',\n",
    "                 'disbursal_amount', 'res_years_at_current_address', 'gender', 'marital_status',\n",
    "                 'nature_of_business', 'years_in_occupation']\n",
    "#merge valid LANs and new data\n",
    "valid_base_data_old = valid_LAN_buckets.merge(base_data_old,how='inner',on=['loan_account_no'])\n",
    "#drop duplicated loan_account_no\n",
    "valid_base_data_old = valid_base_data_old.drop_duplicates(subset='loan_account_no')\n",
    "reduced_valid_base_data_old = valid_base_data_old[requested_cols]"
   ]
  },
  {
   "cell_type": "code",
   "execution_count": 15,
   "id": "9c4f553d-a7da-4bcd-bed8-9b18656d56d6",
   "metadata": {},
   "outputs": [],
   "source": [
    "adjusted_reduced_valid_base_data_old = reduced_valid_base_data_old[~reduced_valid_base_data_old['loan_account_no'].isin(missing_LANs)]"
   ]
  },
  {
   "cell_type": "code",
   "execution_count": 16,
   "id": "0ea866da-491f-47c3-b8ea-ee2604c35321",
   "metadata": {},
   "outputs": [
    {
     "data": {
      "text/plain": [
       "52179"
      ]
     },
     "execution_count": 16,
     "metadata": {},
     "output_type": "execute_result"
    }
   ],
   "source": [
    "adjusted_reduced_valid_base_data_old.loan_account_no.nunique()"
   ]
  },
  {
   "cell_type": "code",
   "execution_count": 26,
   "id": "1c7a4b57-8cf6-4e88-874f-b2ec03cbb4fb",
   "metadata": {},
   "outputs": [],
   "source": [
    "# new_var = APPLICATION_NUMBER\n",
    "# old_var = application_number\n",
    "\n",
    "# new_var_set = set(reduced_valid_new_data[new_var].tolist())\n",
    "# base_var_set = set(reduced_base_data_old[old_var].tolist())"
   ]
  },
  {
   "cell_type": "code",
   "execution_count": 27,
   "id": "9e84828e-1da3-4943-a448-6d6917195a25",
   "metadata": {},
   "outputs": [],
   "source": [
    "# instersection = new_var_set.intersection(base_var_set)\n",
    "# len(instersection)\n",
    "#should be 52179"
   ]
  },
  {
   "cell_type": "code",
   "execution_count": 20,
   "id": "a9e9d4b0-b509-4ee0-8cf8-88bfde2cc0f1",
   "metadata": {},
   "outputs": [
    {
     "name": "stdout",
     "output_type": "stream",
     "text": [
      "False\n"
     ]
    }
   ],
   "source": [
    "new_var = 'Years at Current City'\n",
    "old_var = 'res_years_at_current_city'\n",
    "\n",
    "compare1 = ['loan_account_no', new_var]\n",
    "compare2 = ['loan_account_no', old_var]\n",
    "c1 = reduced_valid_new_data[compare1]\n",
    "#c1.rename(columns={'APPLICATION_NUMBER': 'application_number'}, inplace=True)\n",
    "c2 = adjusted_reduced_valid_base_data_old[compare2]\n",
    "#optional\n",
    "#replace_dict = {'2 Wheeler Loan': 'Two-Wheeler', 'Used Two Wheeler Loan': 'Used Two-Wheeler'}\n",
    "#c1[new_var] = c1[new_var].replace(replace_dict)\n",
    "\n",
    "set1 = set(zip(c1['loan_account_no'], c1[new_var]))\n",
    "set2 = set(zip(c2['loan_account_no'], c2[old_var]))\n",
    "are_equal = set1 == set2\n",
    "print(are_equal)"
   ]
  },
  {
   "cell_type": "code",
   "execution_count": 18,
   "id": "633b5ee1-63ae-4b26-a308-97141dd9f5fa",
   "metadata": {},
   "outputs": [],
   "source": [
    "# c1[new_var].unique()\n",
    "# c2[old_var].unique()"
   ]
  },
  {
   "cell_type": "code",
   "execution_count": null,
   "id": "4ace764d-4015-47ea-8597-db9b1e51323d",
   "metadata": {},
   "outputs": [],
   "source": []
  },
  {
   "cell_type": "code",
   "execution_count": 21,
   "id": "b0548b4b-3997-473b-b176-5972afaae4e5",
   "metadata": {},
   "outputs": [
    {
     "data": {
      "text/plain": [
       "3631"
      ]
     },
     "execution_count": 21,
     "metadata": {},
     "output_type": "execute_result"
    }
   ],
   "source": [
    "len(set1 - set2) #1847"
   ]
  },
  {
   "cell_type": "code",
   "execution_count": 23,
   "id": "7c319dd9-082e-47ee-b281-0251d7096ae2",
   "metadata": {},
   "outputs": [
    {
     "data": {
      "text/plain": [
       "3631"
      ]
     },
     "execution_count": 23,
     "metadata": {},
     "output_type": "execute_result"
    }
   ],
   "source": [
    "len(set1 - set2)"
   ]
  },
  {
   "cell_type": "code",
   "execution_count": 27,
   "id": "d2bbe3ee-2a54-4da0-8ab4-9dc41170818c",
   "metadata": {},
   "outputs": [],
   "source": [
    "do = adjusted_reduced_valid_base_data_old[['loan_account_no', 'res_years_at_current_city']]"
   ]
  },
  {
   "cell_type": "code",
   "execution_count": 28,
   "id": "1f176f6f-d269-4f92-a490-148b18ef7c2d",
   "metadata": {},
   "outputs": [],
   "source": [
    "re = reduced_valid_new_data[['loan_account_no', 'Years at Current City']]"
   ]
  },
  {
   "cell_type": "code",
   "execution_count": 29,
   "id": "2ab19ecb-2176-4603-a0c8-dc5cc98deb31",
   "metadata": {},
   "outputs": [],
   "source": [
    "merged_do_re= do.merge(re,how='inner',on=['loan_account_no'])"
   ]
  },
  {
   "cell_type": "code",
   "execution_count": 32,
   "id": "0cf555c9-1cf8-42d0-837f-878be72b5cf3",
   "metadata": {},
   "outputs": [
    {
     "data": {
      "text/html": [
       "<div>\n",
       "<style scoped>\n",
       "    .dataframe tbody tr th:only-of-type {\n",
       "        vertical-align: middle;\n",
       "    }\n",
       "\n",
       "    .dataframe tbody tr th {\n",
       "        vertical-align: top;\n",
       "    }\n",
       "\n",
       "    .dataframe thead th {\n",
       "        text-align: right;\n",
       "    }\n",
       "</style>\n",
       "<table border=\"1\" class=\"dataframe\">\n",
       "  <thead>\n",
       "    <tr style=\"text-align: right;\">\n",
       "      <th></th>\n",
       "      <th>loan_account_no</th>\n",
       "      <th>res_years_at_current_city</th>\n",
       "      <th>Years at Current City</th>\n",
       "    </tr>\n",
       "  </thead>\n",
       "  <tbody>\n",
       "    <tr>\n",
       "      <th>17</th>\n",
       "      <td>TW01010101000002245739</td>\n",
       "      <td>23</td>\n",
       "      <td>0</td>\n",
       "    </tr>\n",
       "    <tr>\n",
       "      <th>25</th>\n",
       "      <td>TW01030104000002242640</td>\n",
       "      <td>1</td>\n",
       "      <td>18</td>\n",
       "    </tr>\n",
       "    <tr>\n",
       "      <th>28</th>\n",
       "      <td>TW01010101000002242133</td>\n",
       "      <td>22</td>\n",
       "      <td>0</td>\n",
       "    </tr>\n",
       "    <tr>\n",
       "      <th>53</th>\n",
       "      <td>TW01010101000002233078</td>\n",
       "      <td>23</td>\n",
       "      <td>0</td>\n",
       "    </tr>\n",
       "    <tr>\n",
       "      <th>56</th>\n",
       "      <td>TW01020103000002230973</td>\n",
       "      <td>8</td>\n",
       "      <td>26</td>\n",
       "    </tr>\n",
       "    <tr>\n",
       "      <th>...</th>\n",
       "      <td>...</td>\n",
       "      <td>...</td>\n",
       "      <td>...</td>\n",
       "    </tr>\n",
       "    <tr>\n",
       "      <th>56685</th>\n",
       "      <td>TW01020102000002276238</td>\n",
       "      <td>5</td>\n",
       "      <td>21</td>\n",
       "    </tr>\n",
       "    <tr>\n",
       "      <th>56700</th>\n",
       "      <td>TW01020102000002276605</td>\n",
       "      <td>5</td>\n",
       "      <td>0</td>\n",
       "    </tr>\n",
       "    <tr>\n",
       "      <th>56702</th>\n",
       "      <td>TW01010101000002276225</td>\n",
       "      <td>22</td>\n",
       "      <td>0</td>\n",
       "    </tr>\n",
       "    <tr>\n",
       "      <th>56709</th>\n",
       "      <td>TW01010101000002276804</td>\n",
       "      <td>23</td>\n",
       "      <td>0</td>\n",
       "    </tr>\n",
       "    <tr>\n",
       "      <th>56720</th>\n",
       "      <td>TW01020102000002277204</td>\n",
       "      <td>4</td>\n",
       "      <td>0</td>\n",
       "    </tr>\n",
       "  </tbody>\n",
       "</table>\n",
       "<p>3632 rows × 3 columns</p>\n",
       "</div>"
      ],
      "text/plain": [
       "              loan_account_no  res_years_at_current_city  \\\n",
       "17     TW01010101000002245739                         23   \n",
       "25     TW01030104000002242640                          1   \n",
       "28     TW01010101000002242133                         22   \n",
       "53     TW01010101000002233078                         23   \n",
       "56     TW01020103000002230973                          8   \n",
       "...                       ...                        ...   \n",
       "56685  TW01020102000002276238                          5   \n",
       "56700  TW01020102000002276605                          5   \n",
       "56702  TW01010101000002276225                         22   \n",
       "56709  TW01010101000002276804                         23   \n",
       "56720  TW01020102000002277204                          4   \n",
       "\n",
       "       Years at Current City  \n",
       "17                         0  \n",
       "25                        18  \n",
       "28                         0  \n",
       "53                         0  \n",
       "56                        26  \n",
       "...                      ...  \n",
       "56685                     21  \n",
       "56700                      0  \n",
       "56702                      0  \n",
       "56709                      0  \n",
       "56720                      0  \n",
       "\n",
       "[3632 rows x 3 columns]"
      ]
     },
     "execution_count": 32,
     "metadata": {},
     "output_type": "execute_result"
    }
   ],
   "source": [
    "merged_do_re[merged_do_re['Years at Current City'] != merged_do_re['res_years_at_current_city']]"
   ]
  },
  {
   "cell_type": "code",
   "execution_count": 35,
   "id": "650b028b-e9a2-4fba-8ed8-0a7489d2f9a6",
   "metadata": {},
   "outputs": [
    {
     "data": {
      "text/html": [
       "<div>\n",
       "<style scoped>\n",
       "    .dataframe tbody tr th:only-of-type {\n",
       "        vertical-align: middle;\n",
       "    }\n",
       "\n",
       "    .dataframe tbody tr th {\n",
       "        vertical-align: top;\n",
       "    }\n",
       "\n",
       "    .dataframe thead th {\n",
       "        text-align: right;\n",
       "    }\n",
       "</style>\n",
       "<table border=\"1\" class=\"dataframe\">\n",
       "  <thead>\n",
       "    <tr style=\"text-align: right;\">\n",
       "      <th></th>\n",
       "      <th>loan_account_no</th>\n",
       "      <th>res_years_at_current_city</th>\n",
       "    </tr>\n",
       "  </thead>\n",
       "  <tbody>\n",
       "    <tr>\n",
       "      <th>0</th>\n",
       "      <td>TW01010102000002232820</td>\n",
       "      <td>50</td>\n",
       "    </tr>\n",
       "    <tr>\n",
       "      <th>1</th>\n",
       "      <td>TW01010105000002234218</td>\n",
       "      <td>0</td>\n",
       "    </tr>\n",
       "    <tr>\n",
       "      <th>2</th>\n",
       "      <td>TW01010103000002238104</td>\n",
       "      <td>23</td>\n",
       "    </tr>\n",
       "    <tr>\n",
       "      <th>3</th>\n",
       "      <td>TW01010101000002233090</td>\n",
       "      <td>10</td>\n",
       "    </tr>\n",
       "    <tr>\n",
       "      <th>4</th>\n",
       "      <td>UT01030105000002236675</td>\n",
       "      <td>20</td>\n",
       "    </tr>\n",
       "    <tr>\n",
       "      <th>...</th>\n",
       "      <td>...</td>\n",
       "      <td>...</td>\n",
       "    </tr>\n",
       "    <tr>\n",
       "      <th>52192</th>\n",
       "      <td>TW01020102000002280426</td>\n",
       "      <td>10</td>\n",
       "    </tr>\n",
       "    <tr>\n",
       "      <th>52193</th>\n",
       "      <td>TW01020103000002281621</td>\n",
       "      <td>10</td>\n",
       "    </tr>\n",
       "    <tr>\n",
       "      <th>52194</th>\n",
       "      <td>TW01010107000002248785</td>\n",
       "      <td>0</td>\n",
       "    </tr>\n",
       "    <tr>\n",
       "      <th>52195</th>\n",
       "      <td>TW01010105000002284748</td>\n",
       "      <td>0</td>\n",
       "    </tr>\n",
       "    <tr>\n",
       "      <th>52196</th>\n",
       "      <td>UT01010105000002286094</td>\n",
       "      <td>0</td>\n",
       "    </tr>\n",
       "  </tbody>\n",
       "</table>\n",
       "<p>52179 rows × 2 columns</p>\n",
       "</div>"
      ],
      "text/plain": [
       "              loan_account_no  res_years_at_current_city\n",
       "0      TW01010102000002232820                         50\n",
       "1      TW01010105000002234218                          0\n",
       "2      TW01010103000002238104                         23\n",
       "3      TW01010101000002233090                         10\n",
       "4      UT01030105000002236675                         20\n",
       "...                       ...                        ...\n",
       "52192  TW01020102000002280426                         10\n",
       "52193  TW01020103000002281621                         10\n",
       "52194  TW01010107000002248785                          0\n",
       "52195  TW01010105000002284748                          0\n",
       "52196  UT01010105000002286094                          0\n",
       "\n",
       "[52179 rows x 2 columns]"
      ]
     },
     "execution_count": 35,
     "metadata": {},
     "output_type": "execute_result"
    }
   ],
   "source": [
    "adjusted_reduced_valid_base_data_old[['loan_account_no', 'res_years_at_current_city']]"
   ]
  },
  {
   "cell_type": "code",
   "execution_count": null,
   "id": "79338da9-05cc-4c3c-87f0-02554c71bc27",
   "metadata": {},
   "outputs": [],
   "source": []
  }
 ],
 "metadata": {
  "kernelspec": {
   "display_name": "Python 3 (ipykernel)",
   "language": "python",
   "name": "python3"
  },
  "language_info": {
   "codemirror_mode": {
    "name": "ipython",
    "version": 3
   },
   "file_extension": ".py",
   "mimetype": "text/x-python",
   "name": "python",
   "nbconvert_exporter": "python",
   "pygments_lexer": "ipython3",
   "version": "3.12.2"
  }
 },
 "nbformat": 4,
 "nbformat_minor": 5
}
