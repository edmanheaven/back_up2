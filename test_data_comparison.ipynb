{
 "cells": [
  {
   "cell_type": "code",
   "execution_count": 1,
   "id": "2fa57f9e-4366-4c25-b8a9-b020d2928ca2",
   "metadata": {},
   "outputs": [],
   "source": [
    "import pandas as pd\n",
    "import numpy as np"
   ]
  },
  {
   "cell_type": "code",
   "execution_count": 2,
   "id": "2389e959-de6f-43b0-8643-7638d7169d18",
   "metadata": {},
   "outputs": [],
   "source": [
    "data_filepath = r\"C:\\Users\\emanlangit\\Documents\\2025\\00 ACSIN\\New Data\\SCM_Data_21-02-25_Rev_1.28_input.csv\"\n",
    "Jan_test_df = pd.read_csv(data_filepath, delimiter = \",\", low_memory=False)"
   ]
  },
  {
   "cell_type": "code",
   "execution_count": 4,
   "id": "2b34f975-7930-4aa0-9ef8-270be5647566",
   "metadata": {},
   "outputs": [],
   "source": [
    "data_filepath = r\"C:\\Users\\emanlangit.AEONCREDIT\\OneDrive - AEON Credit Service Systems (Philippines), Inc\\Desktop\\misc\\Copy of Test Cases New_Jan'24Feb'24_Rev.csv\"\n",
    "Dec_test_df = pd.read_csv(data_filepath, delimiter = \",\", low_memory=False)"
   ]
  },
  {
   "cell_type": "code",
   "execution_count": 6,
   "id": "18d545a8-feb5-46b9-bfb2-ee9bf7018989",
   "metadata": {},
   "outputs": [
    {
     "data": {
      "text/plain": [
       "Index(['bureau_score', 'down_payment_amount', 'branch_name',\n",
       "       'disbursal_amount', 'requested_loan_amount', 'loan_asset_cost',\n",
       "       'final_sanctioned_amount', 'original_emi_amount', 'age',\n",
       "       'number_of_installments', 'res_city', 'res_state', 'total_income',\n",
       "       'product_description', 'industry', 'marital_status', 'manufacturer',\n",
       "       'occupation_type', 'res_resident_status', 'loan_account_no',\n",
       "       'loan_application_date', 'D3_within12months'],\n",
       "      dtype='object')"
      ]
     },
     "execution_count": 6,
     "metadata": {},
     "output_type": "execute_result"
    }
   ],
   "source": [
    "Dec_test_df.columns"
   ]
  },
  {
   "cell_type": "code",
   "execution_count": 16,
   "id": "7d2555a6-714b-4235-af4c-53d8cf4db0ef",
   "metadata": {},
   "outputs": [
    {
     "data": {
      "text/plain": [
       "product_description\n",
       "TWO-WHEELER    8885\n",
       "Name: count, dtype: int64"
      ]
     },
     "execution_count": 16,
     "metadata": {},
     "output_type": "execute_result"
    }
   ],
   "source": []
  },
  {
   "cell_type": "code",
   "execution_count": 8,
   "id": "3099063d-faa7-4792-b23d-5ee9d0b29502",
   "metadata": {},
   "outputs": [
    {
     "data": {
      "text/plain": [
       "Index(['loan_account_no', 'APPLICATION_NUMBER', 'CIFNUMBER', 'CUSTOMER_NUMBER',\n",
       "       'Application Received Date', 'product_description', 'Judgement date',\n",
       "       'DECISION', 'USER_COMMENT', 'LOAN_ACCOUNT_NO_og',\n",
       "       'LOAN_SANCTIONED_DATE', 'LOAN_AMOUNT', 'DISBURSAL_DATE',\n",
       "       'LOAN_ASSET_COST', 'number_of_installments', 'Channel',\n",
       "       'ORIGINAL_EMI_AMOUNT', 'interest_rate', 'res_Years_at_Current_City',\n",
       "       'Years_in_Occupation', 'res_Years_at_Current_Address',\n",
       "       'res_Resident_Status', 'res_City', 'res_State', 'AGE', 'DATE_OF_BIRTH',\n",
       "       'Gender', 'Manufacturer', 'Down_Payment_Amount', 'Asset_Model',\n",
       "       'Dealer', 'Total_Income', 'Branch_Name', 'Occupation_Type', 'Industry',\n",
       "       'Marital_Status', 'Nature_Of_Business', 'Loan Amount Requested',\n",
       "       'bureau_score', 'D3_within12months'],\n",
       "      dtype='object')"
      ]
     },
     "execution_count": 8,
     "metadata": {},
     "output_type": "execute_result"
    }
   ],
   "source": [
    "Jan_test_df.columns"
   ]
  },
  {
   "cell_type": "code",
   "execution_count": 26,
   "id": "c7f6fd07-2b71-4af1-9aad-47d25ebb3981",
   "metadata": {},
   "outputs": [],
   "source": [
    "Jan_test_df.shape\n",
    "Jan_reduced = Jan_test_df.copy()"
   ]
  },
  {
   "cell_type": "code",
   "execution_count": 29,
   "id": "a58231e5-7421-4329-9b8c-036be9e46f11",
   "metadata": {},
   "outputs": [
    {
     "data": {
      "text/plain": [
       "product_description\n",
       "2 Wheeler Loan           17484\n",
       "Used Two Wheeler Loan     1117\n",
       "E - Bike                    14\n",
       "Used Car                     8\n",
       "Name: count, dtype: int64"
      ]
     },
     "execution_count": 29,
     "metadata": {},
     "output_type": "execute_result"
    }
   ],
   "source": [
    "Jan_test_df.product_description.value_counts()"
   ]
  },
  {
   "cell_type": "code",
   "execution_count": 36,
   "id": "c5404689-3b2f-45c6-9750-4d25c83c3297",
   "metadata": {},
   "outputs": [
    {
     "data": {
      "text/plain": [
       "(17484, 40)"
      ]
     },
     "execution_count": 36,
     "metadata": {},
     "output_type": "execute_result"
    }
   ],
   "source": [
    "Jan_reduced1 = Jan_reduced[Jan_reduced.product_description == \"2 Wheeler Loan\"]\n",
    "Jan_reduced1.shape"
   ]
  },
  {
   "cell_type": "code",
   "execution_count": 37,
   "id": "25450d70-0edb-4b4a-9337-7a400362028f",
   "metadata": {},
   "outputs": [
    {
     "name": "stdout",
     "output_type": "stream",
     "text": [
      "1139\n"
     ]
    }
   ],
   "source": [
    "non_TW = 1117 + 14 +8\n",
    "print(non_TW)"
   ]
  },
  {
   "cell_type": "code",
   "execution_count": 42,
   "id": "b8b5e687-6f27-44d9-9005-865c615c8bfa",
   "metadata": {},
   "outputs": [
    {
     "data": {
      "text/plain": [
       "6760"
      ]
     },
     "execution_count": 42,
     "metadata": {},
     "output_type": "execute_result"
    }
   ],
   "source": [
    "Jan_reduced1['LOAN_ACCOUNT_NO_og'].isnull().sum()"
   ]
  },
  {
   "cell_type": "code",
   "execution_count": 43,
   "id": "5d7c8160-d272-4f71-ba64-999d59c44bcc",
   "metadata": {},
   "outputs": [
    {
     "data": {
      "text/plain": [
       "10724"
      ]
     },
     "execution_count": 43,
     "metadata": {},
     "output_type": "execute_result"
    }
   ],
   "source": [
    "17484 - 6760"
   ]
  },
  {
   "cell_type": "code",
   "execution_count": 44,
   "id": "a231e376-f613-4bd3-9d36-53c324383776",
   "metadata": {},
   "outputs": [
    {
     "data": {
      "text/plain": [
       "(10724, 40)"
      ]
     },
     "execution_count": 44,
     "metadata": {},
     "output_type": "execute_result"
    }
   ],
   "source": [
    "Jan_reduced2 = Jan_reduced1.dropna(subset = ['LOAN_ACCOUNT_NO_og'])\n",
    "Jan_reduced2.shape"
   ]
  },
  {
   "cell_type": "code",
   "execution_count": 45,
   "id": "02cddf2f-cad7-4160-a53f-222bfdd32cc0",
   "metadata": {},
   "outputs": [],
   "source": [
    "duplicated_A = Jan_reduced2.duplicated(subset='LOAN_ACCOUNT_NO_og', keep =False)\n",
    "duplicated_A.sum()"
   ]
  },
  {
   "cell_type": "code",
   "execution_count": 48,
   "id": "7d53c5a2-49dd-4896-aeba-0abfffb53634",
   "metadata": {},
   "outputs": [],
   "source": [
    "Jan_reduced3 = Jan_reduced2[~duplicated_A]"
   ]
  },
  {
   "cell_type": "code",
   "execution_count": 49,
   "id": "9f213338-e1c9-4ff3-b99b-87f5ba1c99ea",
   "metadata": {},
   "outputs": [
    {
     "data": {
      "text/plain": [
       "(6928, 40)"
      ]
     },
     "execution_count": 49,
     "metadata": {},
     "output_type": "execute_result"
    }
   ],
   "source": [
    "Jan_reduced3.shape"
   ]
  },
  {
   "cell_type": "code",
   "execution_count": 64,
   "id": "2398a34d-0a7b-4325-9a06-de4ae2e78f83",
   "metadata": {},
   "outputs": [
    {
     "data": {
      "text/plain": [
       "array(['TW01010101000002287379', 'TW01010107000002289052',\n",
       "       'TW01010106000002290584', ..., 'TW01010103000002288457',\n",
       "       'TW01010103000002292968', 'TW01010105000002306301'], dtype=object)"
      ]
     },
     "execution_count": 64,
     "metadata": {},
     "output_type": "execute_result"
    }
   ],
   "source": [
    "Jan_reduced3.LOAN_ACCOUNT_NO_og.unique()"
   ]
  },
  {
   "cell_type": "code",
   "execution_count": 101,
   "id": "3fd92ca7-e9c3-4d67-bd12-624f8b98983a",
   "metadata": {},
   "outputs": [],
   "source": [
    "Jan_LANs = set(Jan_reduced3.LOAN_ACCOUNT_NO_og.unique())\n",
    "Jan_LANs_dupped = set(Jan_test_df.LOAN_ACCOUNT_NO_og.unique())"
   ]
  },
  {
   "cell_type": "markdown",
   "id": "28768496-1f00-492b-b992-d20caeec8e36",
   "metadata": {},
   "source": [
    "### End of Jan Test screening"
   ]
  },
  {
   "cell_type": "markdown",
   "id": "2cdf16b5-5d26-4d31-8ed6-6ebd40cc2a2e",
   "metadata": {},
   "source": [
    "### Start of Dec Test screening"
   ]
  },
  {
   "cell_type": "code",
   "execution_count": 47,
   "id": "49df6224-1ce5-429c-9373-1a38001e013a",
   "metadata": {},
   "outputs": [
    {
     "data": {
      "text/plain": [
       "(8885, 22)"
      ]
     },
     "execution_count": 47,
     "metadata": {},
     "output_type": "execute_result"
    }
   ],
   "source": [
    "Dec_test_df.shape"
   ]
  },
  {
   "cell_type": "code",
   "execution_count": 50,
   "id": "4be67b38-f771-45a0-9914-2bc94f054a26",
   "metadata": {},
   "outputs": [
    {
     "data": {
      "text/plain": [
       "product_description\n",
       "TWO-WHEELER    8885\n",
       "Name: count, dtype: int64"
      ]
     },
     "execution_count": 50,
     "metadata": {},
     "output_type": "execute_result"
    }
   ],
   "source": [
    "Dec_test_df.product_description.value_counts()"
   ]
  },
  {
   "cell_type": "code",
   "execution_count": 52,
   "id": "9806acd9-d45e-4318-affa-d5e3b0825088",
   "metadata": {},
   "outputs": [
    {
     "data": {
      "text/plain": [
       "0"
      ]
     },
     "execution_count": 52,
     "metadata": {},
     "output_type": "execute_result"
    }
   ],
   "source": [
    "Dec_test_df['loan_account_no'].isnull().sum()"
   ]
  },
  {
   "cell_type": "code",
   "execution_count": 53,
   "id": "f1ec203a-ed52-4de5-9084-e2cbb942cd19",
   "metadata": {},
   "outputs": [
    {
     "data": {
      "text/plain": [
       "8885"
      ]
     },
     "execution_count": 53,
     "metadata": {},
     "output_type": "execute_result"
    }
   ],
   "source": [
    "Dec_test_df['loan_account_no'].nunique()"
   ]
  },
  {
   "cell_type": "code",
   "execution_count": 54,
   "id": "8d384527-d6d2-4995-935b-dea6e9c6a741",
   "metadata": {},
   "outputs": [
    {
     "data": {
      "text/plain": [
       "0"
      ]
     },
     "execution_count": 54,
     "metadata": {},
     "output_type": "execute_result"
    }
   ],
   "source": [
    "duplicated_B = Dec_test_df.duplicated(subset='loan_account_no', keep =False)\n",
    "duplicated_B.sum()"
   ]
  },
  {
   "cell_type": "code",
   "execution_count": 13,
   "id": "b236bcc1-a86f-4c83-b3b7-ffca1b17516d",
   "metadata": {},
   "outputs": [],
   "source": [
    "#duplicates = Jan_test_df[duplicated_A] #1915 duplicated LANs"
   ]
  },
  {
   "cell_type": "code",
   "execution_count": 71,
   "id": "fea5a676-4211-418f-b4e9-e2215518a71b",
   "metadata": {},
   "outputs": [],
   "source": [
    "Dec_LANs = set(Dec_test_df.loan_account_no.unique())"
   ]
  },
  {
   "cell_type": "code",
   "execution_count": 102,
   "id": "f5e952ad-f00a-4363-bfec-c966332ee50b",
   "metadata": {},
   "outputs": [],
   "source": [
    "Dec_unique_LAN = Dec_LANs - Jan_LANs\n",
    "Dec_unique_LAN_dupped = Dec_LANs - Jan_LANs_dupped\n",
    "Jan_unique_LAN = Jan_LANs - Dec_LANs\n",
    "Jan_unique_LAN_dupped = Jan_LANs_dupped - Dec_LANs\n",
    "unique_LANs_intersection = Dec_LANs.intersection(Jan_LANs)\n",
    "dupped_LANs_intersection = Dec_LANs.intersection(Jan_LANs_dupped)"
   ]
  },
  {
   "cell_type": "code",
   "execution_count": 103,
   "id": "9fef8629-2d00-4291-b858-a42e6bb01449",
   "metadata": {},
   "outputs": [
    {
     "name": "stdout",
     "output_type": "stream",
     "text": [
      "unique: 6587\n",
      "duplicated: 8154\n"
     ]
    }
   ],
   "source": [
    "print(f'unique: {len(unique_LANs_intersection)}')\n",
    "print(f'duplicated: {len(dupped_LANs_intersection)}')"
   ]
  },
  {
   "cell_type": "code",
   "execution_count": 79,
   "id": "fcda4617-7227-4647-a736-cd144948b480",
   "metadata": {},
   "outputs": [],
   "source": [
    "set1 = set([\"a\",\"b\",\"c\",\"d\",\"e\"])\n",
    "set2 = set([\"a\",\"d\",\"e\",\"f\",\"g\",\"h\"])\n",
    "\n",
    "s1_unique = set1 - set2\n",
    "s2_unique = set2 - set1"
   ]
  },
  {
   "cell_type": "code",
   "execution_count": 80,
   "id": "2e404de6-b757-4e43-92a1-6af37edd163c",
   "metadata": {},
   "outputs": [
    {
     "data": {
      "text/plain": [
       "{'f', 'g', 'h'}"
      ]
     },
     "execution_count": 80,
     "metadata": {},
     "output_type": "execute_result"
    }
   ],
   "source": [
    "s2_unique"
   ]
  },
  {
   "cell_type": "markdown",
   "id": "b2ea111a-da35-4da3-82af-f7dbc8152771",
   "metadata": {},
   "source": [
    "#duplicates removed\n",
    "Dec_LANs minus Jan_LANs = 2298 #unique LANs in December File\n",
    "Jan_LANs minus Dec_LANs = 341 #unique LANs in January File\n",
    "\n",
    "#with duplicates\n",
    "Jan_LANs_dupped - Dec_LANs = 1371 #unique LANs in January File"
   ]
  },
  {
   "cell_type": "code",
   "execution_count": 96,
   "id": "2184b9a8-882e-422e-86e8-41128d4c47e4",
   "metadata": {},
   "outputs": [
    {
     "data": {
      "text/plain": [
       "731"
      ]
     },
     "execution_count": 96,
     "metadata": {},
     "output_type": "execute_result"
    }
   ],
   "source": [
    "len(Dec_unique_LAN_dupped)"
   ]
  },
  {
   "cell_type": "markdown",
   "id": "e06430f6-abe2-43a9-8c5e-50b66cc97951",
   "metadata": {},
   "source": [
    "## CIBIL score distribution comparison"
   ]
  },
  {
   "cell_type": "code",
   "execution_count": 59,
   "id": "5a7ba93c-cd15-4aa9-86c5-cd0b515d64ee",
   "metadata": {},
   "outputs": [],
   "source": [
    "#dfs to compare PSI\n",
    "working_df1 = Dec_test_df.copy()\n",
    "working_df2 = Jan_reduced3.copy()"
   ]
  },
  {
   "cell_type": "code",
   "execution_count": 60,
   "id": "6b860284-1c04-46b6-9211-a3be83893ce2",
   "metadata": {},
   "outputs": [
    {
     "name": "stdout",
     "output_type": "stream",
     "text": [
      "(8885, 22)\n",
      "(6928, 40)\n"
     ]
    }
   ],
   "source": [
    "print(working_df1.shape)\n",
    "print(working_df2.shape)"
   ]
  },
  {
   "cell_type": "code",
   "execution_count": 61,
   "id": "8356e3fd-c5de-40a6-aef5-c1e953c016ec",
   "metadata": {},
   "outputs": [],
   "source": [
    "#bureau_score\n",
    "def bureau_score_bin(x):\n",
    "    try:\n",
    "        y = float(x)\n",
    "        \n",
    "        if y >= 750:\n",
    "            return 'g [750, Inf)'\n",
    "        elif y >= 731 and y <= 749:\n",
    "            return 'e [731,749]'\n",
    "        elif y >= 700 and y <= 730:\n",
    "            return 'd [700,730]'\n",
    "        elif y >= 680 and y <= 699:\n",
    "            return 'c [680,699]'\n",
    "        elif y >= 300 and y <= 679:\n",
    "            return 'b [300,679]'\n",
    "        elif y < 300:\n",
    "            return 'a NTC'        \n",
    "    except:\n",
    "        return x\n",
    "\n",
    "working_df1.loc[:, 'bureau_score_bin'] = working_df1['bureau_score'].apply(bureau_score_bin)\n",
    "t1_bureau_score = working_df1['bureau_score_bin'].value_counts().sort_index()\n",
    "\n",
    "working_df2.loc[:, 'bureau_score_bin'] = working_df2['bureau_score'].apply(bureau_score_bin)\n",
    "t2_bureau_score = working_df2['bureau_score_bin'].value_counts().sort_index()\n",
    "\n",
    "bureau_score_df = pd.DataFrame({f'Below 300':t1_bureau_score, \n",
    "                           f'300-749':t2_bureau_score})"
   ]
  },
  {
   "cell_type": "code",
   "execution_count": 62,
   "id": "9c43d76c-ee93-486f-bf91-756605988c43",
   "metadata": {},
   "outputs": [
    {
     "data": {
      "text/html": [
       "<div>\n",
       "<style scoped>\n",
       "    .dataframe tbody tr th:only-of-type {\n",
       "        vertical-align: middle;\n",
       "    }\n",
       "\n",
       "    .dataframe tbody tr th {\n",
       "        vertical-align: top;\n",
       "    }\n",
       "\n",
       "    .dataframe thead th {\n",
       "        text-align: right;\n",
       "    }\n",
       "</style>\n",
       "<table border=\"1\" class=\"dataframe\">\n",
       "  <thead>\n",
       "    <tr style=\"text-align: right;\">\n",
       "      <th></th>\n",
       "      <th>Below 300</th>\n",
       "      <th>300-749</th>\n",
       "    </tr>\n",
       "    <tr>\n",
       "      <th>bureau_score_bin</th>\n",
       "      <th></th>\n",
       "      <th></th>\n",
       "    </tr>\n",
       "  </thead>\n",
       "  <tbody>\n",
       "    <tr>\n",
       "      <th>a NTC</th>\n",
       "      <td>3354</td>\n",
       "      <td>2774</td>\n",
       "    </tr>\n",
       "    <tr>\n",
       "      <th>b [300,679]</th>\n",
       "      <td>433</td>\n",
       "      <td>324</td>\n",
       "    </tr>\n",
       "    <tr>\n",
       "      <th>c [680,699]</th>\n",
       "      <td>366</td>\n",
       "      <td>271</td>\n",
       "    </tr>\n",
       "    <tr>\n",
       "      <th>d [700,730]</th>\n",
       "      <td>1350</td>\n",
       "      <td>1057</td>\n",
       "    </tr>\n",
       "    <tr>\n",
       "      <th>e [731,749]</th>\n",
       "      <td>1280</td>\n",
       "      <td>954</td>\n",
       "    </tr>\n",
       "    <tr>\n",
       "      <th>g [750, Inf)</th>\n",
       "      <td>2102</td>\n",
       "      <td>1548</td>\n",
       "    </tr>\n",
       "  </tbody>\n",
       "</table>\n",
       "</div>"
      ],
      "text/plain": [
       "                  Below 300  300-749\n",
       "bureau_score_bin                    \n",
       "a NTC                  3354     2774\n",
       "b [300,679]             433      324\n",
       "c [680,699]             366      271\n",
       "d [700,730]            1350     1057\n",
       "e [731,749]            1280      954\n",
       "g [750, Inf)           2102     1548"
      ]
     },
     "execution_count": 62,
     "metadata": {},
     "output_type": "execute_result"
    }
   ],
   "source": [
    "bureau_score_df"
   ]
  },
  {
   "cell_type": "markdown",
   "id": "eb06e6ed-2c5a-4812-9322-bbae8a0fe253",
   "metadata": {},
   "source": [
    "## Duplicated Rows analysis"
   ]
  },
  {
   "cell_type": "code",
   "execution_count": 87,
   "id": "53c17fc5-b000-4317-a207-86a5f5152207",
   "metadata": {},
   "outputs": [
    {
     "data": {
      "text/plain": [
       "(18623, 40)"
      ]
     },
     "execution_count": 87,
     "metadata": {},
     "output_type": "execute_result"
    }
   ],
   "source": [
    "Jan_test_df.shape"
   ]
  },
  {
   "cell_type": "code",
   "execution_count": 88,
   "id": "e286d874-7ac0-43ae-81e6-41b2df626795",
   "metadata": {},
   "outputs": [],
   "source": [
    "duplicated_A = Jan_reduced2.duplicated(subset='LOAN_ACCOUNT_NO_og', keep =False)"
   ]
  },
  {
   "cell_type": "code",
   "execution_count": 89,
   "id": "32ef8b01-22f3-4a8a-9bf2-d0f24e50e854",
   "metadata": {},
   "outputs": [
    {
     "data": {
      "text/plain": [
       "(3796, 40)"
      ]
     },
     "execution_count": 89,
     "metadata": {},
     "output_type": "execute_result"
    }
   ],
   "source": [
    "Jan_duplicates = Jan_reduced2[duplicated_A]\n",
    "Jan_duplicates.shape"
   ]
  },
  {
   "cell_type": "code",
   "execution_count": 90,
   "id": "1ed71437-10f9-4afc-819f-28fc52928171",
   "metadata": {},
   "outputs": [
    {
     "data": {
      "text/html": [
       "<div>\n",
       "<style scoped>\n",
       "    .dataframe tbody tr th:only-of-type {\n",
       "        vertical-align: middle;\n",
       "    }\n",
       "\n",
       "    .dataframe tbody tr th {\n",
       "        vertical-align: top;\n",
       "    }\n",
       "\n",
       "    .dataframe thead th {\n",
       "        text-align: right;\n",
       "    }\n",
       "</style>\n",
       "<table border=\"1\" class=\"dataframe\">\n",
       "  <thead>\n",
       "    <tr style=\"text-align: right;\">\n",
       "      <th></th>\n",
       "      <th>loan_account_no</th>\n",
       "      <th>APPLICATION_NUMBER</th>\n",
       "      <th>CIFNUMBER</th>\n",
       "      <th>CUSTOMER_NUMBER</th>\n",
       "      <th>Application Received Date</th>\n",
       "      <th>product_description</th>\n",
       "      <th>Judgement date</th>\n",
       "      <th>DECISION</th>\n",
       "      <th>USER_COMMENT</th>\n",
       "      <th>LOAN_ACCOUNT_NO_og</th>\n",
       "      <th>...</th>\n",
       "      <th>Dealer</th>\n",
       "      <th>Total_Income</th>\n",
       "      <th>Branch_Name</th>\n",
       "      <th>Occupation_Type</th>\n",
       "      <th>Industry</th>\n",
       "      <th>Marital_Status</th>\n",
       "      <th>Nature_Of_Business</th>\n",
       "      <th>Loan Amount Requested</th>\n",
       "      <th>bureau_score</th>\n",
       "      <th>D3_within12months</th>\n",
       "    </tr>\n",
       "  </thead>\n",
       "  <tbody>\n",
       "    <tr>\n",
       "      <th>2</th>\n",
       "      <td>TEST3</td>\n",
       "      <td>APPL00288662</td>\n",
       "      <td>GLBCUST00000249888</td>\n",
       "      <td>CUST00258359</td>\n",
       "      <td>2/26/2024</td>\n",
       "      <td>2 Wheeler Loan</td>\n",
       "      <td>2/26/2024</td>\n",
       "      <td>Approve</td>\n",
       "      <td>TEST PROGRAM FOR CD TW</td>\n",
       "      <td>TW01020102000002296182</td>\n",
       "      <td>...</td>\n",
       "      <td>Sri Renuka Motors - Bangalore</td>\n",
       "      <td>516000</td>\n",
       "      <td>South Bangalore</td>\n",
       "      <td>Salaried</td>\n",
       "      <td>Others</td>\n",
       "      <td>Married</td>\n",
       "      <td>Services</td>\n",
       "      <td>109000</td>\n",
       "      <td>-1</td>\n",
       "      <td>0</td>\n",
       "    </tr>\n",
       "    <tr>\n",
       "      <th>3</th>\n",
       "      <td>TEST4</td>\n",
       "      <td>APPL00289273</td>\n",
       "      <td>GLBCUST00000250403</td>\n",
       "      <td>CUST00258951</td>\n",
       "      <td>2/28/2024</td>\n",
       "      <td>2 Wheeler Loan</td>\n",
       "      <td>3/19/2024</td>\n",
       "      <td>Approve</td>\n",
       "      <td>TEST PROGRAM FOR CD TW | SCHEME CHANGE DOEN</td>\n",
       "      <td>TW01020101000002299657</td>\n",
       "      <td>...</td>\n",
       "      <td>Ekadantha Motors - East Bangalore</td>\n",
       "      <td>348000</td>\n",
       "      <td>East Bangalore</td>\n",
       "      <td>Salaried</td>\n",
       "      <td>Others</td>\n",
       "      <td>Single</td>\n",
       "      <td>Services</td>\n",
       "      <td>97000</td>\n",
       "      <td>-1</td>\n",
       "      <td>0</td>\n",
       "    </tr>\n",
       "    <tr>\n",
       "      <th>5</th>\n",
       "      <td>TEST6</td>\n",
       "      <td>APPL00285112</td>\n",
       "      <td>GLBCUST00000246883</td>\n",
       "      <td>CUST00255022</td>\n",
       "      <td>2/16/2024</td>\n",
       "      <td>2 Wheeler Loan</td>\n",
       "      <td>2/26/2024</td>\n",
       "      <td>Approve</td>\n",
       "      <td>No test code DEVIATION APPROVAL FROM PRANALI M...</td>\n",
       "      <td>TW01010102000002295981</td>\n",
       "      <td>...</td>\n",
       "      <td>KHUSHI AUTOMOBILES - GHANSOLI</td>\n",
       "      <td>360000</td>\n",
       "      <td>Harbour Mumbai</td>\n",
       "      <td>Salaried</td>\n",
       "      <td>Others</td>\n",
       "      <td>Single</td>\n",
       "      <td>Services</td>\n",
       "      <td>86000</td>\n",
       "      <td>638</td>\n",
       "      <td>0</td>\n",
       "    </tr>\n",
       "    <tr>\n",
       "      <th>9</th>\n",
       "      <td>TEST10</td>\n",
       "      <td>APPL00269683</td>\n",
       "      <td>GLBCUST00000233494</td>\n",
       "      <td>CUST00241067</td>\n",
       "      <td>1/7/2024</td>\n",
       "      <td>2 Wheeler Loan</td>\n",
       "      <td>1/12/2024</td>\n",
       "      <td>Approve</td>\n",
       "      <td>no test code</td>\n",
       "      <td>TW01030104000002288295</td>\n",
       "      <td>...</td>\n",
       "      <td>Shri Yash Motors - Noida</td>\n",
       "      <td>360000</td>\n",
       "      <td>Noida</td>\n",
       "      <td>Salaried</td>\n",
       "      <td>Apparels</td>\n",
       "      <td>Married</td>\n",
       "      <td>Others</td>\n",
       "      <td>83000</td>\n",
       "      <td>-1</td>\n",
       "      <td>0</td>\n",
       "    </tr>\n",
       "    <tr>\n",
       "      <th>11</th>\n",
       "      <td>TEST12</td>\n",
       "      <td>APPL00278457</td>\n",
       "      <td>GLBCUST00000241145</td>\n",
       "      <td>CUST00248971</td>\n",
       "      <td>1/30/2024</td>\n",
       "      <td>2 Wheeler Loan</td>\n",
       "      <td>2/1/2024</td>\n",
       "      <td>Approve</td>\n",
       "      <td>NO TEST CODE</td>\n",
       "      <td>TW01030101000002292111</td>\n",
       "      <td>...</td>\n",
       "      <td>JSB Auto Cars - Gudgaon</td>\n",
       "      <td>360000</td>\n",
       "      <td>Gurgaon</td>\n",
       "      <td>Salaried</td>\n",
       "      <td>Others</td>\n",
       "      <td>Married</td>\n",
       "      <td>Services</td>\n",
       "      <td>76000</td>\n",
       "      <td>721</td>\n",
       "      <td>0</td>\n",
       "    </tr>\n",
       "    <tr>\n",
       "      <th>...</th>\n",
       "      <td>...</td>\n",
       "      <td>...</td>\n",
       "      <td>...</td>\n",
       "      <td>...</td>\n",
       "      <td>...</td>\n",
       "      <td>...</td>\n",
       "      <td>...</td>\n",
       "      <td>...</td>\n",
       "      <td>...</td>\n",
       "      <td>...</td>\n",
       "      <td>...</td>\n",
       "      <td>...</td>\n",
       "      <td>...</td>\n",
       "      <td>...</td>\n",
       "      <td>...</td>\n",
       "      <td>...</td>\n",
       "      <td>...</td>\n",
       "      <td>...</td>\n",
       "      <td>...</td>\n",
       "      <td>...</td>\n",
       "      <td>...</td>\n",
       "    </tr>\n",
       "    <tr>\n",
       "      <th>17695</th>\n",
       "      <td>TEST17696</td>\n",
       "      <td>APPL00288335</td>\n",
       "      <td>GLBCUST00000249611</td>\n",
       "      <td>CUST00258045</td>\n",
       "      <td>2/25/2024</td>\n",
       "      <td>2 Wheeler Loan</td>\n",
       "      <td>2/25/2024</td>\n",
       "      <td>Approve</td>\n",
       "      <td>no test code</td>\n",
       "      <td>TW01010106000002295822</td>\n",
       "      <td>...</td>\n",
       "      <td>BIKE CLINIC - VASAI ROAD</td>\n",
       "      <td>420000</td>\n",
       "      <td>Virar</td>\n",
       "      <td>Self Employed Non Professional</td>\n",
       "      <td>Others</td>\n",
       "      <td>Married</td>\n",
       "      <td>Others</td>\n",
       "      <td>80500</td>\n",
       "      <td>778</td>\n",
       "      <td>0</td>\n",
       "    </tr>\n",
       "    <tr>\n",
       "      <th>17697</th>\n",
       "      <td>TEST17698</td>\n",
       "      <td>APPL00285425</td>\n",
       "      <td>GLBCUST00000247162</td>\n",
       "      <td>CUST00255308</td>\n",
       "      <td>2/17/2024</td>\n",
       "      <td>2 Wheeler Loan</td>\n",
       "      <td>2/23/2024</td>\n",
       "      <td>Approve</td>\n",
       "      <td>NO TEST CODE</td>\n",
       "      <td>TW01030107000002297829</td>\n",
       "      <td>...</td>\n",
       "      <td>Globe Autowheels-Delhi</td>\n",
       "      <td>450000</td>\n",
       "      <td>Ghaziabad</td>\n",
       "      <td>Self Employed Non Professional</td>\n",
       "      <td>Others</td>\n",
       "      <td>Married</td>\n",
       "      <td>Others</td>\n",
       "      <td>85000</td>\n",
       "      <td>-1</td>\n",
       "      <td>1</td>\n",
       "    </tr>\n",
       "    <tr>\n",
       "      <th>17698</th>\n",
       "      <td>TEST17699</td>\n",
       "      <td>APPL00281663</td>\n",
       "      <td>GLBCUST00000243896</td>\n",
       "      <td>CUST00251871</td>\n",
       "      <td>2/7/2024</td>\n",
       "      <td>2 Wheeler Loan</td>\n",
       "      <td>2/17/2024</td>\n",
       "      <td>Approve</td>\n",
       "      <td>TEST PROGRAM FOR CD-TW</td>\n",
       "      <td>TW01030104000002297851</td>\n",
       "      <td>...</td>\n",
       "      <td>Shri Yash Motors - Noida</td>\n",
       "      <td>360000</td>\n",
       "      <td>Noida</td>\n",
       "      <td>Self Employed Non Professional</td>\n",
       "      <td>Others</td>\n",
       "      <td>Single</td>\n",
       "      <td>Manufacturing</td>\n",
       "      <td>53300</td>\n",
       "      <td>-1</td>\n",
       "      <td>0</td>\n",
       "    </tr>\n",
       "    <tr>\n",
       "      <th>17700</th>\n",
       "      <td>TEST17701</td>\n",
       "      <td>APPL00278308</td>\n",
       "      <td>GLBCUST00000241007</td>\n",
       "      <td>CUST00248829</td>\n",
       "      <td>1/29/2024</td>\n",
       "      <td>2 Wheeler Loan</td>\n",
       "      <td>1/31/2024</td>\n",
       "      <td>Approve</td>\n",
       "      <td>NO TEST CIDE - SCHEME CHANGED</td>\n",
       "      <td>TW01020102000002291500</td>\n",
       "      <td>...</td>\n",
       "      <td>MURALI AUTOMOBILES - BANGALORE</td>\n",
       "      <td>468000</td>\n",
       "      <td>South Bangalore</td>\n",
       "      <td>Salaried</td>\n",
       "      <td>Construction</td>\n",
       "      <td>Single</td>\n",
       "      <td>Services</td>\n",
       "      <td>112000</td>\n",
       "      <td>734</td>\n",
       "      <td>0</td>\n",
       "    </tr>\n",
       "    <tr>\n",
       "      <th>17707</th>\n",
       "      <td>TEST17708</td>\n",
       "      <td>APPL00288744</td>\n",
       "      <td>GLBCUST00000249957</td>\n",
       "      <td>CUST00258440</td>\n",
       "      <td>2/26/2024</td>\n",
       "      <td>2 Wheeler Loan</td>\n",
       "      <td>2/26/2024</td>\n",
       "      <td>Approve</td>\n",
       "      <td>No Test Code</td>\n",
       "      <td>TW01010105000002295824</td>\n",
       "      <td>...</td>\n",
       "      <td>BRIGHT MOTORS - THANE (WEST)</td>\n",
       "      <td>420000</td>\n",
       "      <td>Thane</td>\n",
       "      <td>Salaried</td>\n",
       "      <td>Agriculture</td>\n",
       "      <td>Married</td>\n",
       "      <td>Agriculture</td>\n",
       "      <td>62000</td>\n",
       "      <td>772</td>\n",
       "      <td>0</td>\n",
       "    </tr>\n",
       "  </tbody>\n",
       "</table>\n",
       "<p>3796 rows × 40 columns</p>\n",
       "</div>"
      ],
      "text/plain": [
       "      loan_account_no APPLICATION_NUMBER           CIFNUMBER CUSTOMER_NUMBER  \\\n",
       "2               TEST3       APPL00288662  GLBCUST00000249888    CUST00258359   \n",
       "3               TEST4       APPL00289273  GLBCUST00000250403    CUST00258951   \n",
       "5               TEST6       APPL00285112  GLBCUST00000246883    CUST00255022   \n",
       "9              TEST10       APPL00269683  GLBCUST00000233494    CUST00241067   \n",
       "11             TEST12       APPL00278457  GLBCUST00000241145    CUST00248971   \n",
       "...               ...                ...                 ...             ...   \n",
       "17695       TEST17696       APPL00288335  GLBCUST00000249611    CUST00258045   \n",
       "17697       TEST17698       APPL00285425  GLBCUST00000247162    CUST00255308   \n",
       "17698       TEST17699       APPL00281663  GLBCUST00000243896    CUST00251871   \n",
       "17700       TEST17701       APPL00278308  GLBCUST00000241007    CUST00248829   \n",
       "17707       TEST17708       APPL00288744  GLBCUST00000249957    CUST00258440   \n",
       "\n",
       "      Application Received Date product_description Judgement date DECISION  \\\n",
       "2                     2/26/2024      2 Wheeler Loan      2/26/2024  Approve   \n",
       "3                     2/28/2024      2 Wheeler Loan      3/19/2024  Approve   \n",
       "5                     2/16/2024      2 Wheeler Loan      2/26/2024  Approve   \n",
       "9                      1/7/2024      2 Wheeler Loan      1/12/2024  Approve   \n",
       "11                    1/30/2024      2 Wheeler Loan       2/1/2024  Approve   \n",
       "...                         ...                 ...            ...      ...   \n",
       "17695                 2/25/2024      2 Wheeler Loan      2/25/2024  Approve   \n",
       "17697                 2/17/2024      2 Wheeler Loan      2/23/2024  Approve   \n",
       "17698                  2/7/2024      2 Wheeler Loan      2/17/2024  Approve   \n",
       "17700                 1/29/2024      2 Wheeler Loan      1/31/2024  Approve   \n",
       "17707                 2/26/2024      2 Wheeler Loan      2/26/2024  Approve   \n",
       "\n",
       "                                            USER_COMMENT  \\\n",
       "2                                 TEST PROGRAM FOR CD TW   \n",
       "3            TEST PROGRAM FOR CD TW | SCHEME CHANGE DOEN   \n",
       "5      No test code DEVIATION APPROVAL FROM PRANALI M...   \n",
       "9                                           no test code   \n",
       "11                                          NO TEST CODE   \n",
       "...                                                  ...   \n",
       "17695                                       no test code   \n",
       "17697                                       NO TEST CODE   \n",
       "17698                             TEST PROGRAM FOR CD-TW   \n",
       "17700                      NO TEST CIDE - SCHEME CHANGED   \n",
       "17707                                       No Test Code   \n",
       "\n",
       "           LOAN_ACCOUNT_NO_og  ...                             Dealer  \\\n",
       "2      TW01020102000002296182  ...      Sri Renuka Motors - Bangalore   \n",
       "3      TW01020101000002299657  ...  Ekadantha Motors - East Bangalore   \n",
       "5      TW01010102000002295981  ...      KHUSHI AUTOMOBILES - GHANSOLI   \n",
       "9      TW01030104000002288295  ...           Shri Yash Motors - Noida   \n",
       "11     TW01030101000002292111  ...            JSB Auto Cars - Gudgaon   \n",
       "...                       ...  ...                                ...   \n",
       "17695  TW01010106000002295822  ...           BIKE CLINIC - VASAI ROAD   \n",
       "17697  TW01030107000002297829  ...             Globe Autowheels-Delhi   \n",
       "17698  TW01030104000002297851  ...           Shri Yash Motors - Noida   \n",
       "17700  TW01020102000002291500  ...     MURALI AUTOMOBILES - BANGALORE   \n",
       "17707  TW01010105000002295824  ...       BRIGHT MOTORS - THANE (WEST)   \n",
       "\n",
       "       Total_Income      Branch_Name                 Occupation_Type  \\\n",
       "2            516000  South Bangalore                        Salaried   \n",
       "3            348000   East Bangalore                        Salaried   \n",
       "5            360000   Harbour Mumbai                        Salaried   \n",
       "9            360000            Noida                        Salaried   \n",
       "11           360000          Gurgaon                        Salaried   \n",
       "...             ...              ...                             ...   \n",
       "17695        420000            Virar  Self Employed Non Professional   \n",
       "17697        450000        Ghaziabad  Self Employed Non Professional   \n",
       "17698        360000            Noida  Self Employed Non Professional   \n",
       "17700        468000  South Bangalore                        Salaried   \n",
       "17707        420000            Thane                        Salaried   \n",
       "\n",
       "           Industry Marital_Status  Nature_Of_Business  Loan Amount Requested  \\\n",
       "2            Others        Married            Services                 109000   \n",
       "3            Others         Single            Services                  97000   \n",
       "5            Others         Single            Services                  86000   \n",
       "9          Apparels        Married              Others                  83000   \n",
       "11           Others        Married            Services                  76000   \n",
       "...             ...            ...                 ...                    ...   \n",
       "17695        Others        Married              Others                  80500   \n",
       "17697        Others        Married              Others                  85000   \n",
       "17698        Others         Single       Manufacturing                  53300   \n",
       "17700  Construction         Single            Services                 112000   \n",
       "17707   Agriculture        Married         Agriculture                  62000   \n",
       "\n",
       "       bureau_score  D3_within12months  \n",
       "2                -1                  0  \n",
       "3                -1                  0  \n",
       "5               638                  0  \n",
       "9                -1                  0  \n",
       "11              721                  0  \n",
       "...             ...                ...  \n",
       "17695           778                  0  \n",
       "17697            -1                  1  \n",
       "17698            -1                  0  \n",
       "17700           734                  0  \n",
       "17707           772                  0  \n",
       "\n",
       "[3796 rows x 40 columns]"
      ]
     },
     "execution_count": 90,
     "metadata": {},
     "output_type": "execute_result"
    }
   ],
   "source": [
    "Jan_duplicates"
   ]
  },
  {
   "cell_type": "code",
   "execution_count": 93,
   "id": "c8158ef1-84ac-4f84-85e6-fb4ead7b1b1d",
   "metadata": {},
   "outputs": [
    {
     "name": "stdout",
     "output_type": "stream",
     "text": [
      "\n",
      "Most common differing columns:\n",
      "loan_account_no              1897\n",
      "res_Years_at_Current_City    1792\n",
      "res_Resident_Status           423\n",
      "res_City                       28\n",
      "res_State                      12\n",
      "Nature_Of_Business              8\n",
      "Industry                        2\n",
      "USER_COMMENT                    1\n",
      "Name: count, dtype: int64\n"
     ]
    },
    {
     "name": "stderr",
     "output_type": "stream",
     "text": [
      "C:\\Users\\emanlangit.AEONCREDIT\\AppData\\Local\\Temp\\ipykernel_5248\\2675878076.py:12: DeprecationWarning: DataFrameGroupBy.apply operated on the grouping columns. This behavior is deprecated, and in a future version of pandas the grouping columns will be excluded from the operation. Either pass `include_groups=False` to exclude the groupings or explicitly select the grouping columns after groupby to silence this warning.\n",
      "  differences = Jan_duplicates.groupby('LOAN_ACCOUNT_NO_og').apply(compare_duplicates)\n"
     ]
    }
   ],
   "source": [
    "# Group by LOAN_ACCOUNT_NO_og and check which columns have different values\n",
    "def compare_duplicates(group):\n",
    "    if len(group) > 1:\n",
    "        # Get columns that have different values within the group\n",
    "        diff_cols = []\n",
    "        for col in group.columns:\n",
    "            if not (group[col] == group[col].iloc[0]).all():\n",
    "                diff_cols.append(col)\n",
    "        return diff_cols\n",
    "\n",
    "# Apply the comparison to each group of duplicates\n",
    "differences = Jan_duplicates.groupby('LOAN_ACCOUNT_NO_og').apply(compare_duplicates)\n",
    "\n",
    "# Print the results\n",
    "# print(\"Columns that differ for each duplicated LOAN_ACCOUNT_NO_og:\")\n",
    "# for loan_account, diff_cols in differences.items():\n",
    "#     if diff_cols:  # Only show if there are differences\n",
    "#         print(f\"\\nLoan Account: {loan_account}\")\n",
    "#         print(f\"Different columns: {diff_cols}\")\n",
    "\n",
    "# Optional: Get a summary of which columns most commonly differ\n",
    "all_diff_cols = []\n",
    "for diff_cols in differences:\n",
    "    if diff_cols:\n",
    "        all_diff_cols.extend(diff_cols)\n",
    "\n",
    "diff_cols_summary = pd.Series(all_diff_cols).value_counts()\n",
    "print(\"\\nMost common differing columns:\")\n",
    "print(diff_cols_summary)"
   ]
  },
  {
   "cell_type": "code",
   "execution_count": 105,
   "id": "b1eb7b46-2432-4a24-9f65-8c370fbd3ee6",
   "metadata": {},
   "outputs": [
    {
     "data": {
      "text/plain": [
       "LOAN_ACCOUNT_NO_og\n",
       "TW01010101000002287278         [loan_account_no, res_Years_at_Current_City]\n",
       "TW01010101000002287281         [loan_account_no, res_Years_at_Current_City]\n",
       "TW01010101000002287395         [loan_account_no, res_Years_at_Current_City]\n",
       "TW01010101000002287436         [loan_account_no, res_Years_at_Current_City]\n",
       "TW01010101000002287798         [loan_account_no, res_Years_at_Current_City]\n",
       "                                                ...                        \n",
       "TW01030108000002294033    [loan_account_no, res_Years_at_Current_City, r...\n",
       "TW01030108000002294655    [loan_account_no, res_Years_at_Current_City, r...\n",
       "TW01030108000002295231    [loan_account_no, res_Years_at_Current_City, r...\n",
       "TW01030108000002295671         [loan_account_no, res_Years_at_Current_City]\n",
       "TW01030108000002295859         [loan_account_no, res_Years_at_Current_City]\n",
       "Length: 1897, dtype: object"
      ]
     },
     "execution_count": 105,
     "metadata": {},
     "output_type": "execute_result"
    }
   ],
   "source": [
    "differences"
   ]
  },
  {
   "cell_type": "code",
   "execution_count": 115,
   "id": "446dc940-da9f-4e0a-a715-db5fcb618a7f",
   "metadata": {},
   "outputs": [
    {
     "data": {
      "text/html": [
       "<div>\n",
       "<style scoped>\n",
       "    .dataframe tbody tr th:only-of-type {\n",
       "        vertical-align: middle;\n",
       "    }\n",
       "\n",
       "    .dataframe tbody tr th {\n",
       "        vertical-align: top;\n",
       "    }\n",
       "\n",
       "    .dataframe thead th {\n",
       "        text-align: right;\n",
       "    }\n",
       "</style>\n",
       "<table border=\"1\" class=\"dataframe\">\n",
       "  <thead>\n",
       "    <tr style=\"text-align: right;\">\n",
       "      <th></th>\n",
       "      <th>LOAN_ACCOUNT_NO_og</th>\n",
       "      <th>res_Years_at_Current_City</th>\n",
       "    </tr>\n",
       "  </thead>\n",
       "  <tbody>\n",
       "    <tr>\n",
       "      <th>17630</th>\n",
       "      <td>TW01010101000002287278</td>\n",
       "      <td>22</td>\n",
       "    </tr>\n",
       "    <tr>\n",
       "      <th>1357</th>\n",
       "      <td>TW01010101000002287278</td>\n",
       "      <td>0</td>\n",
       "    </tr>\n",
       "    <tr>\n",
       "      <th>17631</th>\n",
       "      <td>TW01010101000002287281</td>\n",
       "      <td>22</td>\n",
       "    </tr>\n",
       "    <tr>\n",
       "      <th>1358</th>\n",
       "      <td>TW01010101000002287281</td>\n",
       "      <td>0</td>\n",
       "    </tr>\n",
       "    <tr>\n",
       "      <th>12978</th>\n",
       "      <td>TW01010101000002287395</td>\n",
       "      <td>0</td>\n",
       "    </tr>\n",
       "    <tr>\n",
       "      <th>8275</th>\n",
       "      <td>TW01010101000002287395</td>\n",
       "      <td>23</td>\n",
       "    </tr>\n",
       "    <tr>\n",
       "      <th>16922</th>\n",
       "      <td>TW01010101000002287436</td>\n",
       "      <td>0</td>\n",
       "    </tr>\n",
       "    <tr>\n",
       "      <th>12304</th>\n",
       "      <td>TW01010101000002287436</td>\n",
       "      <td>22</td>\n",
       "    </tr>\n",
       "    <tr>\n",
       "      <th>673</th>\n",
       "      <td>TW01010101000002287798</td>\n",
       "      <td>22</td>\n",
       "    </tr>\n",
       "    <tr>\n",
       "      <th>16932</th>\n",
       "      <td>TW01010101000002287798</td>\n",
       "      <td>0</td>\n",
       "    </tr>\n",
       "    <tr>\n",
       "      <th>5929</th>\n",
       "      <td>TW01010101000002287901</td>\n",
       "      <td>0</td>\n",
       "    </tr>\n",
       "    <tr>\n",
       "      <th>17534</th>\n",
       "      <td>TW01010101000002287901</td>\n",
       "      <td>23</td>\n",
       "    </tr>\n",
       "    <tr>\n",
       "      <th>14754</th>\n",
       "      <td>TW01010101000002287909</td>\n",
       "      <td>0</td>\n",
       "    </tr>\n",
       "    <tr>\n",
       "      <th>798</th>\n",
       "      <td>TW01010101000002287909</td>\n",
       "      <td>22</td>\n",
       "    </tr>\n",
       "    <tr>\n",
       "      <th>10001</th>\n",
       "      <td>TW01010101000002287940</td>\n",
       "      <td>23</td>\n",
       "    </tr>\n",
       "    <tr>\n",
       "      <th>10000</th>\n",
       "      <td>TW01010101000002287940</td>\n",
       "      <td>0</td>\n",
       "    </tr>\n",
       "    <tr>\n",
       "      <th>769</th>\n",
       "      <td>TW01010101000002288015</td>\n",
       "      <td>0</td>\n",
       "    </tr>\n",
       "    <tr>\n",
       "      <th>17032</th>\n",
       "      <td>TW01010101000002288015</td>\n",
       "      <td>23</td>\n",
       "    </tr>\n",
       "    <tr>\n",
       "      <th>12414</th>\n",
       "      <td>TW01010101000002288083</td>\n",
       "      <td>0</td>\n",
       "    </tr>\n",
       "    <tr>\n",
       "      <th>17038</th>\n",
       "      <td>TW01010101000002288083</td>\n",
       "      <td>22</td>\n",
       "    </tr>\n",
       "    <tr>\n",
       "      <th>10069</th>\n",
       "      <td>TW01010101000002288089</td>\n",
       "      <td>22</td>\n",
       "    </tr>\n",
       "    <tr>\n",
       "      <th>5435</th>\n",
       "      <td>TW01010101000002288089</td>\n",
       "      <td>0</td>\n",
       "    </tr>\n",
       "    <tr>\n",
       "      <th>14542</th>\n",
       "      <td>TW01010101000002288115</td>\n",
       "      <td>22</td>\n",
       "    </tr>\n",
       "    <tr>\n",
       "      <th>12210</th>\n",
       "      <td>TW01010101000002288115</td>\n",
       "      <td>0</td>\n",
       "    </tr>\n",
       "    <tr>\n",
       "      <th>16651</th>\n",
       "      <td>TW01010101000002288173</td>\n",
       "      <td>22</td>\n",
       "    </tr>\n",
       "  </tbody>\n",
       "</table>\n",
       "</div>"
      ],
      "text/plain": [
       "           LOAN_ACCOUNT_NO_og  res_Years_at_Current_City\n",
       "17630  TW01010101000002287278                         22\n",
       "1357   TW01010101000002287278                          0\n",
       "17631  TW01010101000002287281                         22\n",
       "1358   TW01010101000002287281                          0\n",
       "12978  TW01010101000002287395                          0\n",
       "8275   TW01010101000002287395                         23\n",
       "16922  TW01010101000002287436                          0\n",
       "12304  TW01010101000002287436                         22\n",
       "673    TW01010101000002287798                         22\n",
       "16932  TW01010101000002287798                          0\n",
       "5929   TW01010101000002287901                          0\n",
       "17534  TW01010101000002287901                         23\n",
       "14754  TW01010101000002287909                          0\n",
       "798    TW01010101000002287909                         22\n",
       "10001  TW01010101000002287940                         23\n",
       "10000  TW01010101000002287940                          0\n",
       "769    TW01010101000002288015                          0\n",
       "17032  TW01010101000002288015                         23\n",
       "12414  TW01010101000002288083                          0\n",
       "17038  TW01010101000002288083                         22\n",
       "10069  TW01010101000002288089                         22\n",
       "5435   TW01010101000002288089                          0\n",
       "14542  TW01010101000002288115                         22\n",
       "12210  TW01010101000002288115                          0\n",
       "16651  TW01010101000002288173                         22"
      ]
     },
     "execution_count": 115,
     "metadata": {},
     "output_type": "execute_result"
    }
   ],
   "source": [
    "Jan_duplicates[['LOAN_ACCOUNT_NO_og', 'res_Years_at_Current_City']].sort_values(by='LOAN_ACCOUNT_NO_og')[:25]"
   ]
  },
  {
   "cell_type": "code",
   "execution_count": 113,
   "id": "6f64eee3-93f7-47e3-8f42-6a16f880ddcb",
   "metadata": {},
   "outputs": [
    {
     "data": {
      "text/html": [
       "<div>\n",
       "<style scoped>\n",
       "    .dataframe tbody tr th:only-of-type {\n",
       "        vertical-align: middle;\n",
       "    }\n",
       "\n",
       "    .dataframe tbody tr th {\n",
       "        vertical-align: top;\n",
       "    }\n",
       "\n",
       "    .dataframe thead th {\n",
       "        text-align: right;\n",
       "    }\n",
       "</style>\n",
       "<table border=\"1\" class=\"dataframe\">\n",
       "  <thead>\n",
       "    <tr style=\"text-align: right;\">\n",
       "      <th></th>\n",
       "      <th>LOAN_ACCOUNT_NO_og</th>\n",
       "      <th>res_Resident_Status</th>\n",
       "    </tr>\n",
       "  </thead>\n",
       "  <tbody>\n",
       "    <tr>\n",
       "      <th>17630</th>\n",
       "      <td>TW01010101000002287278</td>\n",
       "      <td>Owned by Parent /Sibling</td>\n",
       "    </tr>\n",
       "    <tr>\n",
       "      <th>1357</th>\n",
       "      <td>TW01010101000002287278</td>\n",
       "      <td>Owned by Parent /Sibling</td>\n",
       "    </tr>\n",
       "    <tr>\n",
       "      <th>17631</th>\n",
       "      <td>TW01010101000002287281</td>\n",
       "      <td>Owned by Parent /Sibling</td>\n",
       "    </tr>\n",
       "    <tr>\n",
       "      <th>1358</th>\n",
       "      <td>TW01010101000002287281</td>\n",
       "      <td>Owned by Parent /Sibling</td>\n",
       "    </tr>\n",
       "    <tr>\n",
       "      <th>12978</th>\n",
       "      <td>TW01010101000002287395</td>\n",
       "      <td>Owned by Parent /Sibling</td>\n",
       "    </tr>\n",
       "    <tr>\n",
       "      <th>...</th>\n",
       "      <td>...</td>\n",
       "      <td>...</td>\n",
       "    </tr>\n",
       "    <tr>\n",
       "      <th>12812</th>\n",
       "      <td>TW01030108000002295231</td>\n",
       "      <td>Owned by Parent /Sibling</td>\n",
       "    </tr>\n",
       "    <tr>\n",
       "      <th>16331</th>\n",
       "      <td>TW01030108000002295671</td>\n",
       "      <td>Rented</td>\n",
       "    </tr>\n",
       "    <tr>\n",
       "      <th>11676</th>\n",
       "      <td>TW01030108000002295671</td>\n",
       "      <td>Rented</td>\n",
       "    </tr>\n",
       "    <tr>\n",
       "      <th>398</th>\n",
       "      <td>TW01030108000002295859</td>\n",
       "      <td>Owned by Self/Spouse</td>\n",
       "    </tr>\n",
       "    <tr>\n",
       "      <th>14345</th>\n",
       "      <td>TW01030108000002295859</td>\n",
       "      <td>Owned by Self/Spouse</td>\n",
       "    </tr>\n",
       "  </tbody>\n",
       "</table>\n",
       "<p>3796 rows × 2 columns</p>\n",
       "</div>"
      ],
      "text/plain": [
       "           LOAN_ACCOUNT_NO_og       res_Resident_Status\n",
       "17630  TW01010101000002287278  Owned by Parent /Sibling\n",
       "1357   TW01010101000002287278  Owned by Parent /Sibling\n",
       "17631  TW01010101000002287281  Owned by Parent /Sibling\n",
       "1358   TW01010101000002287281  Owned by Parent /Sibling\n",
       "12978  TW01010101000002287395  Owned by Parent /Sibling\n",
       "...                       ...                       ...\n",
       "12812  TW01030108000002295231  Owned by Parent /Sibling\n",
       "16331  TW01030108000002295671                    Rented\n",
       "11676  TW01030108000002295671                    Rented\n",
       "398    TW01030108000002295859      Owned by Self/Spouse\n",
       "14345  TW01030108000002295859      Owned by Self/Spouse\n",
       "\n",
       "[3796 rows x 2 columns]"
      ]
     },
     "execution_count": 113,
     "metadata": {},
     "output_type": "execute_result"
    }
   ],
   "source": [
    "Jan_duplicates[['LOAN_ACCOUNT_NO_og', 'res_Resident_Status']].sort_values(by='LOAN_ACCOUNT_NO_og')"
   ]
  },
  {
   "cell_type": "code",
   "execution_count": 114,
   "id": "0ad15dce-4c04-4e8a-a92a-d570c6f86e29",
   "metadata": {},
   "outputs": [
    {
     "data": {
      "text/html": [
       "<div>\n",
       "<style scoped>\n",
       "    .dataframe tbody tr th:only-of-type {\n",
       "        vertical-align: middle;\n",
       "    }\n",
       "\n",
       "    .dataframe tbody tr th {\n",
       "        vertical-align: top;\n",
       "    }\n",
       "\n",
       "    .dataframe thead th {\n",
       "        text-align: right;\n",
       "    }\n",
       "</style>\n",
       "<table border=\"1\" class=\"dataframe\">\n",
       "  <thead>\n",
       "    <tr style=\"text-align: right;\">\n",
       "      <th></th>\n",
       "      <th>LOAN_ACCOUNT_NO_og</th>\n",
       "      <th>res_Resident_Status</th>\n",
       "    </tr>\n",
       "  </thead>\n",
       "  <tbody>\n",
       "    <tr>\n",
       "      <th>2720</th>\n",
       "      <td>TW01010101000002290604</td>\n",
       "      <td>Owned by Parent /Sibling</td>\n",
       "    </tr>\n",
       "    <tr>\n",
       "      <th>16697</th>\n",
       "      <td>TW01010101000002290604</td>\n",
       "      <td>Rented</td>\n",
       "    </tr>\n",
       "    <tr>\n",
       "      <th>2893</th>\n",
       "      <td>TW01010101000002293916</td>\n",
       "      <td>Owned by Self/Spouse</td>\n",
       "    </tr>\n",
       "    <tr>\n",
       "      <th>2894</th>\n",
       "      <td>TW01010101000002293916</td>\n",
       "      <td>Owned by Parent /Sibling</td>\n",
       "    </tr>\n",
       "    <tr>\n",
       "      <th>10194</th>\n",
       "      <td>TW01010101000002294066</td>\n",
       "      <td>Owned by Parent /Sibling</td>\n",
       "    </tr>\n",
       "    <tr>\n",
       "      <th>...</th>\n",
       "      <td>...</td>\n",
       "      <td>...</td>\n",
       "    </tr>\n",
       "    <tr>\n",
       "      <th>7809</th>\n",
       "      <td>TW01030108000002294033</td>\n",
       "      <td>Rented</td>\n",
       "    </tr>\n",
       "    <tr>\n",
       "      <th>3185</th>\n",
       "      <td>TW01030108000002294655</td>\n",
       "      <td>Owned by Parent /Sibling</td>\n",
       "    </tr>\n",
       "    <tr>\n",
       "      <th>5546</th>\n",
       "      <td>TW01030108000002294655</td>\n",
       "      <td>Rented</td>\n",
       "    </tr>\n",
       "    <tr>\n",
       "      <th>3453</th>\n",
       "      <td>TW01030108000002295231</td>\n",
       "      <td>Rented</td>\n",
       "    </tr>\n",
       "    <tr>\n",
       "      <th>12812</th>\n",
       "      <td>TW01030108000002295231</td>\n",
       "      <td>Owned by Parent /Sibling</td>\n",
       "    </tr>\n",
       "  </tbody>\n",
       "</table>\n",
       "<p>848 rows × 2 columns</p>\n",
       "</div>"
      ],
      "text/plain": [
       "           LOAN_ACCOUNT_NO_og       res_Resident_Status\n",
       "2720   TW01010101000002290604  Owned by Parent /Sibling\n",
       "16697  TW01010101000002290604                    Rented\n",
       "2893   TW01010101000002293916      Owned by Self/Spouse\n",
       "2894   TW01010101000002293916  Owned by Parent /Sibling\n",
       "10194  TW01010101000002294066  Owned by Parent /Sibling\n",
       "...                       ...                       ...\n",
       "7809   TW01030108000002294033                    Rented\n",
       "3185   TW01030108000002294655  Owned by Parent /Sibling\n",
       "5546   TW01030108000002294655                    Rented\n",
       "3453   TW01030108000002295231                    Rented\n",
       "12812  TW01030108000002295231  Owned by Parent /Sibling\n",
       "\n",
       "[848 rows x 2 columns]"
      ]
     },
     "execution_count": 114,
     "metadata": {},
     "output_type": "execute_result"
    }
   ],
   "source": [
    "# Group by LOAN_ACCOUNT_NO_og and filter groups where res_Resident_Status differs\n",
    "different_status = (Jan_duplicates\n",
    "    .groupby('LOAN_ACCOUNT_NO_og')['res_Resident_Status']\n",
    "    .agg(lambda x: len(set(x)) > 1)  # True if there are different values\n",
    "    .reset_index()\n",
    ")\n",
    "\n",
    "# Filter the original dataframe to show only those groups\n",
    "different_status_records = Jan_duplicates[\n",
    "    Jan_duplicates['LOAN_ACCOUNT_NO_og'].isin(\n",
    "        different_status[different_status['res_Resident_Status']]['LOAN_ACCOUNT_NO_og']\n",
    "    )\n",
    "][['LOAN_ACCOUNT_NO_og', 'res_Resident_Status']].sort_values('LOAN_ACCOUNT_NO_og')\n",
    "\n",
    "different_status_records"
   ]
  },
  {
   "cell_type": "code",
   "execution_count": 118,
   "id": "d9c1d0c8-06e3-4312-a780-598c8c34ed33",
   "metadata": {},
   "outputs": [
    {
     "data": {
      "text/html": [
       "<div>\n",
       "<style scoped>\n",
       "    .dataframe tbody tr th:only-of-type {\n",
       "        vertical-align: middle;\n",
       "    }\n",
       "\n",
       "    .dataframe tbody tr th {\n",
       "        vertical-align: top;\n",
       "    }\n",
       "\n",
       "    .dataframe thead th {\n",
       "        text-align: right;\n",
       "    }\n",
       "</style>\n",
       "<table border=\"1\" class=\"dataframe\">\n",
       "  <thead>\n",
       "    <tr style=\"text-align: right;\">\n",
       "      <th></th>\n",
       "      <th>LOAN_ACCOUNT_NO_og</th>\n",
       "      <th>res_City</th>\n",
       "    </tr>\n",
       "  </thead>\n",
       "  <tbody>\n",
       "    <tr>\n",
       "      <th>7680</th>\n",
       "      <td>TW01020102000002287270</td>\n",
       "      <td>BANGALORE</td>\n",
       "    </tr>\n",
       "    <tr>\n",
       "      <th>14708</th>\n",
       "      <td>TW01020102000002287270</td>\n",
       "      <td>DAKSHINA KANNADA</td>\n",
       "    </tr>\n",
       "    <tr>\n",
       "      <th>17677</th>\n",
       "      <td>TW01020102000002300868</td>\n",
       "      <td>CHENNAI</td>\n",
       "    </tr>\n",
       "    <tr>\n",
       "      <th>17676</th>\n",
       "      <td>TW01020102000002300868</td>\n",
       "      <td>BANGALORE</td>\n",
       "    </tr>\n",
       "    <tr>\n",
       "      <th>1334</th>\n",
       "      <td>TW01030104000002289675</td>\n",
       "      <td>GAUTAM BUDDHA NAGAR</td>\n",
       "    </tr>\n",
       "    <tr>\n",
       "      <th>17598</th>\n",
       "      <td>TW01030104000002289675</td>\n",
       "      <td>GHAZIABAD</td>\n",
       "    </tr>\n",
       "    <tr>\n",
       "      <th>4748</th>\n",
       "      <td>TW01030104000002289758</td>\n",
       "      <td>GAUTAM BUDDHA NAGAR</td>\n",
       "    </tr>\n",
       "    <tr>\n",
       "      <th>16408</th>\n",
       "      <td>TW01030104000002289758</td>\n",
       "      <td>GHAZIABAD</td>\n",
       "    </tr>\n",
       "    <tr>\n",
       "      <th>12626</th>\n",
       "      <td>TW01030104000002289777</td>\n",
       "      <td>DELHI</td>\n",
       "    </tr>\n",
       "    <tr>\n",
       "      <th>5633</th>\n",
       "      <td>TW01030104000002289777</td>\n",
       "      <td>GHAZIABAD</td>\n",
       "    </tr>\n",
       "    <tr>\n",
       "      <th>15390</th>\n",
       "      <td>TW01030104000002290112</td>\n",
       "      <td>GHAZIABAD</td>\n",
       "    </tr>\n",
       "    <tr>\n",
       "      <th>13036</th>\n",
       "      <td>TW01030104000002290112</td>\n",
       "      <td>GAUTAM BUDDHA NAGAR</td>\n",
       "    </tr>\n",
       "    <tr>\n",
       "      <th>14182</th>\n",
       "      <td>TW01030104000002291470</td>\n",
       "      <td>GAUTAM BUDDHA NAGAR</td>\n",
       "    </tr>\n",
       "    <tr>\n",
       "      <th>9485</th>\n",
       "      <td>TW01030104000002291470</td>\n",
       "      <td>GHAZIABAD</td>\n",
       "    </tr>\n",
       "    <tr>\n",
       "      <th>2562</th>\n",
       "      <td>TW01030104000002292222</td>\n",
       "      <td>GHAZIABAD</td>\n",
       "    </tr>\n",
       "    <tr>\n",
       "      <th>9528</th>\n",
       "      <td>TW01030104000002292222</td>\n",
       "      <td>GAUTAM BUDDHA NAGAR</td>\n",
       "    </tr>\n",
       "    <tr>\n",
       "      <th>9315</th>\n",
       "      <td>TW01030104000002293940</td>\n",
       "      <td>GAUTAM BUDDHA NAGAR</td>\n",
       "    </tr>\n",
       "    <tr>\n",
       "      <th>14029</th>\n",
       "      <td>TW01030104000002293940</td>\n",
       "      <td>GHAZIABAD</td>\n",
       "    </tr>\n",
       "    <tr>\n",
       "      <th>12566</th>\n",
       "      <td>TW01030104000002294019</td>\n",
       "      <td>GHAZIABAD</td>\n",
       "    </tr>\n",
       "    <tr>\n",
       "      <th>14899</th>\n",
       "      <td>TW01030104000002294019</td>\n",
       "      <td>GAUTAM BUDDHA NAGAR</td>\n",
       "    </tr>\n",
       "    <tr>\n",
       "      <th>5727</th>\n",
       "      <td>TW01030104000002294404</td>\n",
       "      <td>DELHI</td>\n",
       "    </tr>\n",
       "    <tr>\n",
       "      <th>5728</th>\n",
       "      <td>TW01030104000002294404</td>\n",
       "      <td>GAUTAM BUDDHA NAGAR</td>\n",
       "    </tr>\n",
       "    <tr>\n",
       "      <th>5477</th>\n",
       "      <td>TW01030104000002295202</td>\n",
       "      <td>GHAZIABAD</td>\n",
       "    </tr>\n",
       "    <tr>\n",
       "      <th>10103</th>\n",
       "      <td>TW01030104000002295202</td>\n",
       "      <td>DELHI</td>\n",
       "    </tr>\n",
       "    <tr>\n",
       "      <th>3144</th>\n",
       "      <td>TW01030104000002295275</td>\n",
       "      <td>DELHI</td>\n",
       "    </tr>\n",
       "    <tr>\n",
       "      <th>17117</th>\n",
       "      <td>TW01030104000002295275</td>\n",
       "      <td>GHAZIABAD</td>\n",
       "    </tr>\n",
       "    <tr>\n",
       "      <th>8237</th>\n",
       "      <td>TW01030104000002295290</td>\n",
       "      <td>GAUTAM BUDDHA NAGAR</td>\n",
       "    </tr>\n",
       "    <tr>\n",
       "      <th>5973</th>\n",
       "      <td>TW01030104000002295290</td>\n",
       "      <td>GHAZIABAD</td>\n",
       "    </tr>\n",
       "    <tr>\n",
       "      <th>10169</th>\n",
       "      <td>TW01030104000002295670</td>\n",
       "      <td>GHAZIABAD</td>\n",
       "    </tr>\n",
       "    <tr>\n",
       "      <th>896</th>\n",
       "      <td>TW01030104000002295670</td>\n",
       "      <td>GAUTAM BUDDHA NAGAR</td>\n",
       "    </tr>\n",
       "    <tr>\n",
       "      <th>7040</th>\n",
       "      <td>TW01030104000002295745</td>\n",
       "      <td>GAUTAM BUDDHA NAGAR</td>\n",
       "    </tr>\n",
       "    <tr>\n",
       "      <th>14056</th>\n",
       "      <td>TW01030104000002295745</td>\n",
       "      <td>GHAZIABAD</td>\n",
       "    </tr>\n",
       "    <tr>\n",
       "      <th>17662</th>\n",
       "      <td>TW01030104000002295761</td>\n",
       "      <td>GAUTAM BUDDHA NAGAR</td>\n",
       "    </tr>\n",
       "    <tr>\n",
       "      <th>1389</th>\n",
       "      <td>TW01030104000002295761</td>\n",
       "      <td>GHAZIABAD</td>\n",
       "    </tr>\n",
       "    <tr>\n",
       "      <th>17635</th>\n",
       "      <td>TW01030104000002295870</td>\n",
       "      <td>GHAZIABAD</td>\n",
       "    </tr>\n",
       "    <tr>\n",
       "      <th>8280</th>\n",
       "      <td>TW01030104000002295870</td>\n",
       "      <td>DELHI</td>\n",
       "    </tr>\n",
       "    <tr>\n",
       "      <th>8278</th>\n",
       "      <td>TW01030104000002296078</td>\n",
       "      <td>GAUTAM BUDDHA NAGAR</td>\n",
       "    </tr>\n",
       "    <tr>\n",
       "      <th>15325</th>\n",
       "      <td>TW01030104000002296078</td>\n",
       "      <td>GHAZIABAD</td>\n",
       "    </tr>\n",
       "    <tr>\n",
       "      <th>15334</th>\n",
       "      <td>TW01030104000002299918</td>\n",
       "      <td>GHAZIABAD</td>\n",
       "    </tr>\n",
       "    <tr>\n",
       "      <th>12990</th>\n",
       "      <td>TW01030104000002299918</td>\n",
       "      <td>GAUTAM BUDDHA NAGAR</td>\n",
       "    </tr>\n",
       "    <tr>\n",
       "      <th>5310</th>\n",
       "      <td>TW01030107000002287861</td>\n",
       "      <td>GHAZIABAD</td>\n",
       "    </tr>\n",
       "    <tr>\n",
       "      <th>667</th>\n",
       "      <td>TW01030107000002287861</td>\n",
       "      <td>GAUTAM BUDDHA NAGAR</td>\n",
       "    </tr>\n",
       "    <tr>\n",
       "      <th>729</th>\n",
       "      <td>TW01030107000002287956</td>\n",
       "      <td>GAUTAM BUDDHA NAGAR</td>\n",
       "    </tr>\n",
       "    <tr>\n",
       "      <th>7673</th>\n",
       "      <td>TW01030107000002287956</td>\n",
       "      <td>GHAZIABAD</td>\n",
       "    </tr>\n",
       "    <tr>\n",
       "      <th>14232</th>\n",
       "      <td>TW01030107000002289531</td>\n",
       "      <td>GAUTAM BUDDHA NAGAR</td>\n",
       "    </tr>\n",
       "    <tr>\n",
       "      <th>11941</th>\n",
       "      <td>TW01030107000002289531</td>\n",
       "      <td>GHAZIABAD</td>\n",
       "    </tr>\n",
       "    <tr>\n",
       "      <th>12049</th>\n",
       "      <td>TW01030107000002290308</td>\n",
       "      <td>GHAZIABAD</td>\n",
       "    </tr>\n",
       "    <tr>\n",
       "      <th>5054</th>\n",
       "      <td>TW01030107000002290308</td>\n",
       "      <td>GAUTAM BUDDHA NAGAR</td>\n",
       "    </tr>\n",
       "    <tr>\n",
       "      <th>4656</th>\n",
       "      <td>TW01030107000002294340</td>\n",
       "      <td>GHAZIABAD</td>\n",
       "    </tr>\n",
       "    <tr>\n",
       "      <th>2300</th>\n",
       "      <td>TW01030107000002294340</td>\n",
       "      <td>DELHI</td>\n",
       "    </tr>\n",
       "    <tr>\n",
       "      <th>11906</th>\n",
       "      <td>TW01030107000002298713</td>\n",
       "      <td>MEERUT</td>\n",
       "    </tr>\n",
       "    <tr>\n",
       "      <th>2559</th>\n",
       "      <td>TW01030107000002298713</td>\n",
       "      <td>GHAZIABAD</td>\n",
       "    </tr>\n",
       "    <tr>\n",
       "      <th>5518</th>\n",
       "      <td>TW01030108000002294033</td>\n",
       "      <td>DELHI</td>\n",
       "    </tr>\n",
       "    <tr>\n",
       "      <th>7809</th>\n",
       "      <td>TW01030108000002294033</td>\n",
       "      <td>Faridabad</td>\n",
       "    </tr>\n",
       "    <tr>\n",
       "      <th>5546</th>\n",
       "      <td>TW01030108000002294655</td>\n",
       "      <td>Faridabad</td>\n",
       "    </tr>\n",
       "    <tr>\n",
       "      <th>3185</th>\n",
       "      <td>TW01030108000002294655</td>\n",
       "      <td>GHAZIABAD</td>\n",
       "    </tr>\n",
       "  </tbody>\n",
       "</table>\n",
       "</div>"
      ],
      "text/plain": [
       "           LOAN_ACCOUNT_NO_og             res_City\n",
       "7680   TW01020102000002287270            BANGALORE\n",
       "14708  TW01020102000002287270     DAKSHINA KANNADA\n",
       "17677  TW01020102000002300868              CHENNAI\n",
       "17676  TW01020102000002300868            BANGALORE\n",
       "1334   TW01030104000002289675  GAUTAM BUDDHA NAGAR\n",
       "17598  TW01030104000002289675            GHAZIABAD\n",
       "4748   TW01030104000002289758  GAUTAM BUDDHA NAGAR\n",
       "16408  TW01030104000002289758            GHAZIABAD\n",
       "12626  TW01030104000002289777                DELHI\n",
       "5633   TW01030104000002289777            GHAZIABAD\n",
       "15390  TW01030104000002290112            GHAZIABAD\n",
       "13036  TW01030104000002290112  GAUTAM BUDDHA NAGAR\n",
       "14182  TW01030104000002291470  GAUTAM BUDDHA NAGAR\n",
       "9485   TW01030104000002291470            GHAZIABAD\n",
       "2562   TW01030104000002292222            GHAZIABAD\n",
       "9528   TW01030104000002292222  GAUTAM BUDDHA NAGAR\n",
       "9315   TW01030104000002293940  GAUTAM BUDDHA NAGAR\n",
       "14029  TW01030104000002293940            GHAZIABAD\n",
       "12566  TW01030104000002294019            GHAZIABAD\n",
       "14899  TW01030104000002294019  GAUTAM BUDDHA NAGAR\n",
       "5727   TW01030104000002294404                DELHI\n",
       "5728   TW01030104000002294404  GAUTAM BUDDHA NAGAR\n",
       "5477   TW01030104000002295202            GHAZIABAD\n",
       "10103  TW01030104000002295202                DELHI\n",
       "3144   TW01030104000002295275                DELHI\n",
       "17117  TW01030104000002295275            GHAZIABAD\n",
       "8237   TW01030104000002295290  GAUTAM BUDDHA NAGAR\n",
       "5973   TW01030104000002295290            GHAZIABAD\n",
       "10169  TW01030104000002295670            GHAZIABAD\n",
       "896    TW01030104000002295670  GAUTAM BUDDHA NAGAR\n",
       "7040   TW01030104000002295745  GAUTAM BUDDHA NAGAR\n",
       "14056  TW01030104000002295745            GHAZIABAD\n",
       "17662  TW01030104000002295761  GAUTAM BUDDHA NAGAR\n",
       "1389   TW01030104000002295761            GHAZIABAD\n",
       "17635  TW01030104000002295870            GHAZIABAD\n",
       "8280   TW01030104000002295870                DELHI\n",
       "8278   TW01030104000002296078  GAUTAM BUDDHA NAGAR\n",
       "15325  TW01030104000002296078            GHAZIABAD\n",
       "15334  TW01030104000002299918            GHAZIABAD\n",
       "12990  TW01030104000002299918  GAUTAM BUDDHA NAGAR\n",
       "5310   TW01030107000002287861            GHAZIABAD\n",
       "667    TW01030107000002287861  GAUTAM BUDDHA NAGAR\n",
       "729    TW01030107000002287956  GAUTAM BUDDHA NAGAR\n",
       "7673   TW01030107000002287956            GHAZIABAD\n",
       "14232  TW01030107000002289531  GAUTAM BUDDHA NAGAR\n",
       "11941  TW01030107000002289531            GHAZIABAD\n",
       "12049  TW01030107000002290308            GHAZIABAD\n",
       "5054   TW01030107000002290308  GAUTAM BUDDHA NAGAR\n",
       "4656   TW01030107000002294340            GHAZIABAD\n",
       "2300   TW01030107000002294340                DELHI\n",
       "11906  TW01030107000002298713               MEERUT\n",
       "2559   TW01030107000002298713            GHAZIABAD\n",
       "5518   TW01030108000002294033                DELHI\n",
       "7809   TW01030108000002294033            Faridabad\n",
       "5546   TW01030108000002294655            Faridabad\n",
       "3185   TW01030108000002294655            GHAZIABAD"
      ]
     },
     "execution_count": 118,
     "metadata": {},
     "output_type": "execute_result"
    }
   ],
   "source": [
    "# Group by LOAN_ACCOUNT_NO_og and filter groups where res_city differs\n",
    "different_status = (Jan_duplicates\n",
    "    .groupby('LOAN_ACCOUNT_NO_og')['res_City']\n",
    "    .agg(lambda x: len(set(x)) > 1)  # True if there are different values\n",
    "    .reset_index()\n",
    ")\n",
    "\n",
    "# Filter the original dataframe to show only those groups\n",
    "different_status_records = Jan_duplicates[\n",
    "    Jan_duplicates['LOAN_ACCOUNT_NO_og'].isin(\n",
    "        different_status[different_status['res_City']]['LOAN_ACCOUNT_NO_og']\n",
    "    )\n",
    "][['LOAN_ACCOUNT_NO_og', 'res_City']].sort_values('LOAN_ACCOUNT_NO_og')\n",
    "\n",
    "different_status_records"
   ]
  },
  {
   "cell_type": "code",
   "execution_count": null,
   "id": "4d7fb6d0-8ca7-4bd9-b99c-3b29bc7ba3b2",
   "metadata": {},
   "outputs": [],
   "source": []
  }
 ],
 "metadata": {
  "kernelspec": {
   "display_name": "Python 3 (ipykernel)",
   "language": "python",
   "name": "python3"
  },
  "language_info": {
   "codemirror_mode": {
    "name": "ipython",
    "version": 3
   },
   "file_extension": ".py",
   "mimetype": "text/x-python",
   "name": "python",
   "nbconvert_exporter": "python",
   "pygments_lexer": "ipython3",
   "version": "3.12.2"
  }
 },
 "nbformat": 4,
 "nbformat_minor": 5
}
